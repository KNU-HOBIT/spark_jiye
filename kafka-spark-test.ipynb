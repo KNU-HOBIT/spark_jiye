{
 "cells": [
  {
   "cell_type": "code",
   "execution_count": 1,
   "metadata": {},
   "outputs": [
    {
     "name": "stdout",
     "output_type": "stream",
     "text": [
      "FILES IN THIS DIRECTORY\n",
      "['.bashrc', '.bash_logout', '.profile', '.ipython', '.npm', '.bash_history', '.local', '.ipynb_checkpoints', 'config.json', '.jupyter', 'jars', '.conda', '.cache', '.config', '.wget-hsts', 'work']\n"
     ]
    }
   ],
   "source": [
    "from pyspark.sql import SparkSession, Row\n",
    "from pyspark.sql.functions import from_json\n",
    "from pyspark.sql.types import *\n",
    "from pyspark.conf import SparkConf\n",
    "from pyspark.context import SparkContext\n",
    "import time as timer\n",
    "import pandas as pd\n",
    "import numpy as np\n",
    "import argparse\n",
    "import datetime\n",
    "import json\n",
    "import os\n",
    "\n",
    "# 'value' 열의 JSON 문자열을 파싱하여 각각의 열로 만들기\n",
    "schema = StructType(\n",
    "    [\n",
    "        StructField(\"index\", IntegerType()),\n",
    "        StructField(\"blk_no\", StringType()),\n",
    "        StructField(\"press3\", IntegerType()),\n",
    "        StructField(\"calc_press2\", DoubleType()),\n",
    "        StructField(\"press4\", IntegerType()),\n",
    "        StructField(\"calc_press1\", DoubleType()),\n",
    "        StructField(\"calc_press4\", DoubleType()),\n",
    "        StructField(\"calc_press3\", DoubleType()),\n",
    "        StructField(\"bf_gps_lon\", DoubleType()),\n",
    "        StructField(\"gps_lat\", DoubleType()),\n",
    "        StructField(\"speed\", DoubleType()),\n",
    "        StructField(\"in_dt\", StringType()),\n",
    "        StructField(\"move_time\", DoubleType()),\n",
    "        StructField(\"dvc_id\", StringType()),\n",
    "        StructField(\"dsme_lat\", DoubleType()),\n",
    "        StructField(\"press1\", IntegerType()),\n",
    "        StructField(\"press2\", IntegerType()),\n",
    "        StructField(\"work_status\", IntegerType()),\n",
    "        StructField(\"timestamp\", StringType()),\n",
    "        StructField(\"is_adjust\", StringType()),\n",
    "        StructField(\"move_distance\", IntegerType()),\n",
    "        StructField(\"weight\", DoubleType()),\n",
    "        StructField(\"dsme_lon\", DoubleType()),\n",
    "        StructField(\"in_user\", StringType()),\n",
    "        StructField(\"eqp_id\", IntegerType()),\n",
    "        StructField(\"blk_get_seq_id\", IntegerType()),\n",
    "        StructField(\"lot_no\", StringType()),\n",
    "        StructField(\"proj_no\", StringType()),\n",
    "        StructField(\"gps_lon\", DoubleType()),\n",
    "        StructField(\"seq_id\", LongType()),\n",
    "        StructField(\"bf_gps_lat\", DoubleType()),\n",
    "        StructField(\"blk_dvc_id\", StringType()),\n",
    "    ]\n",
    ")\n",
    "\n",
    "print(\"FILES IN THIS DIRECTORY\")\n",
    "print(os.listdir(os.getcwd()))"
   ]
  },
  {
   "cell_type": "code",
   "execution_count": 2,
   "metadata": {},
   "outputs": [],
   "source": [
    "# config.json 파일 읽기\n",
    "with open(\"config.json\", \"r\") as f:\n",
    "    config = json.load(f)\n",
    "\n",
    "jar_urls = \",\".join(config[\"KAFKA_JAR_URLS\"])\n",
    "repartition_num = config[\"NUM_EXECUTORS\"] * config[\"EXECUTOR_CORES\"] * 2"
   ]
  },
  {
   "cell_type": "code",
   "execution_count": 3,
   "metadata": {},
   "outputs": [
    {
     "name": "stderr",
     "output_type": "stream",
     "text": [
      "WARNING: An illegal reflective access operation has occurred\n",
      "WARNING: Illegal reflective access by org.apache.spark.unsafe.Platform (file:/opt/conda/lib/python3.9/site-packages/pyspark/jars/spark-unsafe_2.12-3.2.4.jar) to constructor java.nio.DirectByteBuffer(long,int)\n",
      "WARNING: Please consider reporting this to the maintainers of org.apache.spark.unsafe.Platform\n",
      "WARNING: Use --illegal-access=warn to enable warnings of further illegal reflective access operations\n",
      "WARNING: All illegal access operations will be denied in a future release\n",
      "24/05/05 17:07:55 WARN NativeCodeLoader: Unable to load native-hadoop library for your platform... using builtin-java classes where applicable\n",
      "Using Spark's default log4j profile: org/apache/spark/log4j-defaults.properties\n",
      "Setting default log level to \"WARN\".\n",
      "To adjust logging level use sc.setLogLevel(newLevel). For SparkR, use setLogLevel(newLevel).\n"
     ]
    }
   ],
   "source": [
    "# SparkSession 생성\n",
    "spark = (\n",
    "    SparkSession.builder.master(\"spark://spark-master-service:7077\")\n",
    "    .config(\"spark.driver.host\", \"10.42.2.119\")\n",
    "    .config(\"spark.driver.port\", \"39337\")\n",
    "    .config(\"spark.executor.instances\", config[\"NUM_EXECUTORS\"])\n",
    "    .config(\"spark.executor.cores\", config[\"EXECUTOR_CORES\"])\n",
    "    .config(\"spark.executor.memory\", config[\"EXECUTOR_MEMORY\"])\n",
    "    .config(\"spark.defaul.parallelism\", repartition_num)\n",
    "    .config(\"spark.sql.shuffle.partitions\", repartition_num)\n",
    "    .config(\"spark.jars\", jar_urls)  # JAR 파일 포함\n",
    "    .appName(\"asdf\")\n",
    "    .getOrCreate()\n",
    ")\n",
    "\n",
    "sc = spark.sparkContext\n",
    "sc.setLogLevel(\"ERROR\")"
   ]
  },
  {
   "cell_type": "code",
   "execution_count": 4,
   "metadata": {},
   "outputs": [
    {
     "data": {
      "text/html": [
       "\n",
       "        <div>\n",
       "            <p><b>SparkContext</b></p>\n",
       "\n",
       "            <p><a href=\"http://10.42.2.119:4040\">Spark UI</a></p>\n",
       "\n",
       "            <dl>\n",
       "              <dt>Version</dt>\n",
       "                <dd><code>v3.2.4</code></dd>\n",
       "              <dt>Master</dt>\n",
       "                <dd><code>spark://spark-master-service:7077</code></dd>\n",
       "              <dt>AppName</dt>\n",
       "                <dd><code>asdf</code></dd>\n",
       "            </dl>\n",
       "        </div>\n",
       "        "
      ],
      "text/plain": [
       "<SparkContext master=spark://spark-master-service:7077 appName=asdf>"
      ]
     },
     "execution_count": 4,
     "metadata": {},
     "output_type": "execute_result"
    }
   ],
   "source": [
    "sc"
   ]
  },
  {
   "cell_type": "code",
   "execution_count": 5,
   "metadata": {},
   "outputs": [
    {
     "name": "stdout",
     "output_type": "stream",
     "text": [
      "Current Spark configuration:\n",
      "spark.app.id = app-20240505170756-0059\n",
      "spark.app.initial.jar.urls = spark://10.42.2.119:39337/jars/commons-pool2-2.6.2.jar,spark://10.42.2.119:39337/jars/commons-logging-1.1.3.jar,spark://10.42.2.119:39337/jars/hadoop-client-runtime-3.3.1.jar,spark://10.42.2.119:39337/jars/jsr305-3.0.0.jar,spark://10.42.2.119:39337/jars/htrace-core4-4.1.0-incubating.jar,spark://10.42.2.119:39337/jars/kafka-clients-2.8.1.jar,spark://10.42.2.119:39337/jars/spark-streaming-kafka-0-10_2.12-3.2.4.jar,spark://10.42.2.119:39337/jars/hadoop-client-api-3.3.1.jar,spark://10.42.2.119:39337/jars/spark-sql-kafka-0-10_2.12-3.2.4.jar,spark://10.42.2.119:39337/jars/spark-token-provider-kafka-0-10_2.12-3.2.4.jar\n",
      "spark.app.name = asdf\n",
      "spark.app.startTime = 1714928875560\n",
      "spark.defaul.parallelism = 96\n",
      "spark.driver.host = 10.42.2.119\n",
      "spark.driver.port = 39337\n",
      "spark.executor.cores = 16\n",
      "spark.executor.id = driver\n",
      "spark.executor.instances = 3\n",
      "spark.executor.memory = 24G\n",
      "spark.jars = jars/jsr305-3.0.0.jar,jars/commons-logging-1.1.3.jar,jars/commons-pool2-2.6.2.jar,jars/hadoop-client-api-3.3.1.jar,jars/hadoop-client-runtime-3.3.1.jar,jars/htrace-core4-4.1.0-incubating.jar,jars/kafka-clients-2.8.1.jar,jars/spark-token-provider-kafka-0-10_2.12-3.2.4.jar,jars/spark-sql-kafka-0-10_2.12-3.2.4.jar,jars/spark-streaming-kafka-0-10_2.12-3.2.4.jar\n",
      "spark.master = spark://spark-master-service:7077\n",
      "spark.rdd.compress = True\n",
      "spark.repl.local.jars = file:///home/jovyan/jars/jsr305-3.0.0.jar,file:///home/jovyan/jars/commons-logging-1.1.3.jar,file:///home/jovyan/jars/commons-pool2-2.6.2.jar,file:///home/jovyan/jars/hadoop-client-api-3.3.1.jar,file:///home/jovyan/jars/hadoop-client-runtime-3.3.1.jar,file:///home/jovyan/jars/htrace-core4-4.1.0-incubating.jar,file:///home/jovyan/jars/kafka-clients-2.8.1.jar,file:///home/jovyan/jars/spark-token-provider-kafka-0-10_2.12-3.2.4.jar,file:///home/jovyan/jars/spark-sql-kafka-0-10_2.12-3.2.4.jar,file:///home/jovyan/jars/spark-streaming-kafka-0-10_2.12-3.2.4.jar\n",
      "spark.serializer.objectStreamReset = 100\n",
      "spark.sql.shuffle.partitions = 96\n",
      "spark.sql.warehouse.dir = file:/home/jovyan/spark-warehouse\n",
      "spark.submit.deployMode = client\n",
      "spark.submit.pyFiles = \n",
      "spark.ui.showConsoleProgress = true\n"
     ]
    }
   ],
   "source": [
    "print(\"Current Spark configuration:\")\n",
    "for key, value in sorted(sc._conf.getAll(), key=lambda x: x[0]):\n",
    "    print(f\"{key} = {value}\")"
   ]
  },
  {
   "cell_type": "code",
   "execution_count": 6,
   "metadata": {},
   "outputs": [
    {
     "name": "stdout",
     "output_type": "stream",
     "text": [
      "root\n",
      " |-- createTime: string (nullable = true)\n",
      " |-- index: integer (nullable = true)\n",
      " |-- blk_no: string (nullable = true)\n",
      " |-- press3: integer (nullable = true)\n",
      " |-- calc_press2: double (nullable = true)\n",
      " |-- press4: integer (nullable = true)\n",
      " |-- calc_press1: double (nullable = true)\n",
      " |-- calc_press4: double (nullable = true)\n",
      " |-- calc_press3: double (nullable = true)\n",
      " |-- bf_gps_lon: double (nullable = true)\n",
      " |-- gps_lat: double (nullable = true)\n",
      " |-- speed: double (nullable = true)\n",
      " |-- in_dt: string (nullable = true)\n",
      " |-- move_time: double (nullable = true)\n",
      " |-- dvc_id: string (nullable = true)\n",
      " |-- dsme_lat: double (nullable = true)\n",
      " |-- press1: integer (nullable = true)\n",
      " |-- press2: integer (nullable = true)\n",
      " |-- work_status: integer (nullable = true)\n",
      " |-- timestamp: string (nullable = true)\n",
      " |-- is_adjust: string (nullable = true)\n",
      " |-- move_distance: integer (nullable = true)\n",
      " |-- weight: double (nullable = true)\n",
      " |-- dsme_lon: double (nullable = true)\n",
      " |-- in_user: string (nullable = true)\n",
      " |-- eqp_id: integer (nullable = true)\n",
      " |-- blk_get_seq_id: integer (nullable = true)\n",
      " |-- lot_no: string (nullable = true)\n",
      " |-- proj_no: string (nullable = true)\n",
      " |-- gps_lon: double (nullable = true)\n",
      " |-- seq_id: long (nullable = true)\n",
      " |-- bf_gps_lat: double (nullable = true)\n",
      " |-- blk_dvc_id: string (nullable = true)\n",
      "\n"
     ]
    }
   ],
   "source": [
    "# 그냥 가져오기\n",
    "df = (\n",
    "    spark.read.format(\"kafka\")\n",
    "    .option(\"kafka.bootstrap.servers\", \"my-cluster-kafka-bootstrap.kafka.svc:9092\")\n",
    "    .option(\"subscribe\", \"my-topic\")\n",
    "    .load()\n",
    ")  # 밀리초 단위 에포치 시간endingTimestamp\n",
    "df = df.selectExpr(\"CAST(value AS STRING)\", \"CAST(timestamp AS STRING)\")\n",
    "df = df.withColumnRenamed(\"timestamp\", \"createTime\")\n",
    "df = df.withColumn(\"value\", from_json(df[\"value\"], schema))\n",
    "for field in schema.fields:\n",
    "    df = df.withColumn(field.name, df[\"value.\" + field.name])\n",
    "df = df.drop(\"value\")\n",
    "# 이거쓰면 df가 repartition_num 수만큼 쪼개져서 병렬처리가능한 상태가 됨.\n",
    "df = df.repartition(repartition_num)\n",
    "df.printSchema()"
   ]
  },
  {
   "cell_type": "code",
   "execution_count": 7,
   "metadata": {},
   "outputs": [
    {
     "name": "stderr",
     "output_type": "stream",
     "text": [
      "                                                                                \r"
     ]
    },
    {
     "name": "stdout",
     "output_type": "stream",
     "text": [
      "+-----------------------+-----+------+------+-----------+------+-----------+-----------+-----------+----------+--------+-----+-----------------------+---------+-----------+----------------+------+------+-----------+-----------------------+---------+-------------+-------+----------------+-------------------------------------------------+------+--------------+------+-------+----------+---------+----------+----------+\n",
      "|createTime             |index|blk_no|press3|calc_press2|press4|calc_press1|calc_press4|calc_press3|bf_gps_lon|gps_lat |speed|in_dt                  |move_time|dvc_id     |dsme_lat        |press1|press2|work_status|timestamp              |is_adjust|move_distance|weight |dsme_lon        |in_user                                          |eqp_id|blk_get_seq_id|lot_no|proj_no|gps_lon   |seq_id   |bf_gps_lat|blk_dvc_id|\n",
      "+-----------------------+-----+------+------+-----------+------+-----------+-----------+-----------+----------+--------+-----+-----------------------+---------+-----------+----------------+------+------+-----------+-----------------------+---------+-------------+-------+----------------+-------------------------------------------------+------+--------------+------+-------+----------+---------+----------+----------+\n",
      "|2024-05-05 05:50:29.78 |9213 |null  |537   |30.794     |469   |37.4372    |32.4548    |37.1604    |128.699885|34.86743|2.11 |2020-09-01 09:00:06.406|1.203    |ITM.TPT_013|252428.737193527|541   |445   |1          |2020-09-01 09:00:06.322|N        |1            |59.8464|172558.893900683|DCC.Transporter.TT_Subscriptions_TAG_TRANSM_30762|201   |-1            |null  |null   |128.699885|109017338|34.86743  |null      |\n",
      "|2024-05-05 05:50:20.652|9213 |null  |537   |30.794     |469   |37.4372    |32.4548    |37.1604    |128.699885|34.86743|2.11 |2020-09-01 09:00:05.406|1.203    |ITM.TPT_013|252428.737193527|541   |445   |1          |2020-09-01 09:00:05.322|N        |1            |59.8464|172558.893900683|DCC.Transporter.TT_Subscriptions_TAG_TRANSM_30762|201   |-1            |null  |null   |128.699885|109017338|34.86743  |null      |\n",
      "|2024-05-05 05:50:08.46 |9213 |null  |537   |30.794     |469   |37.4372    |32.4548    |37.1604    |128.699885|34.86743|2.11 |2020-09-01 09:00:04.406|1.203    |ITM.TPT_013|252428.737193527|541   |445   |1          |2020-09-01 09:00:04.322|N        |1            |59.8464|172558.893900683|DCC.Transporter.TT_Subscriptions_TAG_TRANSM_30762|201   |-1            |null  |null   |128.699885|109017338|34.86743  |null      |\n",
      "+-----------------------+-----+------+------+-----------+------+-----------+-----------+-----------+----------+--------+-----+-----------------------+---------+-----------+----------------+------+------+-----------+-----------------------+---------+-------------+-------+----------------+-------------------------------------------------+------+--------------+------+-------+----------+---------+----------+----------+\n",
      "\n"
     ]
    }
   ],
   "source": [
    "df.show(truncate=False)"
   ]
  },
  {
   "cell_type": "markdown",
   "metadata": {},
   "source": [
    "타임스탬프를 밀리초 단위로 에포치(epoch)하는 것은 Unix epoch 시간 형식을 사용하는 것을 의미합니다. Unix epoch 시간은 1970년 1월 1일 00:00:00 UTC를 기준으로 경과된 시간을 초 또는 밀리초 단위로 나타낸 것입니다.\n",
    "\n",
    "Unix 에포치 시간\n",
    "Unix 에포치 시간은 특정 시점의 시간을 나타내는 일반적인 방식으로, 아래와 같이 두 가지 방법으로 나타낼 수 있습니다:\n",
    "\n",
    "초 단위로 표현:\n",
    "예: 1633052800 (이는 2021년 10월 1일 00:00:00 UTC에 해당합니다)\n",
    "밀리초 단위로 표현:\n",
    "예: 1633052800000 (이는 2021년 10월 1일 00:00:00 UTC에 해당합니다)\n",
    "밀리초 단위는 초 단위보다 정확한 표현으로, 초 단위의 값에 1000을 곱하여 밀리초 단위로 변환할 수 있습니다.\n",
    "\n",
    "startingTimestamp에 밀리초 단위 Unix 타임스탬프 사용\n",
    "startingTimestamp 옵션은 Unix epoch 시간을 밀리초 단위로 받습니다. 예를 들어, 2021년 10월 1일 00:00:00 UTC 이후에 생성된 메시지를 읽으려면 startingTimestamp를 1633052800000으로 설정해야 합니다."
   ]
  },
  {
   "cell_type": "code",
   "execution_count": 10,
   "metadata": {},
   "outputs": [],
   "source": [
    "from datetime import datetime\n",
    "\n",
    "\n",
    "def to_milliseconds_epoch(timestamp_str):\n",
    "    # 주어진 문자열을 datetime 객체로 변환\n",
    "    dt = datetime.strptime(timestamp_str, \"%Y-%m-%d %H:%M:%S.%f\")\n",
    "    # 에포치 시간을 구한 뒤 밀리초 단위로 변환\n",
    "    milliseconds_epoch = int(dt.timestamp() * 1000)\n",
    "    return milliseconds_epoch"
   ]
  },
  {
   "cell_type": "code",
   "execution_count": 11,
   "metadata": {},
   "outputs": [
    {
     "data": {
      "text/plain": [
       "1714888220652"
      ]
     },
     "execution_count": 11,
     "metadata": {},
     "output_type": "execute_result"
    }
   ],
   "source": [
    "# 테스트\n",
    "result = to_milliseconds_epoch(\"2024-05-05 05:50:20.652\")\n",
    "result"
   ]
  },
  {
   "cell_type": "code",
   "execution_count": 8,
   "metadata": {},
   "outputs": [
    {
     "name": "stdout",
     "output_type": "stream",
     "text": [
      "root\n",
      " |-- createTime: string (nullable = true)\n",
      " |-- index: integer (nullable = true)\n",
      " |-- blk_no: string (nullable = true)\n",
      " |-- press3: integer (nullable = true)\n",
      " |-- calc_press2: double (nullable = true)\n",
      " |-- press4: integer (nullable = true)\n",
      " |-- calc_press1: double (nullable = true)\n",
      " |-- calc_press4: double (nullable = true)\n",
      " |-- calc_press3: double (nullable = true)\n",
      " |-- bf_gps_lon: double (nullable = true)\n",
      " |-- gps_lat: double (nullable = true)\n",
      " |-- speed: double (nullable = true)\n",
      " |-- in_dt: string (nullable = true)\n",
      " |-- move_time: double (nullable = true)\n",
      " |-- dvc_id: string (nullable = true)\n",
      " |-- dsme_lat: double (nullable = true)\n",
      " |-- press1: integer (nullable = true)\n",
      " |-- press2: integer (nullable = true)\n",
      " |-- work_status: integer (nullable = true)\n",
      " |-- timestamp: string (nullable = true)\n",
      " |-- is_adjust: string (nullable = true)\n",
      " |-- move_distance: integer (nullable = true)\n",
      " |-- weight: double (nullable = true)\n",
      " |-- dsme_lon: double (nullable = true)\n",
      " |-- in_user: string (nullable = true)\n",
      " |-- eqp_id: integer (nullable = true)\n",
      " |-- blk_get_seq_id: integer (nullable = true)\n",
      " |-- lot_no: string (nullable = true)\n",
      " |-- proj_no: string (nullable = true)\n",
      " |-- gps_lon: double (nullable = true)\n",
      " |-- seq_id: long (nullable = true)\n",
      " |-- bf_gps_lat: double (nullable = true)\n",
      " |-- blk_dvc_id: string (nullable = true)\n",
      "\n"
     ]
    }
   ],
   "source": [
    "# 메세지 생성 시간을 Unix 밀리초 단위로 에포치한 값으로 변환하여, 시간 범위로 데이터 가져오기!!\n",
    "# 메세지 생성이 2024-05-05 05:50:20.652 이때 된 메세지의 createTime을 startingTimestamp로 설정\n",
    "# endingTimestamp는 대충 임의로 10_000_000 밀리초정도 더 높게 설정.\n",
    "# startingOffsetsByTimestampStrategy 설정을 통해서, No offset matched from request of topic 오류 해결.\n",
    "df = (\n",
    "    spark.read.format(\"kafka\")\n",
    "    .option(\"kafka.bootstrap.servers\", \"my-cluster-kafka-bootstrap.kafka.svc:9092\")\n",
    "    .option(\"subscribe\", \"my-topic\")\n",
    "    .option(\"startingOffsetsByTimestampStrategy\", \"latest\")\n",
    "    .option(\"startingTimestamp\", \"1714888220652\")\n",
    "    .option(\"endingTimestamp\", \"1714898220652\")\n",
    "    .load()\n",
    ")  # 밀리초 단위 에포치 시간endingTimestamp\n",
    "df = df.selectExpr(\"CAST(value AS STRING)\", \"CAST(timestamp AS STRING)\")\n",
    "df = df.withColumnRenamed(\"timestamp\", \"createTime\")\n",
    "df = df.withColumn(\"value\", from_json(df[\"value\"], schema))\n",
    "for field in schema.fields:\n",
    "    df = df.withColumn(field.name, df[\"value.\" + field.name])\n",
    "df = df.drop(\"value\")\n",
    "# 이거쓰면 df가 repartition_num 수만큼 쪼개져서 병렬처리가능한 상태가 됨.\n",
    "df = df.repartition(repartition_num)\n",
    "df.printSchema()"
   ]
  },
  {
   "cell_type": "code",
   "execution_count": 9,
   "metadata": {},
   "outputs": [
    {
     "name": "stderr",
     "output_type": "stream",
     "text": [
      "[Stage 9:=============================>                             (1 + 1) / 2]\r"
     ]
    },
    {
     "name": "stdout",
     "output_type": "stream",
     "text": [
      "+-----------------------+-----+------+------+-----------+------+-----------+-----------+-----------+----------+--------+-----+-----------------------+---------+-----------+----------------+------+------+-----------+-----------------------+---------+-------------+-------+----------------+-------------------------------------------------+------+--------------+------+-------+----------+---------+----------+----------+\n",
      "|createTime             |index|blk_no|press3|calc_press2|press4|calc_press1|calc_press4|calc_press3|bf_gps_lon|gps_lat |speed|in_dt                  |move_time|dvc_id     |dsme_lat        |press1|press2|work_status|timestamp              |is_adjust|move_distance|weight |dsme_lon        |in_user                                          |eqp_id|blk_get_seq_id|lot_no|proj_no|gps_lon   |seq_id   |bf_gps_lat|blk_dvc_id|\n",
      "+-----------------------+-----+------+------+-----------+------+-----------+-----------+-----------+----------+--------+-----+-----------------------+---------+-----------+----------------+------+------+-----------+-----------------------+---------+-------------+-------+----------------+-------------------------------------------------+------+--------------+------+-------+----------+---------+----------+----------+\n",
      "|2024-05-05 05:50:29.78 |9213 |null  |537   |30.794     |469   |37.4372    |32.4548    |37.1604    |128.699885|34.86743|2.11 |2020-09-01 09:00:06.406|1.203    |ITM.TPT_013|252428.737193527|541   |445   |1          |2020-09-01 09:00:06.322|N        |1            |59.8464|172558.893900683|DCC.Transporter.TT_Subscriptions_TAG_TRANSM_30762|201   |-1            |null  |null   |128.699885|109017338|34.86743  |null      |\n",
      "|2024-05-05 05:50:20.652|9213 |null  |537   |30.794     |469   |37.4372    |32.4548    |37.1604    |128.699885|34.86743|2.11 |2020-09-01 09:00:05.406|1.203    |ITM.TPT_013|252428.737193527|541   |445   |1          |2020-09-01 09:00:05.322|N        |1            |59.8464|172558.893900683|DCC.Transporter.TT_Subscriptions_TAG_TRANSM_30762|201   |-1            |null  |null   |128.699885|109017338|34.86743  |null      |\n",
      "+-----------------------+-----+------+------+-----------+------+-----------+-----------+-----------+----------+--------+-----+-----------------------+---------+-----------+----------------+------+------+-----------+-----------------------+---------+-------------+-------+----------------+-------------------------------------------------+------+--------------+------+-------+----------+---------+----------+----------+\n",
      "\n"
     ]
    },
    {
     "name": "stderr",
     "output_type": "stream",
     "text": [
      "                                                                                \r"
     ]
    }
   ],
   "source": [
    "df.show(truncate=False)"
   ]
  },
  {
   "cell_type": "code",
   "execution_count": 12,
   "metadata": {},
   "outputs": [],
   "source": [
    "# SparkSession 종료\n",
    "spark.stop()"
   ]
  }
 ],
 "metadata": {
  "kernelspec": {
   "display_name": "Python 3 (ipykernel)",
   "language": "python",
   "name": "python3"
  },
  "language_info": {
   "codemirror_mode": {
    "name": "ipython",
    "version": 3
   },
   "file_extension": ".py",
   "mimetype": "text/x-python",
   "name": "python",
   "nbconvert_exporter": "python",
   "pygments_lexer": "ipython3",
   "version": "3.9.18"
  }
 },
 "nbformat": 4,
 "nbformat_minor": 2
}

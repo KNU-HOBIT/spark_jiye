{
 "cells": [
  {
   "cell_type": "code",
   "execution_count": 1,
   "id": "13932029",
   "metadata": {},
   "outputs": [
    {
     "name": "stdout",
     "output_type": "stream",
     "text": [
      "FILES IN THIS DIRECTORY\n",
      "['.bashrc', '.bash_logout', '.profile', '.ipython', '.cache', '.npm', '.bash_history', '.local', '.ipynb_checkpoints', 'config.json', '.jupyter', 'jars', '.conda', '.config', '.wget-hsts', 'work']\n"
     ]
    }
   ],
   "source": [
    "from pyspark.sql import SparkSession, Row\n",
    "from pyspark.sql.functions import from_json\n",
    "from pyspark.sql.types import *\n",
    "from pyspark.conf import SparkConf\n",
    "from pyspark.context import SparkContext\n",
    "import time as timer\n",
    "import argparse\n",
    "import datetime\n",
    "import json\n",
    "from pyspark.sql.functions import col, abs, mean, expr, substring, udf\n",
    "from pyspark.ml.feature import StringIndexer\n",
    "from pyspark.ml.feature import VectorAssembler\n",
    "from pyspark.ml.regression import LinearRegression\n",
    "from pyspark.ml.regression import RandomForestRegressor\n",
    "\n",
    "from pyspark.sql.functions import udf\n",
    "from pyspark.sql.types import DoubleType\n",
    "\n",
    "import random\n",
    "import pandas as pd\n",
    "import numpy as np\n",
    "import os\n",
    "from tqdm import tqdm\n",
    "#import lightgbm as lgb\n",
    "\n",
    "os.environ['PYSPARK_SUBMIT_ARGS'] = '--conf spark.driver.extraJavaOptions=-Dio.netty.tryReflectionSetAccessible=true --conf spark.executor.extraJavaOptions=-Dio.netty.tryReflectionSetAccessible=true pyspark-shell'\n",
    "\n",
    "schema = StructType(\n",
    "    [\n",
    "        StructField(\"num_date_time\", StringType()),\n",
    "        StructField(\"건물번호\", StringType()),\n",
    "        StructField(\"일시\", StringType()),\n",
    "        StructField(\"기온(C)\", StringType()),\n",
    "        StructField(\"강수량(mm)\", StringType()),\n",
    "        StructField(\"풍속(m/s)\", StringType()),\n",
    "        StructField(\"습도(%)\", StringType()),\n",
    "        StructField(\"일조(hr)\", StringType()),\n",
    "        StructField(\"일사(MJ/m2)\", StringType()),\n",
    "        StructField(\"전력소비량(kWh)\", StringType()),\n",
    "    ]\n",
    ")\n",
    "\n",
    "schema2 = StructType(\n",
    "    [\n",
    "        StructField(\"num_date_time\", StringType()),\n",
    "        StructField(\"건물번호\", StringType()),\n",
    "        StructField(\"일시\", StringType()),\n",
    "        StructField(\"기온(C)\", StringType()),\n",
    "        StructField(\"강수량(mm)\", StringType()),\n",
    "        StructField(\"풍속(m/s)\", StringType()),\n",
    "        StructField(\"습도(%)\", StringType()),\n",
    "    ]\n",
    ")\n",
    "\n",
    "schema3 = StructType(\n",
    "    [\n",
    "        StructField(\"건물번호\", StringType()),\n",
    "        StructField(\"건물유형\", StringType()),\n",
    "        StructField(\"연면적(m2)\", StringType()),\n",
    "        StructField(\"냉방면적(m2)\", StringType()),\n",
    "        StructField(\"태양광용량(kW)\", StringType()),\n",
    "        StructField(\"ESS저장용량(kWh)\", StringType()),\n",
    "        StructField(\"PCS용량(kW)\", StringType()),\n",
    "    ]\n",
    ")\n",
    "\n",
    "\n",
    "\n",
    "print(\"FILES IN THIS DIRECTORY\")\n",
    "print(os.listdir(os.getcwd()))"
   ]
  },
  {
   "cell_type": "markdown",
   "id": "QT7_IBn9QwYz",
   "metadata": {
    "id": "QT7_IBn9QwYz"
   },
   "source": [
    "## Fixed Random-Seed"
   ]
  },
  {
   "cell_type": "code",
   "execution_count": 2,
   "id": "KgyHxME7QwYz",
   "metadata": {
    "ExecuteTime": {
     "end_time": "2022-07-11T08:41:57.009050Z",
     "start_time": "2022-07-11T08:41:57.006949Z"
    },
    "executionInfo": {
     "elapsed": 2,
     "status": "ok",
     "timestamp": 1683473189486,
     "user": {
      "displayName": "이승윤",
      "userId": "17995305622900705411"
     },
     "user_tz": -540
    },
    "id": "KgyHxME7QwYz"
   },
   "outputs": [],
   "source": [
    "def seed_everything(seed):\n",
    "    random.seed(seed)\n",
    "    os.environ['PYTHONHASHSEED'] = str(seed)\n",
    "    np.random.seed(seed)\n",
    "\n",
    "seed_everything(42) # Seed 고정"
   ]
  },
  {
   "cell_type": "code",
   "execution_count": 3,
   "id": "c8aa0773",
   "metadata": {},
   "outputs": [],
   "source": [
    "#config.json 파일 읽기\n",
    "with open(\"config.json\", \"r\") as f:\n",
    "   config = json.load(f)\n",
    "\n",
    "jar_urls = \",\".join(config[\"KAFKA_JAR_URLS\"])\n",
    "repartition_num = config[\"NUM_EXECUTORS\"] * config[\"EXECUTOR_CORES\"] * 2\n",
    "\n"
   ]
  },
  {
   "cell_type": "code",
   "execution_count": 4,
   "id": "513a9c19",
   "metadata": {},
   "outputs": [
    {
     "name": "stderr",
     "output_type": "stream",
     "text": [
      "WARNING: An illegal reflective access operation has occurred\n",
      "WARNING: Illegal reflective access by org.apache.spark.unsafe.Platform (file:/opt/conda/lib/python3.9/site-packages/pyspark/jars/spark-unsafe_2.12-3.2.4.jar) to constructor java.nio.DirectByteBuffer(long,int)\n",
      "WARNING: Please consider reporting this to the maintainers of org.apache.spark.unsafe.Platform\n",
      "WARNING: Use --illegal-access=warn to enable warnings of further illegal reflective access operations\n",
      "WARNING: All illegal access operations will be denied in a future release\n",
      "24/05/26 05:16:43 WARN NativeCodeLoader: Unable to load native-hadoop library for your platform... using builtin-java classes where applicable\n",
      "Using Spark's default log4j profile: org/apache/spark/log4j-defaults.properties\n",
      "Setting default log level to \"WARN\".\n",
      "To adjust logging level use sc.setLogLevel(newLevel). For SparkR, use setLogLevel(newLevel).\n"
     ]
    }
   ],
   "source": [
    "# SparkSession 생성\n",
    "spark = (\n",
    "    SparkSession.builder.master(\"spark://spark-master-service:7077\")\n",
    "    .config(\"spark.driver.bindAddress\", \"0.0.0.0\")\n",
    "    .config(\"spark.driver.host\", \"10.42.2.18\")\n",
    "    .config(\"spark.driver.port\", \"39337\")\n",
    "    .config(\"spark.cores.max\", \"48\")\n",
    "    .config(\"spark.network.timeout\", \"600s\")\n",
    "    .config(\"spark.executor.instances\", config[\"NUM_EXECUTORS\"])\n",
    "    .config(\"spark.executor.cores\", config[\"EXECUTOR_CORES\"])\n",
    "    .config(\"spark.executor.memory\", config[\"EXECUTOR_MEMORY\"])   \n",
    "    .config(\"spark.driver.memory\", \"30g\")\n",
    "    .config(\"spark.memory.offHeap.enabled\", \"true\")\n",
    "    .config(\"spark.memory.offHeap.size\",\"20g\")\n",
    "    \n",
    "    .config(\"spark.defaul.parallelism\", repartition_num)\n",
    "    .config(\"spark.sql.shuffle.partitions\", repartition_num)\n",
    "    .config(\"spark.driver.extraJavaOptions\", \"--illegal-access=permit\")\n",
    "    .config(\"spark.executor.extraJavaOptions\", \"--illegal-access=permit\")\n",
    "    .config(\"spark.jars\", jar_urls)  # JAR 파일 포함\n",
    "    .appName(\"asdf\")\n",
    "    .getOrCreate()\n",
    ")\n",
    "\n",
    "sc = spark.sparkContext\n",
    "sc.setLogLevel(\"ERROR\")"
   ]
  },
  {
   "cell_type": "code",
   "execution_count": 5,
   "id": "5a544621",
   "metadata": {},
   "outputs": [
    {
     "data": {
      "text/html": [
       "\n",
       "        <div>\n",
       "            <p><b>SparkContext</b></p>\n",
       "\n",
       "            <p><a href=\"http://10.42.2.18:4040\">Spark UI</a></p>\n",
       "\n",
       "            <dl>\n",
       "              <dt>Version</dt>\n",
       "                <dd><code>v3.2.4</code></dd>\n",
       "              <dt>Master</dt>\n",
       "                <dd><code>spark://spark-master-service:7077</code></dd>\n",
       "              <dt>AppName</dt>\n",
       "                <dd><code>asdf</code></dd>\n",
       "            </dl>\n",
       "        </div>\n",
       "        "
      ],
      "text/plain": [
       "<SparkContext master=spark://spark-master-service:7077 appName=asdf>"
      ]
     },
     "execution_count": 5,
     "metadata": {},
     "output_type": "execute_result"
    }
   ],
   "source": [
    "sc"
   ]
  },
  {
   "cell_type": "code",
   "execution_count": 6,
   "id": "d4144ecc",
   "metadata": {},
   "outputs": [
    {
     "name": "stdout",
     "output_type": "stream",
     "text": [
      "Current Spark configuration:\n",
      "spark.app.id = app-20240526051644-0405\n",
      "spark.app.initial.jar.urls = spark://10.42.2.18:39337/jars/commons-pool2-2.6.2.jar,spark://10.42.2.18:39337/jars/hadoop-client-api-3.3.1.jar,spark://10.42.2.18:39337/jars/kafka-clients-2.8.1.jar,spark://10.42.2.18:39337/jars/spark-sql-kafka-0-10_2.12-3.2.4.jar,spark://10.42.2.18:39337/jars/hadoop-client-runtime-3.3.1.jar,spark://10.42.2.18:39337/jars/htrace-core4-4.1.0-incubating.jar,spark://10.42.2.18:39337/jars/commons-logging-1.1.3.jar,spark://10.42.2.18:39337/jars/spark-streaming-kafka-0-10_2.12-3.2.4.jar,spark://10.42.2.18:39337/jars/jsr305-3.0.0.jar,spark://10.42.2.18:39337/jars/spark-token-provider-kafka-0-10_2.12-3.2.4.jar\n",
      "spark.app.name = asdf\n",
      "spark.app.startTime = 1716700603983\n",
      "spark.cores.max = 48\n",
      "spark.defaul.parallelism = 96\n",
      "spark.driver.bindAddress = 0.0.0.0\n",
      "spark.driver.extraJavaOptions = --illegal-access=permit\n",
      "spark.driver.host = 10.42.2.18\n",
      "spark.driver.memory = 30g\n",
      "spark.driver.port = 39337\n",
      "spark.executor.cores = 16\n",
      "spark.executor.extraJavaOptions = --illegal-access=permit\n",
      "spark.executor.id = driver\n",
      "spark.executor.instances = 3\n",
      "spark.executor.memory = 24G\n",
      "spark.jars = jars/jsr305-3.0.0.jar,jars/commons-logging-1.1.3.jar,jars/commons-pool2-2.6.2.jar,jars/hadoop-client-api-3.3.1.jar,jars/hadoop-client-runtime-3.3.1.jar,jars/htrace-core4-4.1.0-incubating.jar,jars/kafka-clients-2.8.1.jar,jars/spark-token-provider-kafka-0-10_2.12-3.2.4.jar,jars/spark-sql-kafka-0-10_2.12-3.2.4.jar,jars/spark-streaming-kafka-0-10_2.12-3.2.4.jar\n",
      "spark.master = spark://spark-master-service:7077\n",
      "spark.memory.offHeap.enabled = true\n",
      "spark.memory.offHeap.size = 20g\n",
      "spark.network.timeout = 600s\n",
      "spark.rdd.compress = True\n",
      "spark.repl.local.jars = file:///home/jovyan/jars/jsr305-3.0.0.jar,file:///home/jovyan/jars/commons-logging-1.1.3.jar,file:///home/jovyan/jars/commons-pool2-2.6.2.jar,file:///home/jovyan/jars/hadoop-client-api-3.3.1.jar,file:///home/jovyan/jars/hadoop-client-runtime-3.3.1.jar,file:///home/jovyan/jars/htrace-core4-4.1.0-incubating.jar,file:///home/jovyan/jars/kafka-clients-2.8.1.jar,file:///home/jovyan/jars/spark-token-provider-kafka-0-10_2.12-3.2.4.jar,file:///home/jovyan/jars/spark-sql-kafka-0-10_2.12-3.2.4.jar,file:///home/jovyan/jars/spark-streaming-kafka-0-10_2.12-3.2.4.jar\n",
      "spark.serializer.objectStreamReset = 100\n",
      "spark.sql.shuffle.partitions = 96\n",
      "spark.sql.warehouse.dir = file:/home/jovyan/spark-warehouse\n",
      "spark.submit.deployMode = client\n",
      "spark.submit.pyFiles = \n",
      "spark.ui.showConsoleProgress = true\n"
     ]
    }
   ],
   "source": [
    "print(\"Current Spark configuration:\")\n",
    "for key, value in sorted(sc._conf.getAll(), key=lambda x: x[0]):\n",
    "    print(f\"{key} = {value}\")"
   ]
  },
  {
   "cell_type": "code",
   "execution_count": 7,
   "id": "a1afdca2",
   "metadata": {},
   "outputs": [
    {
     "name": "stdout",
     "output_type": "stream",
     "text": [
      "root\n",
      " |-- createTime: string (nullable = true)\n",
      " |-- 건물번호: string (nullable = true)\n",
      " |-- 건물유형: string (nullable = true)\n",
      " |-- 연면적(m2): string (nullable = true)\n",
      " |-- 냉방면적(m2): string (nullable = true)\n",
      " |-- 태양광용량(kW): string (nullable = true)\n",
      " |-- ESS저장용량(kWh): string (nullable = true)\n",
      " |-- PCS용량(kW): string (nullable = true)\n",
      "\n"
     ]
    }
   ],
   "source": [
    "# 그냥 가져오기\n",
    "building_sdf = (\n",
    "    spark.read.format(\"kafka\")\n",
    "    .option(\"kafka.bootstrap.servers\", \"my-cluster-kafka-bootstrap.kafka.svc:9092\")\n",
    "    .option(\"subscribe\", \"building-jy\")\n",
    "    .option(\"kafka.group.id\", \"my_consumer_group\")\n",
    "    .load()\n",
    ")  # 밀리초 단위 에포치 시간endingTimestamp\n",
    "building_sdf = building_sdf.selectExpr(\"CAST(value AS STRING)\", \"CAST(timestamp AS STRING)\")\n",
    "building_sdf = building_sdf.withColumnRenamed(\"timestamp\", \"createTime\")\n",
    "building_sdf = building_sdf.withColumn(\"value\", from_json(building_sdf[\"value\"], schema3))\n",
    "\n",
    "\n",
    "for field in schema3.fields:\n",
    "    building_sdf = building_sdf.withColumn(field.name, building_sdf[\"value.\" + field.name])\n",
    "building_sdf = building_sdf.drop(\"value\")\n",
    "# 이거쓰면 df가 repartition_num 수만큼 쪼개져서 병렬처리가능한 상태가 됨.\n",
    "building_sdf = building_sdf.repartition(repartition_num)\n",
    "\n",
    "\n",
    "building_sdf.printSchema()"
   ]
  },
  {
   "cell_type": "code",
   "execution_count": 8,
   "id": "962ca250",
   "metadata": {},
   "outputs": [],
   "source": [
    "building_sdf = building_sdf.select(\n",
    "    building_sdf[\"createTime\"],\n",
    "    building_sdf[\"건물번호\"],\n",
    "    building_sdf[\"건물유형\"],\n",
    "    building_sdf[\"연면적(m2)\"],\n",
    "    building_sdf[\"냉방면적(m2)\"],\n",
    "    building_sdf[\"태양광용량(kW)\"],\n",
    "    building_sdf[\"ESS저장용량(kWh)\"],\n",
    "    building_sdf[\"PCS용량(kW)\"]\n",
    ") \\\n",
    ".withColumn(\"createTime\", building_sdf[\"createTime\"].cast(StringType())) \\\n",
    ".withColumn(\"건물번호\", building_sdf[\"건물번호\"].cast(IntegerType())) \\\n",
    ".withColumn(\"건물유형\", building_sdf[\"건물유형\"].cast(StringType())) \\\n",
    ".withColumn(\"연면적(m2)\", building_sdf[\"연면적(m2)\"].cast(DoubleType())) \\\n",
    ".withColumn(\"냉방면적(m2)\", building_sdf[\"냉방면적(m2)\"].cast(DoubleType())) \\\n",
    ".withColumn(\"태양광용량(kW)\", building_sdf[\"태양광용량(kW)\"].cast(DoubleType())) \\\n",
    ".withColumn(\"ESS저장용량(kWh)\", building_sdf[\"ESS저장용량(kWh)\"].cast(IntegerType())) \\\n",
    ".withColumn(\"PCS용량(kW)\", building_sdf[\"PCS용량(kW)\"].cast(IntegerType()))\n"
   ]
  },
  {
   "cell_type": "code",
   "execution_count": 9,
   "id": "37006873",
   "metadata": {},
   "outputs": [
    {
     "name": "stderr",
     "output_type": "stream",
     "text": [
      "                                                                                \r"
     ]
    },
    {
     "name": "stdout",
     "output_type": "stream",
     "text": [
      "+--------------------+--------+--------------+-----------+------------+--------------+----------------+-----------+\n",
      "|          createTime|건물번호|      건물유형| 연면적(m2)|냉방면적(m2)|태양광용량(kW)|ESS저장용량(kWh)|PCS용량(kW)|\n",
      "+--------------------+--------+--------------+-----------+------------+--------------+----------------+-----------+\n",
      "|2024-05-21 01:23:...|      20|          공공|1.2872877E7| 1.0941945E7|          null|            null|       null|\n",
      "|2024-05-21 01:24:...|      34|    데이터센터|    10665.0|      9402.0|          null|            null|       null|\n",
      "|2024-05-21 01:24:...|       8|      건물기타|   75344.54|     24117.0|          null|            null|       null|\n",
      "|2024-05-21 01:24:...|      33|    데이터센터|    28059.0|     20397.0|          null|            null|       null|\n",
      "|2024-05-21 01:23:...|      31|        대학교|   201781.0|    119836.0|         83.72|            null|       null|\n",
      "|2024-05-21 01:24:...|      44|백화점및아울렛|   78116.83|    76458.32|          null|            null|       null|\n",
      "|2024-05-21 01:24:...|      67|        아파트|    85244.0|     59671.0|          null|            null|       null|\n",
      "|2024-05-21 01:23:...|      97|  호텔및리조트|   55144.67|     25880.0|          null|            null|       null|\n",
      "|2024-05-21 01:24:...|       4|      건물기타|   74312.98|    34419.62|          60.0|            null|       null|\n",
      "|2024-05-21 01:23:...|      83|  지식산업센터|  199116.93|    99603.87|          null|            null|       null|\n",
      "|2024-05-21 01:24:...|       7|      건물기타|  101711.52|     41341.1|          null|             800|        300|\n",
      "|2024-05-21 01:24:...|      24|        대학교|  659696.91|   516097.85|         97.65|            null|       null|\n",
      "|2024-05-21 01:23:...|       4|      건물기타|   74312.98|    34419.62|          60.0|            null|       null|\n",
      "|2024-05-21 01:24:...|      47|          병원|   191624.0|    163255.0|          null|            null|       null|\n",
      "|2024-05-21 01:23:...|      37|백화점및아울렛|   98528.77|    75517.52|          35.0|            null|       null|\n",
      "|2024-05-21 01:23:...|      68|        아파트| 389395.928|         0.0|          null|            null|       null|\n",
      "|2024-05-21 01:24:...|      87|      할인마트|    65118.0|     34007.0|          null|            null|       null|\n",
      "|2024-05-21 01:24:...|      27|        대학교| 578484.113|   501381.53|          30.0|            null|       null|\n",
      "|2024-05-21 01:24:...|      37|백화점및아울렛|   98528.77|    75517.52|          35.0|            null|       null|\n",
      "|2024-05-21 01:23:...|       8|      건물기타|   75344.54|     24117.0|          null|            null|       null|\n",
      "+--------------------+--------+--------------+-----------+------------+--------------+----------------+-----------+\n",
      "only showing top 20 rows\n",
      "\n"
     ]
    }
   ],
   "source": [
    "building_sdf.show()"
   ]
  },
  {
   "cell_type": "code",
   "execution_count": 10,
   "id": "0d37249c",
   "metadata": {},
   "outputs": [
    {
     "name": "stdout",
     "output_type": "stream",
     "text": [
      "root\n",
      " |-- createTime: string (nullable = true)\n",
      " |-- num_date_time: string (nullable = true)\n",
      " |-- 건물번호: string (nullable = true)\n",
      " |-- 일시: string (nullable = true)\n",
      " |-- 기온(C): string (nullable = true)\n",
      " |-- 강수량(mm): string (nullable = true)\n",
      " |-- 풍속(m/s): string (nullable = true)\n",
      " |-- 습도(%): string (nullable = true)\n",
      "\n"
     ]
    }
   ],
   "source": [
    "# 그냥 가져오기\n",
    "test_sdf = (\n",
    "    spark.read.format(\"kafka\")\n",
    "    .option(\"kafka.bootstrap.servers\", \"my-cluster-kafka-bootstrap.kafka.svc:9092\")\n",
    "    .option(\"subscribe\", \"test2-jy\")\n",
    "    .option(\"kafka.group.id\", \"my_consumer_group\")\n",
    "    .load()\n",
    ")  # 밀리초 단위 에포치 시간endingTimestamp\n",
    "test_sdf = test_sdf.selectExpr(\"CAST(value AS STRING)\", \"CAST(timestamp AS STRING)\")\n",
    "test_sdf = test_sdf.withColumnRenamed(\"timestamp\", \"createTime\")\n",
    "test_sdf = test_sdf.withColumn(\"value\", from_json(test_sdf[\"value\"], schema2))\n",
    "\n",
    "\n",
    "for field in schema2.fields:\n",
    "    test_sdf = test_sdf.withColumn(field.name, test_sdf[\"value.\" + field.name])\n",
    "test_sdf = test_sdf.drop(\"value\")\n",
    "# 이거쓰면 df가 repartition_num 수만큼 쪼개져서 병렬처리가능한 상태가 됨.\n",
    "test_sdf = test_sdf.repartition(repartition_num)\n",
    "\n",
    "\n",
    "test_sdf.printSchema()"
   ]
  },
  {
   "cell_type": "code",
   "execution_count": 11,
   "id": "53523147",
   "metadata": {},
   "outputs": [],
   "source": [
    "test_sdf = test_sdf.select(\n",
    "    test_sdf[\"createTime\"],\n",
    "    test_sdf[\"num_date_time\"],\n",
    "    test_sdf[\"건물번호\"],\n",
    "    test_sdf[\"일시\"],\n",
    "    test_sdf[\"기온(C)\"],\n",
    "    test_sdf[\"강수량(mm)\"],\n",
    "    test_sdf[\"풍속(m/s)\"],\n",
    "    test_sdf[\"습도(%)\"]\n",
    ") \\\n",
    ".withColumn(\"createTime\", test_sdf[\"createTime\"].cast(StringType())) \\\n",
    ".withColumn(\"num_date_time\", test_sdf[\"num_date_time\"].cast(StringType())) \\\n",
    ".withColumn(\"건물번호\", test_sdf[\"건물번호\"].cast(IntegerType())) \\\n",
    ".withColumn(\"일시\", test_sdf[\"일시\"].cast(StringType())) \\\n",
    ".withColumn(\"기온(C)\", test_sdf[\"기온(C)\"].cast(DoubleType())) \\\n",
    ".withColumn(\"강수량(mm)\", test_sdf[\"강수량(mm)\"].cast(DoubleType())) \\\n",
    ".withColumn(\"풍속(m/s)\", test_sdf[\"풍속(m/s)\"].cast(DoubleType())) \\\n",
    ".withColumn(\"습도(%)\", test_sdf[\"습도(%)\"].cast(IntegerType()))"
   ]
  },
  {
   "cell_type": "code",
   "execution_count": 12,
   "id": "5d6ce09c",
   "metadata": {},
   "outputs": [
    {
     "name": "stderr",
     "output_type": "stream",
     "text": [
      "[Stage 7:>                                                          (0 + 3) / 3]\r"
     ]
    },
    {
     "name": "stdout",
     "output_type": "stream",
     "text": [
      "+--------------------+--------------+--------+-----------+-------+----------+---------+-------+\n",
      "|          createTime| num_date_time|건물번호|       일시|기온(C)|강수량(mm)|풍속(m/s)|습도(%)|\n",
      "+--------------------+--------------+--------+-----------+-------+----------+---------+-------+\n",
      "|2024-05-21 01:23:...|74_20220827 08|      74|20220827 08|   18.3|       0.0|      2.1|     77|\n",
      "|2024-05-21 01:23:...|57_20220827 03|      57|20220827 03|   20.7|       2.0|      2.7|     91|\n",
      "|2024-05-21 01:23:...|24_20220827 09|      24|20220827 09|   19.5|       0.0|      2.4|     63|\n",
      "|2024-05-21 01:23:...|94_20220829 04|      94|20220829 04|   21.8|       0.0|      1.3|     66|\n",
      "|2024-05-21 01:23:...| 5_20220829 15|       5|20220829 15|   22.2|       0.0|      1.8|     73|\n",
      "|2024-05-21 01:23:...|35_20220831 04|      35|20220831 04|   19.8|       0.0|      1.2|     94|\n",
      "|2024-05-21 01:23:...|67_20220827 04|      67|20220827 04|   22.6|       0.0|      3.2|     79|\n",
      "|2024-05-21 01:23:...|63_20220830 20|      63|20220830 20|   20.0|       2.6|      1.0|     95|\n",
      "|2024-05-21 01:23:...|18_20220825 23|      18|20220825 23|   20.5|       0.0|      0.4|     87|\n",
      "|2024-05-21 01:23:...|92_20220830 04|      92|20220830 04|   18.0|       5.5|      1.0|     99|\n",
      "|2024-05-21 01:23:...|94_20220829 16|      94|20220829 16|   21.8|       0.0|      3.4|     75|\n",
      "|2024-05-21 01:23:...|82_20220831 02|      82|20220831 02|   19.1|       0.0|      1.8|     94|\n",
      "|2024-05-21 01:23:...|21_20220826 02|      21|20220826 02|   20.1|       0.0|      0.7|     79|\n",
      "|2024-05-21 01:23:...|86_20220829 20|      86|20220829 20|   20.6|       0.0|      1.9|     73|\n",
      "|2024-05-21 01:23:...|40_20220826 22|      40|20220826 22|   23.1|       0.0|      1.0|     88|\n",
      "|2024-05-21 01:23:...|33_20220825 03|      33|20220825 03|   22.1|       0.0|      1.3|     78|\n",
      "|2024-05-21 01:23:...|62_20220830 07|      62|20220830 07|   18.0|       1.2|      3.1|     98|\n",
      "|2024-05-21 01:23:...|19_20220825 03|      19|20220825 03|   22.1|       0.0|      1.3|     78|\n",
      "|2024-05-21 01:23:...|19_20220831 22|      19|20220831 22|   21.1|       0.0|      1.0|     83|\n",
      "|2024-05-21 01:23:...|26_20220826 15|      26|20220826 15|   29.1|       0.0|      2.4|     57|\n",
      "+--------------------+--------------+--------+-----------+-------+----------+---------+-------+\n",
      "only showing top 20 rows\n",
      "\n"
     ]
    },
    {
     "name": "stderr",
     "output_type": "stream",
     "text": [
      "                                                                                \r"
     ]
    }
   ],
   "source": [
    "test_sdf.show()"
   ]
  },
  {
   "cell_type": "code",
   "execution_count": 13,
   "id": "e719173b",
   "metadata": {},
   "outputs": [
    {
     "name": "stdout",
     "output_type": "stream",
     "text": [
      "root\n",
      " |-- createTime: string (nullable = true)\n",
      " |-- num_date_time: string (nullable = true)\n",
      " |-- 건물번호: string (nullable = true)\n",
      " |-- 일시: string (nullable = true)\n",
      " |-- 기온(C): string (nullable = true)\n",
      " |-- 강수량(mm): string (nullable = true)\n",
      " |-- 풍속(m/s): string (nullable = true)\n",
      " |-- 습도(%): string (nullable = true)\n",
      " |-- 일조(hr): string (nullable = true)\n",
      " |-- 일사(MJ/m2): string (nullable = true)\n",
      " |-- 전력소비량(kWh): string (nullable = true)\n",
      "\n"
     ]
    }
   ],
   "source": [
    "# 그냥 가져오기\n",
    "train_sdf = (\n",
    "    spark.read.format(\"kafka\")\n",
    "    .option(\"kafka.bootstrap.servers\", \"my-cluster-kafka-bootstrap.kafka.svc:9092\")\n",
    "    .option(\"subscribe\", \"test-jy\")\n",
    "    .option(\"kafka.group.id\", \"my_consumer_group\")\n",
    "    .load()\n",
    ")  # 밀리초 단위 에포치 시간endingTimestamp\n",
    "\n",
    "train_sdf = train_sdf.selectExpr(\"CAST(value AS STRING)\", \"CAST(timestamp AS STRING)\")\n",
    "train_sdf = train_sdf.withColumnRenamed(\"timestamp\", \"createTime\")\n",
    "train_sdf = train_sdf.withColumn(\"value\", from_json(train_sdf[\"value\"], schema))\n",
    "\n",
    "\n",
    "for field in schema.fields:\n",
    "    train_sdf = train_sdf.withColumn(field.name, train_sdf[\"value.\" + field.name])\n",
    "train_sdf = train_sdf.drop(\"value\")\n",
    "# 이거쓰면 df가 repartition_num 수만큼 쪼개져서 병렬처리가능한 상태가 됨.\n",
    "\n",
    "\n",
    "train_sdf = train_sdf.repartition(repartition_num)\n",
    "\n",
    "train_sdf.printSchema()\n"
   ]
  },
  {
   "cell_type": "code",
   "execution_count": 14,
   "id": "761214c2",
   "metadata": {},
   "outputs": [],
   "source": [
    "train_sdf = train_sdf.select(\n",
    "    train_sdf[\"createTime\"],\n",
    "    train_sdf[\"num_date_time\"],\n",
    "    train_sdf[\"건물번호\"],\n",
    "    train_sdf[\"일시\"],\n",
    "    train_sdf[\"기온(C)\"],\n",
    "    train_sdf[\"강수량(mm)\"],\n",
    "    train_sdf[\"풍속(m/s)\"],\n",
    "    train_sdf[\"습도(%)\"],\n",
    "    train_sdf[\"일조(hr)\"],\n",
    "    train_sdf[\"일사(MJ/m2)\"],\n",
    "    train_sdf[\"전력소비량(kWh)\"],\n",
    ") \\\n",
    ".withColumn(\"createTime\", train_sdf[\"createTime\"].cast(StringType())) \\\n",
    ".withColumn(\"num_date_time\", train_sdf[\"num_date_time\"].cast(StringType())) \\\n",
    ".withColumn(\"건물번호\", train_sdf[\"건물번호\"].cast(IntegerType())) \\\n",
    ".withColumn(\"일시\", train_sdf[\"일시\"].cast(StringType())) \\\n",
    ".withColumn(\"기온(C)\", train_sdf[\"기온(C)\"].cast(DoubleType())) \\\n",
    ".withColumn(\"강수량(mm)\", train_sdf[\"강수량(mm)\"].cast(DoubleType())) \\\n",
    ".withColumn(\"풍속(m/s)\", train_sdf[\"풍속(m/s)\"].cast(DoubleType())) \\\n",
    ".withColumn(\"습도(%)\", train_sdf[\"습도(%)\"].cast(IntegerType())) \\\n",
    ".withColumn(\"일조(hr)\", train_sdf[\"일조(hr)\"].cast(DoubleType())) \\\n",
    ".withColumn(\"일사(MJ/m2)\", train_sdf[\"일사(MJ/m2)\"].cast(DoubleType())) \\\n",
    ".withColumn(\"전력소비량(kWh)\", train_sdf[\"전력소비량(kWh)\"].cast(DoubleType()))"
   ]
  },
  {
   "cell_type": "code",
   "execution_count": 15,
   "id": "c196be6e",
   "metadata": {},
   "outputs": [
    {
     "name": "stderr",
     "output_type": "stream",
     "text": [
      "[Stage 10:===================>                                      (1 + 2) / 3]\r"
     ]
    },
    {
     "name": "stdout",
     "output_type": "stream",
     "text": [
      "+--------------------+--------------+--------+-----------+-------+----------+---------+-------+--------+-----------+---------------+\n",
      "|          createTime| num_date_time|건물번호|       일시|기온(C)|강수량(mm)|풍속(m/s)|습도(%)|일조(hr)|일사(MJ/m2)|전력소비량(kWh)|\n",
      "+--------------------+--------------+--------+-----------+-------+----------+---------+-------+--------+-----------+---------------+\n",
      "|2024-05-21 01:17:...|15_20220606 04|      15|20220606 04|   16.9|       0.2|      0.6|    100|    null|       null|        1287.18|\n",
      "|2024-05-21 01:18:...|85_20220605 13|      85|20220605 13|   24.8|      null|      3.7|     50|     0.0|       0.53|        2337.84|\n",
      "|2024-05-21 01:17:...|37_20220617 00|      37|20220617 00|   18.7|      null|      1.3|     80|    null|       null|         1035.6|\n",
      "|2024-05-21 01:18:...|81_20220808 19|      81|20220808 19|   25.6|      12.5|      2.5|     96|     0.0|       0.04|        2521.08|\n",
      "|2024-05-21 01:17:...|22_20220607 14|      22|20220607 14|   22.5|      null|      2.5|     51|     0.1|       1.95|        1701.72|\n",
      "|2024-05-21 01:18:...|87_20220627 08|      87|20220627 08|   24.7|       0.0|      1.1|     94|     0.0|       0.21|        1333.08|\n",
      "|2024-05-21 01:18:...|91_20220627 11|      91|20220627 11|   28.4|      null|      5.4|     88|     0.0|       1.01|        2549.52|\n",
      "|2024-05-21 01:17:...|42_20220604 02|      42|20220604 02|   17.2|      null|      0.3|     80|    null|       null|         351.36|\n",
      "|2024-05-21 01:17:...|44_20220824 01|      44|20220824 01|   19.4|      null|      1.6|     89|    null|       null|         503.52|\n",
      "|2024-05-21 01:18:...|85_20220810 11|      85|20220810 11|   25.9|      null|      0.7|     82|     0.8|       2.69|         2818.8|\n",
      "|2024-05-21 01:18:...|75_20220606 11|      75|20220606 11|   21.2|      null|      3.7|     71|     0.4|       null|        1515.96|\n",
      "|2024-05-21 01:17:...|26_20220705 19|      26|20220705 19|   28.3|      null|      0.8|     84|     0.0|       0.33|        4088.16|\n",
      "|2024-05-21 01:17:...|53_20220815 18|      53|20220815 18|   28.6|       0.0|      4.7|     83|     0.0|       0.07|        1306.56|\n",
      "|2024-05-21 01:18:...|72_20220821 20|      72|20220821 20|   27.3|      null|      0.6|     96|     0.0|       0.05|        1305.54|\n",
      "|2024-05-21 01:18:...|71_20220710 02|      71|20220710 02|   25.6|      null|      1.2|     85|    null|       null|        1821.36|\n",
      "|2024-05-21 01:18:...|55_20220715 01|      55|20220715 01|   24.1|      null|      0.2|     99|    null|       null|          933.6|\n",
      "|2024-05-21 01:18:...|88_20220608 11|      88|20220608 11|   21.9|      null|      3.9|     58|     0.6|       1.93|         1706.4|\n",
      "|2024-05-21 01:18:...|95_20220629 05|      95|20220629 05|   24.5|      null|      1.3|     86|    null|       null|         726.12|\n",
      "|2024-05-21 01:16:...| 4_20220704 17|       4|20220704 17|   32.1|      null|      3.0|     62|     0.8|       1.68|        1202.22|\n",
      "|2024-05-21 01:17:...|31_20220726 08|      31|20220726 08|   24.6|      null|      0.9|     82|     1.0|       1.05|        1300.68|\n",
      "+--------------------+--------------+--------+-----------+-------+----------+---------+-------+--------+-----------+---------------+\n",
      "only showing top 20 rows\n",
      "\n"
     ]
    },
    {
     "name": "stderr",
     "output_type": "stream",
     "text": [
      "                                                                                \r"
     ]
    }
   ],
   "source": [
    "train_sdf.show()"
   ]
  },
  {
   "cell_type": "code",
   "execution_count": 37,
   "id": "1430079a",
   "metadata": {},
   "outputs": [],
   "source": [
    "def train_test_split(df, th):\n",
    "    df = df.na.drop(subset=['일시'])\n",
    "    train = df.filter(col('일시').substr(1, 8).cast(IntegerType()) < th)\n",
    "    test = df.filter(col('일시').substr(1, 8).cast(IntegerType()) >= th)\n",
    "    return train, test\n",
    "\n",
    "def preprocess_x(df):\n",
    "    to_remove_columns = ['num_date_time', '일시', '일조(hr)', '일사(MJ/m2)']\n",
    "    df = df.fillna(0)   \n",
    "    \n",
    "    # 시계열 특성을 학습에 반영하기 위해 일시를 월, 일, 시간으로 나눕니다\n",
    "    df = df.withColumn('month', substring('일시', 5, 2).cast(IntegerType()))\n",
    "    df = df.withColumn('day', substring('일시', 7, 2).cast(IntegerType()))\n",
    "    df = df.withColumn('time', substring('일시', 10, 2).cast(IntegerType()))\n",
    "    \n",
    "    \n",
    "    \n",
    "    df = df.join(building_sdf.select('건물번호', '건물유형', '연면적(m2)'), on='건물번호', how='left')\n",
    "    df = df.dropDuplicates()\n",
    "    \n",
    "    \n",
    "    # '건물유형'을 카테고리형 코드로 변환\n",
    "    building_type_indexer = StringIndexer(inputCol='건물유형', outputCol='건물유형_index')\n",
    "    df = building_type_indexer.fit(df).transform(df)\n",
    "    df = df.drop('건물유형').withColumnRenamed('건물유형_index', '건물유형')\n",
    "    \n",
    "    # 불필요한 컬럼 삭제\n",
    "    for c in to_remove_columns:\n",
    "        if c in df.columns:\n",
    "            df = df.drop(c)\n",
    "            \n",
    "    df.show(20, truncate=False)\n",
    "    return df\n",
    "\n",
    "\n",
    "date_th = 20220820"
   ]
  },
  {
   "cell_type": "code",
   "execution_count": 39,
   "id": "d14b45cc",
   "metadata": {},
   "outputs": [
    {
     "name": "stderr",
     "output_type": "stream",
     "text": [
      "                                                                                \r"
     ]
    },
    {
     "name": "stdout",
     "output_type": "stream",
     "text": [
      "train_df shape(split 후): 192000 11\n"
     ]
    },
    {
     "name": "stderr",
     "output_type": "stream",
     "text": [
      "[Stage 534:>                                                        (0 + 3) / 3]\r"
     ]
    },
    {
     "name": "stdout",
     "output_type": "stream",
     "text": [
      "valid_df shape(split 후): 12000 11\n"
     ]
    },
    {
     "name": "stderr",
     "output_type": "stream",
     "text": [
      "                                                                                \r"
     ]
    }
   ],
   "source": [
    "\n",
    "train_df, valid_df = train_test_split(train_sdf, date_th)\n",
    "\n",
    "\n",
    "#print(\"train_df DataFrame show:\", train_df.show())\n",
    "#print(\"valid_df DataFrame show:\", valid_df.show())\n",
    "\n",
    "# 데이터 분할 후 각 데이터프레임의 크기를 확인합니다.\n",
    "print(\"train_df shape(split 후):\", train_df.count(), len(train_df.columns))\n",
    "print(\"valid_df shape(split 후):\", valid_df.count(), len(valid_df.columns))\n",
    "\n"
   ]
  },
  {
   "cell_type": "code",
   "execution_count": 101,
   "id": "b37898aa",
   "metadata": {},
   "outputs": [
    {
     "name": "stderr",
     "output_type": "stream",
     "text": [
      "                                                                                \r"
     ]
    },
    {
     "name": "stdout",
     "output_type": "stream",
     "text": [
      "+--------+-----------------------+-------+----------+---------+-------+---------------+-----+---+----+----------+--------+\n",
      "|건물번호|createTime             |기온(C)|강수량(mm)|풍속(m/s)|습도(%)|전력소비량(kWh)|month|day|time|연면적(m2)|건물유형|\n",
      "+--------+-----------------------+-------+----------+---------+-------+---------------+-----+---+----+----------+--------+\n",
      "|23      |2024-05-21 01:17:22.13 |22.1   |0.0       |1.5      |88     |1054.8         |8    |19 |4   |32236.11  |1.0     |\n",
      "|42      |2024-05-21 01:17:44.682|26.1   |0.0       |4.3      |74     |2929.32        |6    |25 |16  |97915.1   |3.0     |\n",
      "|79      |2024-05-21 01:18:30.428|22.4   |0.0       |1.4      |96     |3010.56        |8    |18 |7   |212995.84 |8.0     |\n",
      "|39      |2024-05-21 01:17:41.702|27.9   |0.0       |1.0      |80     |711.36         |8    |5  |23  |126835.0  |3.0     |\n",
      "|64      |2024-05-21 01:18:11.493|24.6   |0.0       |1.5      |87     |1091.7         |7    |18 |8   |240551.0  |6.0     |\n",
      "|24      |2024-05-21 01:17:22.423|19.8   |0.0       |5.9      |58     |7806.0         |6    |14 |21  |659696.91 |2.0     |\n",
      "|72      |2024-05-21 01:18:20.844|23.1   |0.0       |0.0      |99     |1109.7         |7    |27 |5   |31503.0   |7.0     |\n",
      "|79      |2024-05-21 01:18:29.932|28.7   |0.0       |2.4      |71     |2004.0         |7    |31 |2   |212995.84 |8.0     |\n",
      "|4       |2024-05-21 01:16:59.064|17.8   |0.0       |2.4      |80     |796.5          |6    |2  |6   |74312.98  |0.0     |\n",
      "|74      |2024-05-21 01:18:23.085|25.9   |0.0       |0.9      |83     |6596.64        |7    |19 |8   |253743.0  |7.0     |\n",
      "|34      |2024-05-21 01:17:34.983|22.8   |0.0       |1.7      |59     |3144.96        |6    |5  |6   |10665.0   |11.0    |\n",
      "|72      |2024-05-21 01:18:20.552|31.5   |0.0       |0.9      |72     |1665.72        |7    |5  |12  |31503.0   |7.0     |\n",
      "|17      |2024-05-21 01:17:14.716|24.8   |0.0       |1.4      |89     |620.64         |7    |16 |19  |66467.0   |1.0     |\n",
      "|83      |2024-05-21 01:18:35.168|29.6   |0.0       |1.1      |55     |3058.2         |8    |18 |14  |199116.93 |8.0     |\n",
      "|66      |2024-05-21 01:18:13.687|29.8   |0.0       |2.9      |66     |577.44         |7    |6  |21  |105073.0  |6.0     |\n",
      "|75      |2024-05-21 01:18:23.927|28.5   |0.0       |3.4      |74     |1537.68        |6    |26 |15  |88898.41  |7.0     |\n",
      "|94      |2024-05-21 01:18:47.262|28.5   |0.0       |1.9      |61     |2819.28        |6    |22 |12  |62156.0   |10.0    |\n",
      "|86      |2024-05-21 01:18:37.692|24.0   |0.0       |2.9      |54     |1458.72        |6    |2  |13  |54866.51  |9.0     |\n",
      "|76      |2024-05-21 01:18:25.395|26.5   |0.0       |1.3      |86     |1576.62        |7    |19 |9   |38668.17  |7.0     |\n",
      "|52      |2024-05-21 01:17:56.189|25.3   |0.0       |0.5      |84     |1574.1         |6    |26 |2   |91634.21  |4.0     |\n",
      "+--------+-----------------------+-------+----------+---------+-------+---------------+-----+---+----+----------+--------+\n",
      "only showing top 20 rows\n",
      "\n"
     ]
    },
    {
     "name": "stderr",
     "output_type": "stream",
     "text": [
      "                                                                                \r"
     ]
    },
    {
     "name": "stdout",
     "output_type": "stream",
     "text": [
      "train_1 shape: 192000 12\n",
      "+--------+-----------------------+-------+----------+---------+-------+---------------+-----+---+----+----------+--------+\n",
      "|건물번호|createTime             |기온(C)|강수량(mm)|풍속(m/s)|습도(%)|전력소비량(kWh)|month|day|time|연면적(m2)|건물유형|\n",
      "+--------+-----------------------+-------+----------+---------+-------+---------------+-----+---+----+----------+--------+\n",
      "|59      |2024-05-21 01:18:06.081|24.8   |0.0       |1.3      |87     |3519.72        |8    |23 |10  |105500.72 |5.0     |\n",
      "|97      |2024-05-21 01:18:51.815|27.9   |0.0       |2.9      |80     |1562.94        |8    |21 |19  |55144.67  |10.0    |\n",
      "|86      |2024-05-21 01:18:38.789|26.0   |0.0       |1.6      |98     |649.08         |8    |20 |6   |54866.51  |9.0     |\n",
      "|38      |2024-05-21 01:17:40.795|25.8   |0.0       |1.4      |83     |3213.0         |8    |23 |11  |58763.89  |3.0     |\n",
      "|49      |2024-05-21 01:17:53.502|24.6   |0.0       |0.0      |99     |2731.68        |8    |21 |2   |112953.61 |4.0     |\n",
      "|49      |2024-05-21 01:17:53.534|27.3   |0.0       |1.4      |97     |3914.28        |8    |23 |9   |112953.61 |4.0     |\n",
      "|38      |2024-05-21 01:17:40.805|22.5   |0.0       |2.6      |71     |491.76         |8    |24 |4   |58763.89  |3.0     |\n",
      "|83      |2024-05-21 01:18:35.218|29.2   |0.0       |2.1      |70     |3459.6         |8    |22 |11  |199116.93 |8.0     |\n",
      "|31      |2024-05-21 01:17:32.566|21.3   |0.0       |0.4      |90     |958.68         |8    |24 |4   |201781.0  |2.0     |\n",
      "|35      |2024-05-21 01:17:37.249|31.3   |0.0       |1.5      |63     |2214.3         |8    |21 |14  |9736.0    |11.0    |\n",
      "|67      |2024-05-21 01:18:15.468|27.2   |0.0       |6.1      |86     |1030.8         |8    |20 |2   |85244.0   |6.0     |\n",
      "|45      |2024-05-21 01:17:48.845|30.9   |0.0       |2.5      |63     |3019.2         |8    |21 |18  |86787.03  |4.0     |\n",
      "|24      |2024-05-21 01:17:23.377|25.7   |0.0       |1.5      |83     |7214.4         |8    |22 |4   |659696.91 |2.0     |\n",
      "|1       |2024-05-21 01:16:56.757|25.5   |0.0       |2.9      |63     |2517.12        |8    |24 |19  |110634.0  |0.0     |\n",
      "|59      |2024-05-21 01:18:06.063|27.4   |0.0       |1.0      |79     |660.6          |8    |21 |23  |105500.72 |5.0     |\n",
      "|56      |2024-05-21 01:18:02.585|29.5   |0.0       |2.1      |62     |4372.2         |8    |22 |18  |42666.54  |5.0     |\n",
      "|68      |2024-05-21 01:18:16.635|30.4   |0.0       |1.3      |66     |2698.2         |8    |21 |13  |389395.928|6.0     |\n",
      "|84      |2024-05-21 01:18:36.403|26.6   |0.0       |1.4      |81     |1766.88        |8    |22 |20  |174408.2  |8.0     |\n",
      "|46      |2024-05-21 01:17:49.986|24.3   |0.0       |2.2      |76     |1659.6         |8    |24 |5   |85869.49  |4.0     |\n",
      "|78      |2024-05-21 01:18:28.224|25.8   |0.0       |1.4      |90     |1024.8         |8    |21 |22  |136921.0  |8.0     |\n",
      "+--------+-----------------------+-------+----------+---------+-------+---------------+-----+---+----+----------+--------+\n",
      "only showing top 20 rows\n",
      "\n"
     ]
    },
    {
     "name": "stderr",
     "output_type": "stream",
     "text": [
      "                                                                                \r"
     ]
    },
    {
     "name": "stdout",
     "output_type": "stream",
     "text": [
      "valid_1 shape: 12000 12\n"
     ]
    }
   ],
   "source": [
    "\n",
    "train_1 = preprocess_x(train_df)\n",
    "#train_y = train_df.select(\"전력소비량(kWh)\")\n",
    "\n",
    "# 전처리 후 데이터프레임의 크기를 확인합니다.\n",
    "print(\"train_1 shape:\", train_1.count(), len(train_1.columns))\n",
    "#print(\"Train Y shape:\", train_y.count(), len(train_y.columns))\n",
    "\n",
    "valid_1 = preprocess_x(valid_df)\n",
    "#valid_y = valid_df.select(\"전력소비량(kWh)\")\n",
    "\n",
    "print(\"valid_1 shape:\", valid_1.count(), len(valid_1.columns))\n",
    "#print(\"Validation Y shape:\", valid_y.count(), len(valid_y.columns))\n"
   ]
  },
  {
   "cell_type": "code",
   "execution_count": null,
   "id": "fde9a701",
   "metadata": {},
   "outputs": [],
   "source": [
    "#spark.stop()"
   ]
  },
  {
   "cell_type": "code",
   "execution_count": 41,
   "id": "4d5c633e",
   "metadata": {},
   "outputs": [
    {
     "name": "stderr",
     "output_type": "stream",
     "text": [
      "[Stage 610:===================>                                     (1 + 2) / 3]\r"
     ]
    },
    {
     "name": "stdout",
     "output_type": "stream",
     "text": [
      "+--------+--------------------+-------+----------+---------+-------+---------------+-----+---+----+----------+--------+\n",
      "|건물번호|          createTime|기온(C)|강수량(mm)|풍속(m/s)|습도(%)|전력소비량(kWh)|month|day|time|연면적(m2)|건물유형|\n",
      "+--------+--------------------+-------+----------+---------+-------+---------------+-----+---+----+----------+--------+\n",
      "|       1|2024-05-21 01:16:...|   19.9|       0.0|      1.5|     89|        2010.72|    6| 15|  19|  110634.0|     0.0|\n",
      "|      53|2024-05-21 01:17:...|   23.5|       0.0|      0.9|     78|         900.96|    6| 23|   3|  149246.0|     5.0|\n",
      "|       5|2024-05-21 01:17:...|   23.2|       0.0|      1.0|     93|         1688.4|    7| 17|   1|  205884.0|     0.0|\n",
      "|      35|2024-05-21 01:17:...|   27.9|       0.0|      0.8|     78|         2190.0|    7|  5|   9|    9736.0|    11.0|\n",
      "|      13|2024-05-21 01:17:...|   23.3|       0.0|      5.3|    100|         2186.4|    6| 23|  10|    5578.4|     0.0|\n",
      "|      99|2024-05-21 01:18:...|   22.5|       0.0|      2.3|     74|         1300.5|    6| 12|  14|   53499.0|    10.0|\n",
      "|      11|2024-05-21 01:17:...|   20.3|       0.0|      0.0|    100|        1710.72|    7|  1|   4|  45956.56|     0.0|\n",
      "|      10|2024-05-21 01:17:...|   23.9|       0.0|      2.0|     86|        4456.32|    6| 21|  21|   31062.0|     0.0|\n",
      "|      14|2024-05-21 01:17:...|   21.6|       0.0|      3.4|     62|        2468.16|    6| 16|  15|  16844.16|     0.0|\n",
      "|      73|2024-05-21 01:18:...|   26.8|       0.0|      2.9|     92|        3603.84|    8| 15|   5| 109894.22|     7.0|\n",
      "|      37|2024-05-21 01:17:...|   26.2|       0.0|      1.9|     78|         1060.2|    7| 18|  23|  98528.77|     3.0|\n",
      "|      65|2024-05-21 01:18:...|   30.7|       0.0|      4.8|     84|        1000.26|    8|  9|  16|  183839.0|     6.0|\n",
      "|       3|2024-05-21 01:16:...|   24.1|       0.0|      1.3|     87|        1192.68|    7| 18|   3|  171243.0|     0.0|\n",
      "|       4|2024-05-21 01:16:...|   24.2|       0.0|      3.1|     49|         1014.3|    6|  6|  16|  74312.98|     0.0|\n",
      "|      64|2024-05-21 01:18:...|   29.5|       0.0|      3.7|     61|        1652.94|    7|  3|  13|  240551.0|     6.0|\n",
      "|      53|2024-05-21 01:17:...|   26.3|       0.0|      3.6|     47|        2938.08|    6|  2|  14|  149246.0|     5.0|\n",
      "|      38|2024-05-21 01:17:...|   32.1|       0.0|      1.7|     59|        3433.32|    7|  2|  13|  58763.89|     3.0|\n",
      "|      96|2024-05-21 01:18:...|   21.7|       0.0|      2.2|     91|        1697.88|    6| 19|   4|   93314.0|    10.0|\n",
      "|      11|2024-05-21 01:17:...|   28.7|       0.0|      2.4|     75|         2092.8|    6| 26|  14|  45956.56|     0.0|\n",
      "|     100|2024-05-21 01:18:...|   25.8|       1.7|      2.0|     94|        1103.28|    7| 31|  20|  57497.84|    10.0|\n",
      "+--------+--------------------+-------+----------+---------+-------+---------------+-----+---+----+----------+--------+\n",
      "only showing top 20 rows\n",
      "\n"
     ]
    },
    {
     "name": "stderr",
     "output_type": "stream",
     "text": [
      "                                                                                \r"
     ]
    }
   ],
   "source": [
    "train_1.show()"
   ]
  },
  {
   "cell_type": "code",
   "execution_count": 102,
   "id": "c50e169d",
   "metadata": {},
   "outputs": [
    {
     "name": "stderr",
     "output_type": "stream",
     "text": [
      "[Stage 5498:>                                                       (0 + 3) / 3]\r"
     ]
    },
    {
     "name": "stdout",
     "output_type": "stream",
     "text": [
      "+--------+--------------------+-------+----------+---------+-------+---------------+-----+---+----+----------+--------+\n",
      "|건물번호|          createTime|기온(C)|강수량(mm)|풍속(m/s)|습도(%)|전력소비량(kWh)|month|day|time|연면적(m2)|건물유형|\n",
      "+--------+--------------------+-------+----------+---------+-------+---------------+-----+---+----+----------+--------+\n",
      "|      49|2024-05-21 01:17:...|   26.3|       0.0|      1.0|     99|        3003.48|    8| 20|  20| 112953.61|     4.0|\n",
      "|      53|2024-05-21 01:17:...|   27.7|       0.0|      2.2|     61|        3296.16|    8| 24|  12|  149246.0|     5.0|\n",
      "|      56|2024-05-21 01:18:...|   22.5|       0.0|      2.7|     84|        4158.36|    8| 24|   6|  42666.54|     5.0|\n",
      "|      34|2024-05-21 01:17:...|   26.3|       0.0|      3.2|     95|        3475.44|    8| 20|   2|   10665.0|    11.0|\n",
      "|      95|2024-05-21 01:18:...|   19.9|       0.0|      0.1|     92|         928.08|    8| 24|  22| 196992.54|    10.0|\n",
      "|      88|2024-05-21 01:18:...|   24.3|       0.0|      1.9|     67|        1545.12|    8| 24|  21|  48452.52|     9.0|\n",
      "|      68|2024-05-21 01:18:...|   27.9|       0.0|      1.5|     79|         3009.3|    8| 20|  21|389395.928|     6.0|\n",
      "|      48|2024-05-21 01:17:...|   28.2|       0.0|      0.9|     89|        1743.84|    8| 21|  19|   66729.0|     4.0|\n",
      "|      26|2024-05-21 01:17:...|   31.1|       0.0|      2.2|     57|        5151.36|    8| 23|  17|  386466.9|     2.0|\n",
      "|      25|2024-05-21 01:17:...|   26.2|       0.0|      1.3|     82|        5599.68|    8| 21|   9| 528014.05|     2.0|\n",
      "|      90|2024-05-21 01:18:...|   24.9|       0.8|      0.2|     98|        2334.96|    8| 23|  17|   77917.0|     9.0|\n",
      "|      39|2024-05-21 01:17:...|   25.1|      40.7|      3.2|     95|          621.6|    8| 20|   5|  126835.0|     3.0|\n",
      "|      97|2024-05-21 01:18:...|   30.0|       0.0|      3.6|     74|         1829.7|    8| 20|  15|  55144.67|    10.0|\n",
      "|      51|2024-05-21 01:17:...|   24.4|       0.0|      2.7|     96|        2162.88|    8| 20|  23|  88242.76|     4.0|\n",
      "|      81|2024-05-21 01:18:...|   27.5|       0.0|      0.7|     81|        1092.96|    8| 20|  22| 115358.28|     8.0|\n",
      "|      27|2024-05-21 01:17:...|   21.9|       0.2|      2.3|     85|        20311.2|    8| 24|   9|578484.113|     2.0|\n",
      "|       3|2024-05-21 01:16:...|   24.6|       1.3|      3.1|     75|          900.0|    8| 22|  22|  171243.0|     0.0|\n",
      "|      10|2024-05-21 01:17:...|   21.7|       0.0|      2.7|     82|        3467.04|    8| 24|  21|   31062.0|     0.0|\n",
      "|      10|2024-05-21 01:17:...|   22.3|       0.0|      4.6|     94|        4011.84|    8| 24|  10|   31062.0|     0.0|\n",
      "|      31|2024-05-21 01:17:...|   22.7|       0.0|      2.1|     90|        1223.64|    8| 23|  21|  201781.0|     2.0|\n",
      "+--------+--------------------+-------+----------+---------+-------+---------------+-----+---+----+----------+--------+\n",
      "only showing top 20 rows\n",
      "\n"
     ]
    },
    {
     "name": "stderr",
     "output_type": "stream",
     "text": [
      "                                                                                \r"
     ]
    }
   ],
   "source": [
    "valid_1.show()"
   ]
  },
  {
   "cell_type": "markdown",
   "id": "3da97b5a",
   "metadata": {},
   "source": [
    "### 0. Functions For validation"
   ]
  },
  {
   "cell_type": "code",
   "execution_count": 42,
   "id": "166f3a2e",
   "metadata": {},
   "outputs": [],
   "source": [
    "def SMAPE(y, pred):\n",
    "    smape = abs((y - pred))/((abs(y) + abs(pred)) / 2) * 100\n",
    "    smape = np.mean(smape)\n",
    "    return smape\n",
    "\n",
    "def mae(y, pred):\n",
    "    return np.mean(abs(y-pred))"
   ]
  },
  {
   "cell_type": "code",
   "execution_count": 43,
   "id": "6d7a7655",
   "metadata": {},
   "outputs": [],
   "source": [
    "def validate(valid_x, valid_y, model):\n",
    "    pred = model.predict(valid_x)\n",
    "    smape_score, mae_score = SMAPE(valid_y, pred), mae(valid_y, pred)\n",
    "    return smape_score, mae_score"
   ]
  },
  {
   "cell_type": "markdown",
   "id": "9e9c573a",
   "metadata": {},
   "source": [
    "## 2. Multi Models by building num\n",
    "- 건물번호(1~100)별 모델을 각각 만들어 성능을 측정하였습니다.\n",
    "- 건물별로 building_info값은 같기 때문에 해당 데이터는 제외했습니다(건물번호, 건물유형, 연면적, 냉방면적)."
   ]
  },
  {
   "cell_type": "code",
   "execution_count": 110,
   "id": "425a0f59",
   "metadata": {},
   "outputs": [],
   "source": [
    "from pyspark.ml.evaluation import RegressionEvaluator\n",
    "\n",
    "def validate_multi(valid_1, models):\n",
    "    \"\"\"\n",
    "    Args:\n",
    "        models: dict, {1: model1, 2: model2, ..., 100: model100}\n",
    "    \"\"\"\n",
    "    \n",
    "    mse_eval = RegressionEvaluator(labelCol='전력소비량(kWh)', predictionCol='prediction', metricName='mse')\n",
    "    rmse_eval = RegressionEvaluator(labelCol='전력소비량(kWh)', predictionCol='prediction', metricName='rmse')\n",
    "    r2_eval = RegressionEvaluator(labelCol='전력소비량(kWh)', predictionCol='prediction', metricName='r2')\n",
    "\n",
    "    predictions=[0 for _ in range(101)]\n",
    "    for i in tqdm(range(1, 101)):\n",
    "        aB = valid_1.filter(col('건물번호') == i)\n",
    "        \n",
    "        aB = aB.drop('건물번호', '건물유형', '연면적(m2)', '냉방면적(m2)', 'createTime')\n",
    "        \n",
    "        feature_cols = [c for c in aB.columns if c != '전력소비량(kWh)']\n",
    "        assembler = VectorAssembler(inputCols=feature_cols, outputCol=\"features\")\n",
    "        aB = assembler.transform(aB).select(\"features\", \"전력소비량(kWh)\")\n",
    "        \n",
    "        \n",
    "        predictions[i] = models[i].transform(aB)\n",
    "        print('mse:', mse_eval.evaluate(predictions[i]), 'rmse:', rmse_eval.evaluate(predictions[i]), 'r2:', r2_eval.evaluate(predictions[i]))\n",
    "        \n"
   ]
  },
  {
   "cell_type": "code",
   "execution_count": 114,
   "id": "98fce78d",
   "metadata": {},
   "outputs": [],
   "source": [
    "def train_multiple_models(train_1, n_estimators=100):\n",
    "    models = {}\n",
    "    \n",
    "    for i in tqdm(range(1, 101)):\n",
    "        aBuilding = train_1.filter(col('건물번호') == i)\n",
    "        \n",
    "        aBuilding = aBuilding.drop('건물번호', '건물유형', '연면적(m2)', '냉방면적(m2)', 'createTime')\n",
    "        \n",
    "        #feature 벡터화\n",
    "        feature_cols = [c for c in aBuilding.columns if c != '전력소비량(kWh)']\n",
    "        assembler = VectorAssembler(inputCols = feature_cols, outputCol = \"features\")\n",
    "        aBuilding = assembler.transform(aBuilding).select(\"features\", \"전력소비량(kWh)\")\n",
    "        \n",
    "        rf = RandomForestRegressor(featuresCol='features', labelCol='전력소비량(kWh)', numTrees=n_estimators)\n",
    "        aBuilding = aBuilding.repartition(200)\n",
    "        model = rf.fit(aBuilding)\n",
    "        \n",
    "        models[i] = model\n",
    "        \n",
    "        \n",
    "    return models"
   ]
  },
  {
   "cell_type": "code",
   "execution_count": 115,
   "id": "6548d905",
   "metadata": {},
   "outputs": [
    {
     "name": "stderr",
     "output_type": "stream",
     "text": [
      "  9%|▉         | 9/100 [01:59<20:05, 13.25s/it]                                 "
     ]
    }
   ],
   "source": [
    "models1 = train_multiple_models(train_1)"
   ]
  },
  {
   "cell_type": "code",
   "execution_count": 112,
   "id": "647305eb",
   "metadata": {},
   "outputs": [
    {
     "name": "stderr",
     "output_type": "stream",
     "text": [
      "  1%|          | 1/100 [00:21<36:14, 21.96s/it]                                 "
     ]
    },
    {
     "name": "stdout",
     "output_type": "stream",
     "text": [
      "mse: 161828.72497804186 rmse: 402.27941157613554 r2: 0.8377836417221233\n"
     ]
    },
    {
     "name": "stderr",
     "output_type": "stream",
     "text": [
      "ERROR:root:KeyboardInterrupt while sending command.\n",
      "Traceback (most recent call last):\n",
      "  File \"/opt/conda/lib/python3.9/site-packages/py4j/java_gateway.py\", line 1038, in send_command\n",
      "    response = connection.send_command(command)\n",
      "  File \"/opt/conda/lib/python3.9/site-packages/py4j/clientserver.py\", line 511, in send_command\n",
      "    answer = smart_decode(self.stream.readline()[:-1])\n",
      "  File \"/opt/conda/lib/python3.9/socket.py\", line 704, in readinto\n",
      "    return self._sock.recv_into(b)\n",
      "KeyboardInterrupt\n",
      "  1%|          | 1/100 [00:24<39:57, 24.22s/it]\n"
     ]
    },
    {
     "ename": "KeyboardInterrupt",
     "evalue": "",
     "output_type": "error",
     "traceback": [
      "\u001b[0;31m---------------------------------------------------------------------------\u001b[0m",
      "\u001b[0;31mKeyboardInterrupt\u001b[0m                         Traceback (most recent call last)",
      "Cell \u001b[0;32mIn[112], line 1\u001b[0m\n\u001b[0;32m----> 1\u001b[0m \u001b[43mvalidate_multi\u001b[49m\u001b[43m(\u001b[49m\u001b[43mvalid_1\u001b[49m\u001b[43m,\u001b[49m\u001b[43m \u001b[49m\u001b[43mmodels1\u001b[49m\u001b[43m)\u001b[49m\n",
      "Cell \u001b[0;32mIn[110], line 25\u001b[0m, in \u001b[0;36mvalidate_multi\u001b[0;34m(valid_1, models)\u001b[0m\n\u001b[1;32m     21\u001b[0m aB \u001b[38;5;241m=\u001b[39m assembler\u001b[38;5;241m.\u001b[39mtransform(aB)\u001b[38;5;241m.\u001b[39mselect(\u001b[38;5;124m\"\u001b[39m\u001b[38;5;124mfeatures\u001b[39m\u001b[38;5;124m\"\u001b[39m, \u001b[38;5;124m\"\u001b[39m\u001b[38;5;124m전력소비량(kWh)\u001b[39m\u001b[38;5;124m\"\u001b[39m)\n\u001b[1;32m     24\u001b[0m predictions[i] \u001b[38;5;241m=\u001b[39m models[i]\u001b[38;5;241m.\u001b[39mtransform(aB)\n\u001b[0;32m---> 25\u001b[0m \u001b[38;5;28mprint\u001b[39m(\u001b[38;5;124m'\u001b[39m\u001b[38;5;124mmse:\u001b[39m\u001b[38;5;124m'\u001b[39m, \u001b[43mmse_eval\u001b[49m\u001b[38;5;241;43m.\u001b[39;49m\u001b[43mevaluate\u001b[49m\u001b[43m(\u001b[49m\u001b[43mpredictions\u001b[49m\u001b[43m[\u001b[49m\u001b[43mi\u001b[49m\u001b[43m]\u001b[49m\u001b[43m)\u001b[49m, \u001b[38;5;124m'\u001b[39m\u001b[38;5;124mrmse:\u001b[39m\u001b[38;5;124m'\u001b[39m, rmse_eval\u001b[38;5;241m.\u001b[39mevaluate(predictions[i]), \u001b[38;5;124m'\u001b[39m\u001b[38;5;124mr2:\u001b[39m\u001b[38;5;124m'\u001b[39m, r2_eval\u001b[38;5;241m.\u001b[39mevaluate(predictions[i]))\n",
      "File \u001b[0;32m/opt/conda/lib/python3.9/site-packages/pyspark/ml/evaluation.py:84\u001b[0m, in \u001b[0;36mEvaluator.evaluate\u001b[0;34m(self, dataset, params)\u001b[0m\n\u001b[1;32m     82\u001b[0m         \u001b[38;5;28;01mreturn\u001b[39;00m \u001b[38;5;28mself\u001b[39m\u001b[38;5;241m.\u001b[39mcopy(params)\u001b[38;5;241m.\u001b[39m_evaluate(dataset)\n\u001b[1;32m     83\u001b[0m     \u001b[38;5;28;01melse\u001b[39;00m:\n\u001b[0;32m---> 84\u001b[0m         \u001b[38;5;28;01mreturn\u001b[39;00m \u001b[38;5;28;43mself\u001b[39;49m\u001b[38;5;241;43m.\u001b[39;49m\u001b[43m_evaluate\u001b[49m\u001b[43m(\u001b[49m\u001b[43mdataset\u001b[49m\u001b[43m)\u001b[49m\n\u001b[1;32m     85\u001b[0m \u001b[38;5;28;01melse\u001b[39;00m:\n\u001b[1;32m     86\u001b[0m     \u001b[38;5;28;01mraise\u001b[39;00m \u001b[38;5;167;01mTypeError\u001b[39;00m(\u001b[38;5;124m\"\u001b[39m\u001b[38;5;124mParams must be a param map but got \u001b[39m\u001b[38;5;132;01m%s\u001b[39;00m\u001b[38;5;124m.\u001b[39m\u001b[38;5;124m\"\u001b[39m \u001b[38;5;241m%\u001b[39m \u001b[38;5;28mtype\u001b[39m(params))\n",
      "File \u001b[0;32m/opt/conda/lib/python3.9/site-packages/pyspark/ml/evaluation.py:120\u001b[0m, in \u001b[0;36mJavaEvaluator._evaluate\u001b[0;34m(self, dataset)\u001b[0m\n\u001b[1;32m    106\u001b[0m \u001b[38;5;250m\u001b[39m\u001b[38;5;124;03m\"\"\"\u001b[39;00m\n\u001b[1;32m    107\u001b[0m \u001b[38;5;124;03mEvaluates the output.\u001b[39;00m\n\u001b[1;32m    108\u001b[0m \n\u001b[0;32m   (...)\u001b[0m\n\u001b[1;32m    117\u001b[0m \u001b[38;5;124;03m    evaluation metric\u001b[39;00m\n\u001b[1;32m    118\u001b[0m \u001b[38;5;124;03m\"\"\"\u001b[39;00m\n\u001b[1;32m    119\u001b[0m \u001b[38;5;28mself\u001b[39m\u001b[38;5;241m.\u001b[39m_transfer_params_to_java()\n\u001b[0;32m--> 120\u001b[0m \u001b[38;5;28;01mreturn\u001b[39;00m \u001b[38;5;28;43mself\u001b[39;49m\u001b[38;5;241;43m.\u001b[39;49m\u001b[43m_java_obj\u001b[49m\u001b[38;5;241;43m.\u001b[39;49m\u001b[43mevaluate\u001b[49m\u001b[43m(\u001b[49m\u001b[43mdataset\u001b[49m\u001b[38;5;241;43m.\u001b[39;49m\u001b[43m_jdf\u001b[49m\u001b[43m)\u001b[49m\n",
      "File \u001b[0;32m/opt/conda/lib/python3.9/site-packages/py4j/java_gateway.py:1320\u001b[0m, in \u001b[0;36mJavaMember.__call__\u001b[0;34m(self, *args)\u001b[0m\n\u001b[1;32m   1313\u001b[0m args_command, temp_args \u001b[38;5;241m=\u001b[39m \u001b[38;5;28mself\u001b[39m\u001b[38;5;241m.\u001b[39m_build_args(\u001b[38;5;241m*\u001b[39margs)\n\u001b[1;32m   1315\u001b[0m command \u001b[38;5;241m=\u001b[39m proto\u001b[38;5;241m.\u001b[39mCALL_COMMAND_NAME \u001b[38;5;241m+\u001b[39m\\\n\u001b[1;32m   1316\u001b[0m     \u001b[38;5;28mself\u001b[39m\u001b[38;5;241m.\u001b[39mcommand_header \u001b[38;5;241m+\u001b[39m\\\n\u001b[1;32m   1317\u001b[0m     args_command \u001b[38;5;241m+\u001b[39m\\\n\u001b[1;32m   1318\u001b[0m     proto\u001b[38;5;241m.\u001b[39mEND_COMMAND_PART\n\u001b[0;32m-> 1320\u001b[0m answer \u001b[38;5;241m=\u001b[39m \u001b[38;5;28;43mself\u001b[39;49m\u001b[38;5;241;43m.\u001b[39;49m\u001b[43mgateway_client\u001b[49m\u001b[38;5;241;43m.\u001b[39;49m\u001b[43msend_command\u001b[49m\u001b[43m(\u001b[49m\u001b[43mcommand\u001b[49m\u001b[43m)\u001b[49m\n\u001b[1;32m   1321\u001b[0m return_value \u001b[38;5;241m=\u001b[39m get_return_value(\n\u001b[1;32m   1322\u001b[0m     answer, \u001b[38;5;28mself\u001b[39m\u001b[38;5;241m.\u001b[39mgateway_client, \u001b[38;5;28mself\u001b[39m\u001b[38;5;241m.\u001b[39mtarget_id, \u001b[38;5;28mself\u001b[39m\u001b[38;5;241m.\u001b[39mname)\n\u001b[1;32m   1324\u001b[0m \u001b[38;5;28;01mfor\u001b[39;00m temp_arg \u001b[38;5;129;01min\u001b[39;00m temp_args:\n",
      "File \u001b[0;32m/opt/conda/lib/python3.9/site-packages/py4j/java_gateway.py:1038\u001b[0m, in \u001b[0;36mGatewayClient.send_command\u001b[0;34m(self, command, retry, binary)\u001b[0m\n\u001b[1;32m   1036\u001b[0m connection \u001b[38;5;241m=\u001b[39m \u001b[38;5;28mself\u001b[39m\u001b[38;5;241m.\u001b[39m_get_connection()\n\u001b[1;32m   1037\u001b[0m \u001b[38;5;28;01mtry\u001b[39;00m:\n\u001b[0;32m-> 1038\u001b[0m     response \u001b[38;5;241m=\u001b[39m \u001b[43mconnection\u001b[49m\u001b[38;5;241;43m.\u001b[39;49m\u001b[43msend_command\u001b[49m\u001b[43m(\u001b[49m\u001b[43mcommand\u001b[49m\u001b[43m)\u001b[49m\n\u001b[1;32m   1039\u001b[0m     \u001b[38;5;28;01mif\u001b[39;00m binary:\n\u001b[1;32m   1040\u001b[0m         \u001b[38;5;28;01mreturn\u001b[39;00m response, \u001b[38;5;28mself\u001b[39m\u001b[38;5;241m.\u001b[39m_create_connection_guard(connection)\n",
      "File \u001b[0;32m/opt/conda/lib/python3.9/site-packages/py4j/clientserver.py:511\u001b[0m, in \u001b[0;36mClientServerConnection.send_command\u001b[0;34m(self, command)\u001b[0m\n\u001b[1;32m    509\u001b[0m \u001b[38;5;28;01mtry\u001b[39;00m:\n\u001b[1;32m    510\u001b[0m     \u001b[38;5;28;01mwhile\u001b[39;00m \u001b[38;5;28;01mTrue\u001b[39;00m:\n\u001b[0;32m--> 511\u001b[0m         answer \u001b[38;5;241m=\u001b[39m smart_decode(\u001b[38;5;28;43mself\u001b[39;49m\u001b[38;5;241;43m.\u001b[39;49m\u001b[43mstream\u001b[49m\u001b[38;5;241;43m.\u001b[39;49m\u001b[43mreadline\u001b[49m\u001b[43m(\u001b[49m\u001b[43m)\u001b[49m[:\u001b[38;5;241m-\u001b[39m\u001b[38;5;241m1\u001b[39m])\n\u001b[1;32m    512\u001b[0m         logger\u001b[38;5;241m.\u001b[39mdebug(\u001b[38;5;124m\"\u001b[39m\u001b[38;5;124mAnswer received: \u001b[39m\u001b[38;5;132;01m{0}\u001b[39;00m\u001b[38;5;124m\"\u001b[39m\u001b[38;5;241m.\u001b[39mformat(answer))\n\u001b[1;32m    513\u001b[0m         \u001b[38;5;66;03m# Happens when a the other end is dead. There might be an empty\u001b[39;00m\n\u001b[1;32m    514\u001b[0m         \u001b[38;5;66;03m# answer before the socket raises an error.\u001b[39;00m\n",
      "File \u001b[0;32m/opt/conda/lib/python3.9/socket.py:704\u001b[0m, in \u001b[0;36mSocketIO.readinto\u001b[0;34m(self, b)\u001b[0m\n\u001b[1;32m    702\u001b[0m \u001b[38;5;28;01mwhile\u001b[39;00m \u001b[38;5;28;01mTrue\u001b[39;00m:\n\u001b[1;32m    703\u001b[0m     \u001b[38;5;28;01mtry\u001b[39;00m:\n\u001b[0;32m--> 704\u001b[0m         \u001b[38;5;28;01mreturn\u001b[39;00m \u001b[38;5;28;43mself\u001b[39;49m\u001b[38;5;241;43m.\u001b[39;49m\u001b[43m_sock\u001b[49m\u001b[38;5;241;43m.\u001b[39;49m\u001b[43mrecv_into\u001b[49m\u001b[43m(\u001b[49m\u001b[43mb\u001b[49m\u001b[43m)\u001b[49m\n\u001b[1;32m    705\u001b[0m     \u001b[38;5;28;01mexcept\u001b[39;00m timeout:\n\u001b[1;32m    706\u001b[0m         \u001b[38;5;28mself\u001b[39m\u001b[38;5;241m.\u001b[39m_timeout_occurred \u001b[38;5;241m=\u001b[39m \u001b[38;5;28;01mTrue\u001b[39;00m\n",
      "\u001b[0;31mKeyboardInterrupt\u001b[0m: "
     ]
    },
    {
     "name": "stderr",
     "output_type": "stream",
     "text": [
      "                                                                                \r"
     ]
    }
   ],
   "source": [
    "validate_multi(valid_1, models1)\n"
   ]
  }
 ],
 "metadata": {
  "accelerator": "GPU",
  "colab": {
   "provenance": []
  },
  "gpuClass": "standard",
  "kernelspec": {
   "display_name": "Python 3 (ipykernel)",
   "language": "python",
   "name": "python3"
  },
  "language_info": {
   "codemirror_mode": {
    "name": "ipython",
    "version": 3
   },
   "file_extension": ".py",
   "mimetype": "text/x-python",
   "name": "python",
   "nbconvert_exporter": "python",
   "pygments_lexer": "ipython3",
   "version": "3.9.18"
  },
  "toc": {
   "base_numbering": 1,
   "nav_menu": {},
   "number_sections": true,
   "sideBar": true,
   "skip_h1_title": false,
   "title_cell": "Table of Contents",
   "title_sidebar": "Contents",
   "toc_cell": false,
   "toc_position": {},
   "toc_section_display": true,
   "toc_window_display": false
  },
  "widgets": {
   "application/vnd.jupyter.widget-state+json": {
    "09436c3ae2a44a8ca51ee1103b963ada": {
     "model_module": "@jupyter-widgets/base",
     "model_module_version": "1.2.0",
     "model_name": "LayoutModel",
     "state": {
      "_model_module": "@jupyter-widgets/base",
      "_model_module_version": "1.2.0",
      "_model_name": "LayoutModel",
      "_view_count": null,
      "_view_module": "@jupyter-widgets/base",
      "_view_module_version": "1.2.0",
      "_view_name": "LayoutView",
      "align_content": null,
      "align_items": null,
      "align_self": null,
      "border": null,
      "bottom": null,
      "display": null,
      "flex": null,
      "flex_flow": null,
      "grid_area": null,
      "grid_auto_columns": null,
      "grid_auto_flow": null,
      "grid_auto_rows": null,
      "grid_column": null,
      "grid_gap": null,
      "grid_row": null,
      "grid_template_areas": null,
      "grid_template_columns": null,
      "grid_template_rows": null,
      "height": null,
      "justify_content": null,
      "justify_items": null,
      "left": null,
      "margin": null,
      "max_height": null,
      "max_width": null,
      "min_height": null,
      "min_width": null,
      "object_fit": null,
      "object_position": null,
      "order": null,
      "overflow": null,
      "overflow_x": null,
      "overflow_y": null,
      "padding": null,
      "right": null,
      "top": null,
      "visibility": null,
      "width": null
     }
    },
    "29d20f64d430441ea9364b13dfef101b": {
     "model_module": "@jupyter-widgets/base",
     "model_module_version": "1.2.0",
     "model_name": "LayoutModel",
     "state": {
      "_model_module": "@jupyter-widgets/base",
      "_model_module_version": "1.2.0",
      "_model_name": "LayoutModel",
      "_view_count": null,
      "_view_module": "@jupyter-widgets/base",
      "_view_module_version": "1.2.0",
      "_view_name": "LayoutView",
      "align_content": null,
      "align_items": null,
      "align_self": null,
      "border": null,
      "bottom": null,
      "display": null,
      "flex": null,
      "flex_flow": null,
      "grid_area": null,
      "grid_auto_columns": null,
      "grid_auto_flow": null,
      "grid_auto_rows": null,
      "grid_column": null,
      "grid_gap": null,
      "grid_row": null,
      "grid_template_areas": null,
      "grid_template_columns": null,
      "grid_template_rows": null,
      "height": null,
      "justify_content": null,
      "justify_items": null,
      "left": null,
      "margin": null,
      "max_height": null,
      "max_width": null,
      "min_height": null,
      "min_width": null,
      "object_fit": null,
      "object_position": null,
      "order": null,
      "overflow": null,
      "overflow_x": null,
      "overflow_y": null,
      "padding": null,
      "right": null,
      "top": null,
      "visibility": null,
      "width": null
     }
    },
    "4a9ef407319c43bcb20106c47f0db180": {
     "model_module": "@jupyter-widgets/controls",
     "model_module_version": "1.5.0",
     "model_name": "HTMLModel",
     "state": {
      "_dom_classes": [],
      "_model_module": "@jupyter-widgets/controls",
      "_model_module_version": "1.5.0",
      "_model_name": "HTMLModel",
      "_view_count": null,
      "_view_module": "@jupyter-widgets/controls",
      "_view_module_version": "1.5.0",
      "_view_name": "HTMLView",
      "description": "",
      "description_tooltip": null,
      "layout": "IPY_MODEL_09436c3ae2a44a8ca51ee1103b963ada",
      "placeholder": "​",
      "style": "IPY_MODEL_f6d802990a2344db99bf282c663efa5a",
      "value": "100%"
     }
    },
    "4c356887768a4330ab0b0eec28984484": {
     "model_module": "@jupyter-widgets/controls",
     "model_module_version": "1.5.0",
     "model_name": "DescriptionStyleModel",
     "state": {
      "_model_module": "@jupyter-widgets/controls",
      "_model_module_version": "1.5.0",
      "_model_name": "DescriptionStyleModel",
      "_view_count": null,
      "_view_module": "@jupyter-widgets/base",
      "_view_module_version": "1.2.0",
      "_view_name": "StyleView",
      "description_width": ""
     }
    },
    "520b45d5f972463da632a32f96c71ee4": {
     "model_module": "@jupyter-widgets/controls",
     "model_module_version": "1.5.0",
     "model_name": "HTMLModel",
     "state": {
      "_dom_classes": [],
      "_model_module": "@jupyter-widgets/controls",
      "_model_module_version": "1.5.0",
      "_model_name": "HTMLModel",
      "_view_count": null,
      "_view_module": "@jupyter-widgets/controls",
      "_view_module_version": "1.5.0",
      "_view_name": "HTMLView",
      "description": "",
      "description_tooltip": null,
      "layout": "IPY_MODEL_29d20f64d430441ea9364b13dfef101b",
      "placeholder": "​",
      "style": "IPY_MODEL_e7d3b9b9d1224868988e665b4c677357",
      "value": " 1881/1881 [00:24&lt;00:00, 97.61it/s]"
     }
    },
    "53ccb4062ee94e0c84618143ff39ce05": {
     "model_module": "@jupyter-widgets/base",
     "model_module_version": "1.2.0",
     "model_name": "LayoutModel",
     "state": {
      "_model_module": "@jupyter-widgets/base",
      "_model_module_version": "1.2.0",
      "_model_name": "LayoutModel",
      "_view_count": null,
      "_view_module": "@jupyter-widgets/base",
      "_view_module_version": "1.2.0",
      "_view_name": "LayoutView",
      "align_content": null,
      "align_items": null,
      "align_self": null,
      "border": null,
      "bottom": null,
      "display": null,
      "flex": null,
      "flex_flow": null,
      "grid_area": null,
      "grid_auto_columns": null,
      "grid_auto_flow": null,
      "grid_auto_rows": null,
      "grid_column": null,
      "grid_gap": null,
      "grid_row": null,
      "grid_template_areas": null,
      "grid_template_columns": null,
      "grid_template_rows": null,
      "height": null,
      "justify_content": null,
      "justify_items": null,
      "left": null,
      "margin": null,
      "max_height": null,
      "max_width": null,
      "min_height": null,
      "min_width": null,
      "object_fit": null,
      "object_position": null,
      "order": null,
      "overflow": null,
      "overflow_x": null,
      "overflow_y": null,
      "padding": null,
      "right": null,
      "top": null,
      "visibility": null,
      "width": null
     }
    },
    "55e857853048445b87cea2de151ba035": {
     "model_module": "@jupyter-widgets/base",
     "model_module_version": "1.2.0",
     "model_name": "LayoutModel",
     "state": {
      "_model_module": "@jupyter-widgets/base",
      "_model_module_version": "1.2.0",
      "_model_name": "LayoutModel",
      "_view_count": null,
      "_view_module": "@jupyter-widgets/base",
      "_view_module_version": "1.2.0",
      "_view_name": "LayoutView",
      "align_content": null,
      "align_items": null,
      "align_self": null,
      "border": null,
      "bottom": null,
      "display": null,
      "flex": null,
      "flex_flow": null,
      "grid_area": null,
      "grid_auto_columns": null,
      "grid_auto_flow": null,
      "grid_auto_rows": null,
      "grid_column": null,
      "grid_gap": null,
      "grid_row": null,
      "grid_template_areas": null,
      "grid_template_columns": null,
      "grid_template_rows": null,
      "height": null,
      "justify_content": null,
      "justify_items": null,
      "left": null,
      "margin": null,
      "max_height": null,
      "max_width": null,
      "min_height": null,
      "min_width": null,
      "object_fit": null,
      "object_position": null,
      "order": null,
      "overflow": null,
      "overflow_x": null,
      "overflow_y": null,
      "padding": null,
      "right": null,
      "top": null,
      "visibility": null,
      "width": null
     }
    },
    "790f3379b0364c88ae6bdec739b97248": {
     "model_module": "@jupyter-widgets/base",
     "model_module_version": "1.2.0",
     "model_name": "LayoutModel",
     "state": {
      "_model_module": "@jupyter-widgets/base",
      "_model_module_version": "1.2.0",
      "_model_name": "LayoutModel",
      "_view_count": null,
      "_view_module": "@jupyter-widgets/base",
      "_view_module_version": "1.2.0",
      "_view_name": "LayoutView",
      "align_content": null,
      "align_items": null,
      "align_self": null,
      "border": null,
      "bottom": null,
      "display": null,
      "flex": null,
      "flex_flow": null,
      "grid_area": null,
      "grid_auto_columns": null,
      "grid_auto_flow": null,
      "grid_auto_rows": null,
      "grid_column": null,
      "grid_gap": null,
      "grid_row": null,
      "grid_template_areas": null,
      "grid_template_columns": null,
      "grid_template_rows": null,
      "height": null,
      "justify_content": null,
      "justify_items": null,
      "left": null,
      "margin": null,
      "max_height": null,
      "max_width": null,
      "min_height": null,
      "min_width": null,
      "object_fit": null,
      "object_position": null,
      "order": null,
      "overflow": null,
      "overflow_x": null,
      "overflow_y": null,
      "padding": null,
      "right": null,
      "top": null,
      "visibility": null,
      "width": null
     }
    },
    "7a0c9eaf1d1e4a56a195dff77a7ed5f9": {
     "model_module": "@jupyter-widgets/controls",
     "model_module_version": "1.5.0",
     "model_name": "FloatProgressModel",
     "state": {
      "_dom_classes": [],
      "_model_module": "@jupyter-widgets/controls",
      "_model_module_version": "1.5.0",
      "_model_name": "FloatProgressModel",
      "_view_count": null,
      "_view_module": "@jupyter-widgets/controls",
      "_view_module_version": "1.5.0",
      "_view_name": "ProgressView",
      "bar_style": "success",
      "description": "",
      "description_tooltip": null,
      "layout": "IPY_MODEL_bb35a24296ed455a872731cef7333ffb",
      "max": 5001,
      "min": 0,
      "orientation": "horizontal",
      "style": "IPY_MODEL_dc7da92e2f454f79b07c3ca86c3cc9d4",
      "value": 5001
     }
    },
    "911d4b1f888540eb96b8b6a48134f078": {
     "model_module": "@jupyter-widgets/base",
     "model_module_version": "1.2.0",
     "model_name": "LayoutModel",
     "state": {
      "_model_module": "@jupyter-widgets/base",
      "_model_module_version": "1.2.0",
      "_model_name": "LayoutModel",
      "_view_count": null,
      "_view_module": "@jupyter-widgets/base",
      "_view_module_version": "1.2.0",
      "_view_name": "LayoutView",
      "align_content": null,
      "align_items": null,
      "align_self": null,
      "border": null,
      "bottom": null,
      "display": null,
      "flex": null,
      "flex_flow": null,
      "grid_area": null,
      "grid_auto_columns": null,
      "grid_auto_flow": null,
      "grid_auto_rows": null,
      "grid_column": null,
      "grid_gap": null,
      "grid_row": null,
      "grid_template_areas": null,
      "grid_template_columns": null,
      "grid_template_rows": null,
      "height": null,
      "justify_content": null,
      "justify_items": null,
      "left": null,
      "margin": null,
      "max_height": null,
      "max_width": null,
      "min_height": null,
      "min_width": null,
      "object_fit": null,
      "object_position": null,
      "order": null,
      "overflow": null,
      "overflow_x": null,
      "overflow_y": null,
      "padding": null,
      "right": null,
      "top": null,
      "visibility": null,
      "width": null
     }
    },
    "918b0c55f55f4b799fb41adb002c5f1f": {
     "model_module": "@jupyter-widgets/controls",
     "model_module_version": "1.5.0",
     "model_name": "HBoxModel",
     "state": {
      "_dom_classes": [],
      "_model_module": "@jupyter-widgets/controls",
      "_model_module_version": "1.5.0",
      "_model_name": "HBoxModel",
      "_view_count": null,
      "_view_module": "@jupyter-widgets/controls",
      "_view_module_version": "1.5.0",
      "_view_name": "HBoxView",
      "box_style": "",
      "children": [
       "IPY_MODEL_9a823940919d4e068c01e31276740b0f",
       "IPY_MODEL_9fe2d03a06474596b0547d0410da8064",
       "IPY_MODEL_520b45d5f972463da632a32f96c71ee4"
      ],
      "layout": "IPY_MODEL_911d4b1f888540eb96b8b6a48134f078"
     }
    },
    "9a823940919d4e068c01e31276740b0f": {
     "model_module": "@jupyter-widgets/controls",
     "model_module_version": "1.5.0",
     "model_name": "HTMLModel",
     "state": {
      "_dom_classes": [],
      "_model_module": "@jupyter-widgets/controls",
      "_model_module_version": "1.5.0",
      "_model_name": "HTMLModel",
      "_view_count": null,
      "_view_module": "@jupyter-widgets/controls",
      "_view_module_version": "1.5.0",
      "_view_name": "HTMLView",
      "description": "",
      "description_tooltip": null,
      "layout": "IPY_MODEL_53ccb4062ee94e0c84618143ff39ce05",
      "placeholder": "​",
      "style": "IPY_MODEL_df5b9e6414d449f0961eecec22b16991",
      "value": "100%"
     }
    },
    "9fe2d03a06474596b0547d0410da8064": {
     "model_module": "@jupyter-widgets/controls",
     "model_module_version": "1.5.0",
     "model_name": "FloatProgressModel",
     "state": {
      "_dom_classes": [],
      "_model_module": "@jupyter-widgets/controls",
      "_model_module_version": "1.5.0",
      "_model_name": "FloatProgressModel",
      "_view_count": null,
      "_view_module": "@jupyter-widgets/controls",
      "_view_module_version": "1.5.0",
      "_view_name": "ProgressView",
      "bar_style": "success",
      "description": "",
      "description_tooltip": null,
      "layout": "IPY_MODEL_790f3379b0364c88ae6bdec739b97248",
      "max": 1881,
      "min": 0,
      "orientation": "horizontal",
      "style": "IPY_MODEL_e5a69cc464fe42f6be81a34ed57b1686",
      "value": 1881
     }
    },
    "a194d82dd952480387bf1f599a8e52e5": {
     "model_module": "@jupyter-widgets/base",
     "model_module_version": "1.2.0",
     "model_name": "LayoutModel",
     "state": {
      "_model_module": "@jupyter-widgets/base",
      "_model_module_version": "1.2.0",
      "_model_name": "LayoutModel",
      "_view_count": null,
      "_view_module": "@jupyter-widgets/base",
      "_view_module_version": "1.2.0",
      "_view_name": "LayoutView",
      "align_content": null,
      "align_items": null,
      "align_self": null,
      "border": null,
      "bottom": null,
      "display": null,
      "flex": null,
      "flex_flow": null,
      "grid_area": null,
      "grid_auto_columns": null,
      "grid_auto_flow": null,
      "grid_auto_rows": null,
      "grid_column": null,
      "grid_gap": null,
      "grid_row": null,
      "grid_template_areas": null,
      "grid_template_columns": null,
      "grid_template_rows": null,
      "height": null,
      "justify_content": null,
      "justify_items": null,
      "left": null,
      "margin": null,
      "max_height": null,
      "max_width": null,
      "min_height": null,
      "min_width": null,
      "object_fit": null,
      "object_position": null,
      "order": null,
      "overflow": null,
      "overflow_x": null,
      "overflow_y": null,
      "padding": null,
      "right": null,
      "top": null,
      "visibility": null,
      "width": null
     }
    },
    "bb35a24296ed455a872731cef7333ffb": {
     "model_module": "@jupyter-widgets/base",
     "model_module_version": "1.2.0",
     "model_name": "LayoutModel",
     "state": {
      "_model_module": "@jupyter-widgets/base",
      "_model_module_version": "1.2.0",
      "_model_name": "LayoutModel",
      "_view_count": null,
      "_view_module": "@jupyter-widgets/base",
      "_view_module_version": "1.2.0",
      "_view_name": "LayoutView",
      "align_content": null,
      "align_items": null,
      "align_self": null,
      "border": null,
      "bottom": null,
      "display": null,
      "flex": null,
      "flex_flow": null,
      "grid_area": null,
      "grid_auto_columns": null,
      "grid_auto_flow": null,
      "grid_auto_rows": null,
      "grid_column": null,
      "grid_gap": null,
      "grid_row": null,
      "grid_template_areas": null,
      "grid_template_columns": null,
      "grid_template_rows": null,
      "height": null,
      "justify_content": null,
      "justify_items": null,
      "left": null,
      "margin": null,
      "max_height": null,
      "max_width": null,
      "min_height": null,
      "min_width": null,
      "object_fit": null,
      "object_position": null,
      "order": null,
      "overflow": null,
      "overflow_x": null,
      "overflow_y": null,
      "padding": null,
      "right": null,
      "top": null,
      "visibility": null,
      "width": null
     }
    },
    "d5a7c1d85e63402ebd0c36cb6883ab33": {
     "model_module": "@jupyter-widgets/controls",
     "model_module_version": "1.5.0",
     "model_name": "HTMLModel",
     "state": {
      "_dom_classes": [],
      "_model_module": "@jupyter-widgets/controls",
      "_model_module_version": "1.5.0",
      "_model_name": "HTMLModel",
      "_view_count": null,
      "_view_module": "@jupyter-widgets/controls",
      "_view_module_version": "1.5.0",
      "_view_name": "HTMLView",
      "description": "",
      "description_tooltip": null,
      "layout": "IPY_MODEL_a194d82dd952480387bf1f599a8e52e5",
      "placeholder": "​",
      "style": "IPY_MODEL_4c356887768a4330ab0b0eec28984484",
      "value": " 5001/5001 [01:11&lt;00:00, 106.18it/s]"
     }
    },
    "dc7da92e2f454f79b07c3ca86c3cc9d4": {
     "model_module": "@jupyter-widgets/controls",
     "model_module_version": "1.5.0",
     "model_name": "ProgressStyleModel",
     "state": {
      "_model_module": "@jupyter-widgets/controls",
      "_model_module_version": "1.5.0",
      "_model_name": "ProgressStyleModel",
      "_view_count": null,
      "_view_module": "@jupyter-widgets/base",
      "_view_module_version": "1.2.0",
      "_view_name": "StyleView",
      "bar_color": null,
      "description_width": ""
     }
    },
    "df5b9e6414d449f0961eecec22b16991": {
     "model_module": "@jupyter-widgets/controls",
     "model_module_version": "1.5.0",
     "model_name": "DescriptionStyleModel",
     "state": {
      "_model_module": "@jupyter-widgets/controls",
      "_model_module_version": "1.5.0",
      "_model_name": "DescriptionStyleModel",
      "_view_count": null,
      "_view_module": "@jupyter-widgets/base",
      "_view_module_version": "1.2.0",
      "_view_name": "StyleView",
      "description_width": ""
     }
    },
    "e5a69cc464fe42f6be81a34ed57b1686": {
     "model_module": "@jupyter-widgets/controls",
     "model_module_version": "1.5.0",
     "model_name": "ProgressStyleModel",
     "state": {
      "_model_module": "@jupyter-widgets/controls",
      "_model_module_version": "1.5.0",
      "_model_name": "ProgressStyleModel",
      "_view_count": null,
      "_view_module": "@jupyter-widgets/base",
      "_view_module_version": "1.2.0",
      "_view_name": "StyleView",
      "bar_color": null,
      "description_width": ""
     }
    },
    "e7d3b9b9d1224868988e665b4c677357": {
     "model_module": "@jupyter-widgets/controls",
     "model_module_version": "1.5.0",
     "model_name": "DescriptionStyleModel",
     "state": {
      "_model_module": "@jupyter-widgets/controls",
      "_model_module_version": "1.5.0",
      "_model_name": "DescriptionStyleModel",
      "_view_count": null,
      "_view_module": "@jupyter-widgets/base",
      "_view_module_version": "1.2.0",
      "_view_name": "StyleView",
      "description_width": ""
     }
    },
    "f6d802990a2344db99bf282c663efa5a": {
     "model_module": "@jupyter-widgets/controls",
     "model_module_version": "1.5.0",
     "model_name": "DescriptionStyleModel",
     "state": {
      "_model_module": "@jupyter-widgets/controls",
      "_model_module_version": "1.5.0",
      "_model_name": "DescriptionStyleModel",
      "_view_count": null,
      "_view_module": "@jupyter-widgets/base",
      "_view_module_version": "1.2.0",
      "_view_name": "StyleView",
      "description_width": ""
     }
    },
    "fca0079f6a714ac7885e1474711d7913": {
     "model_module": "@jupyter-widgets/controls",
     "model_module_version": "1.5.0",
     "model_name": "HBoxModel",
     "state": {
      "_dom_classes": [],
      "_model_module": "@jupyter-widgets/controls",
      "_model_module_version": "1.5.0",
      "_model_name": "HBoxModel",
      "_view_count": null,
      "_view_module": "@jupyter-widgets/controls",
      "_view_module_version": "1.5.0",
      "_view_name": "HBoxView",
      "box_style": "",
      "children": [
       "IPY_MODEL_4a9ef407319c43bcb20106c47f0db180",
       "IPY_MODEL_7a0c9eaf1d1e4a56a195dff77a7ed5f9",
       "IPY_MODEL_d5a7c1d85e63402ebd0c36cb6883ab33"
      ],
      "layout": "IPY_MODEL_55e857853048445b87cea2de151ba035"
     }
    }
   }
  }
 },
 "nbformat": 4,
 "nbformat_minor": 5
}

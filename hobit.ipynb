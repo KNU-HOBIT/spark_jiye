{
 "cells": [
  {
   "cell_type": "code",
   "execution_count": 1,
   "id": "13932029",
   "metadata": {},
   "outputs": [
    {
     "name": "stdout",
     "output_type": "stream",
     "text": [
      "FILES IN THIS DIRECTORY\n",
      "['.bashrc', '.bash_logout', '.profile', '.ipython', '.cache', '.npm', '.bash_history', '.local', '.ipynb_checkpoints', 'config.json', '.jupyter', 'jars', '.conda', '.config', '.wget-hsts', 'work']\n"
     ]
    }
   ],
   "source": [
    "from pyspark.sql import SparkSession, Row\n",
    "from pyspark.sql.functions import from_json\n",
    "from pyspark.sql.types import *\n",
    "from pyspark.conf import SparkConf\n",
    "from pyspark.context import SparkContext\n",
    "import time as timer\n",
    "import argparse\n",
    "import datetime\n",
    "import json\n",
    "from pyspark.sql.functions import col, abs, mean, expr, substring, udf\n",
    "from pyspark.ml.feature import StringIndexer\n",
    "from pyspark.ml.feature import VectorAssembler\n",
    "from pyspark.ml.regression import LinearRegression\n",
    "from pyspark.ml.regression import RandomForestRegressor\n",
    "\n",
    "from pyspark.sql.functions import udf\n",
    "from pyspark.sql.types import DoubleType\n",
    "\n",
    "import random\n",
    "import pandas as pd\n",
    "import numpy as np\n",
    "import os\n",
    "from tqdm import tqdm\n",
    "#import lightgbm as lgb\n",
    "\n",
    "os.environ['PYSPARK_SUBMIT_ARGS'] = '--conf spark.driver.extraJavaOptions=-Dio.netty.tryReflectionSetAccessible=true --conf spark.executor.extraJavaOptions=-Dio.netty.tryReflectionSetAccessible=true pyspark-shell'\n",
    "\n",
    "schema = StructType(\n",
    "    [\n",
    "        StructField(\"num_date_time\", StringType()),\n",
    "        StructField(\"건물번호\", StringType()),\n",
    "        StructField(\"일시\", StringType()),\n",
    "        StructField(\"기온(C)\", StringType()),\n",
    "        StructField(\"강수량(mm)\", StringType()),\n",
    "        StructField(\"풍속(m/s)\", StringType()),\n",
    "        StructField(\"습도(%)\", StringType()),\n",
    "        StructField(\"일조(hr)\", StringType()),\n",
    "        StructField(\"일사(MJ/m2)\", StringType()),\n",
    "        StructField(\"전력소비량(kWh)\", StringType()),\n",
    "    ]\n",
    ")\n",
    "\n",
    "schema2 = StructType(\n",
    "    [\n",
    "        StructField(\"num_date_time\", StringType()),\n",
    "        StructField(\"건물번호\", StringType()),\n",
    "        StructField(\"일시\", StringType()),\n",
    "        StructField(\"기온(C)\", StringType()),\n",
    "        StructField(\"강수량(mm)\", StringType()),\n",
    "        StructField(\"풍속(m/s)\", StringType()),\n",
    "        StructField(\"습도(%)\", StringType()),\n",
    "    ]\n",
    ")\n",
    "\n",
    "schema3 = StructType(\n",
    "    [\n",
    "        StructField(\"건물번호\", StringType()),\n",
    "        StructField(\"건물유형\", StringType()),\n",
    "        StructField(\"연면적(m2)\", StringType()),\n",
    "        StructField(\"냉방면적(m2)\", StringType()),\n",
    "        StructField(\"태양광용량(kW)\", StringType()),\n",
    "        StructField(\"ESS저장용량(kWh)\", StringType()),\n",
    "        StructField(\"PCS용량(kW)\", StringType()),\n",
    "    ]\n",
    ")\n",
    "\n",
    "\n",
    "\n",
    "print(\"FILES IN THIS DIRECTORY\")\n",
    "print(os.listdir(os.getcwd()))"
   ]
  },
  {
   "cell_type": "markdown",
   "id": "QT7_IBn9QwYz",
   "metadata": {
    "id": "QT7_IBn9QwYz"
   },
   "source": [
    "## Fixed Random-Seed"
   ]
  },
  {
   "cell_type": "code",
   "execution_count": 2,
   "id": "KgyHxME7QwYz",
   "metadata": {
    "ExecuteTime": {
     "end_time": "2022-07-11T08:41:57.009050Z",
     "start_time": "2022-07-11T08:41:57.006949Z"
    },
    "executionInfo": {
     "elapsed": 2,
     "status": "ok",
     "timestamp": 1683473189486,
     "user": {
      "displayName": "이승윤",
      "userId": "17995305622900705411"
     },
     "user_tz": -540
    },
    "id": "KgyHxME7QwYz"
   },
   "outputs": [],
   "source": [
    "def seed_everything(seed):\n",
    "    random.seed(seed)\n",
    "    os.environ['PYTHONHASHSEED'] = str(seed)\n",
    "    np.random.seed(seed)\n",
    "\n",
    "seed_everything(42) # Seed 고정"
   ]
  },
  {
   "cell_type": "code",
   "execution_count": 3,
   "id": "c8aa0773",
   "metadata": {},
   "outputs": [],
   "source": [
    "#config.json 파일 읽기\n",
    "with open(\"config.json\", \"r\") as f:\n",
    "   config = json.load(f)\n",
    "\n",
    "jar_urls = \",\".join(config[\"KAFKA_JAR_URLS\"])\n",
    "repartition_num = config[\"NUM_EXECUTORS\"] * config[\"EXECUTOR_CORES\"] * 2\n",
    "\n"
   ]
  },
  {
   "cell_type": "code",
   "execution_count": 4,
   "id": "513a9c19",
   "metadata": {},
   "outputs": [
    {
     "name": "stderr",
     "output_type": "stream",
     "text": [
      "WARNING: An illegal reflective access operation has occurred\n",
      "WARNING: Illegal reflective access by org.apache.spark.unsafe.Platform (file:/opt/conda/lib/python3.9/site-packages/pyspark/jars/spark-unsafe_2.12-3.2.4.jar) to constructor java.nio.DirectByteBuffer(long,int)\n",
      "WARNING: Please consider reporting this to the maintainers of org.apache.spark.unsafe.Platform\n",
      "WARNING: Use --illegal-access=warn to enable warnings of further illegal reflective access operations\n",
      "WARNING: All illegal access operations will be denied in a future release\n",
      "24/05/26 05:16:43 WARN NativeCodeLoader: Unable to load native-hadoop library for your platform... using builtin-java classes where applicable\n",
      "Using Spark's default log4j profile: org/apache/spark/log4j-defaults.properties\n",
      "Setting default log level to \"WARN\".\n",
      "To adjust logging level use sc.setLogLevel(newLevel). For SparkR, use setLogLevel(newLevel).\n"
     ]
    }
   ],
   "source": [
    "# SparkSession 생성\n",
    "spark = (\n",
    "    SparkSession.builder.master(\"spark://spark-master-service:7077\")\n",
    "    .config(\"spark.driver.bindAddress\", \"0.0.0.0\")\n",
    "    .config(\"spark.driver.host\", \"10.42.2.18\")\n",
    "    .config(\"spark.driver.port\", \"39337\")\n",
    "    .config(\"spark.cores.max\", \"48\")\n",
    "    .config(\"spark.network.timeout\", \"600s\")\n",
    "    .config(\"spark.executor.instances\", config[\"NUM_EXECUTORS\"])\n",
    "    .config(\"spark.executor.cores\", config[\"EXECUTOR_CORES\"])\n",
    "    .config(\"spark.executor.memory\", config[\"EXECUTOR_MEMORY\"])   \n",
    "    .config(\"spark.driver.memory\", \"30g\")\n",
    "    .config(\"spark.memory.offHeap.enabled\", \"true\")\n",
    "    .config(\"spark.memory.offHeap.size\",\"20g\")\n",
    "    \n",
    "    .config(\"spark.defaul.parallelism\", repartition_num)\n",
    "    .config(\"spark.sql.shuffle.partitions\", repartition_num)\n",
    "    .config(\"spark.driver.extraJavaOptions\", \"--illegal-access=permit\")\n",
    "    .config(\"spark.executor.extraJavaOptions\", \"--illegal-access=permit\")\n",
    "    .config(\"spark.jars\", jar_urls)  # JAR 파일 포함\n",
    "    .appName(\"asdf\")\n",
    "    .getOrCreate()\n",
    ")\n",
    "\n",
    "sc = spark.sparkContext\n",
    "sc.setLogLevel(\"ERROR\")"
   ]
  },
  {
   "cell_type": "code",
   "execution_count": 5,
   "id": "5a544621",
   "metadata": {},
   "outputs": [
    {
     "data": {
      "text/html": [
       "\n",
       "        <div>\n",
       "            <p><b>SparkContext</b></p>\n",
       "\n",
       "            <p><a href=\"http://10.42.2.18:4040\">Spark UI</a></p>\n",
       "\n",
       "            <dl>\n",
       "              <dt>Version</dt>\n",
       "                <dd><code>v3.2.4</code></dd>\n",
       "              <dt>Master</dt>\n",
       "                <dd><code>spark://spark-master-service:7077</code></dd>\n",
       "              <dt>AppName</dt>\n",
       "                <dd><code>asdf</code></dd>\n",
       "            </dl>\n",
       "        </div>\n",
       "        "
      ],
      "text/plain": [
       "<SparkContext master=spark://spark-master-service:7077 appName=asdf>"
      ]
     },
     "execution_count": 5,
     "metadata": {},
     "output_type": "execute_result"
    }
   ],
   "source": [
    "sc"
   ]
  },
  {
   "cell_type": "code",
   "execution_count": 6,
   "id": "d4144ecc",
   "metadata": {},
   "outputs": [
    {
     "name": "stdout",
     "output_type": "stream",
     "text": [
      "Current Spark configuration:\n",
      "spark.app.id = app-20240526051644-0405\n",
      "spark.app.initial.jar.urls = spark://10.42.2.18:39337/jars/commons-pool2-2.6.2.jar,spark://10.42.2.18:39337/jars/hadoop-client-api-3.3.1.jar,spark://10.42.2.18:39337/jars/kafka-clients-2.8.1.jar,spark://10.42.2.18:39337/jars/spark-sql-kafka-0-10_2.12-3.2.4.jar,spark://10.42.2.18:39337/jars/hadoop-client-runtime-3.3.1.jar,spark://10.42.2.18:39337/jars/htrace-core4-4.1.0-incubating.jar,spark://10.42.2.18:39337/jars/commons-logging-1.1.3.jar,spark://10.42.2.18:39337/jars/spark-streaming-kafka-0-10_2.12-3.2.4.jar,spark://10.42.2.18:39337/jars/jsr305-3.0.0.jar,spark://10.42.2.18:39337/jars/spark-token-provider-kafka-0-10_2.12-3.2.4.jar\n",
      "spark.app.name = asdf\n",
      "spark.app.startTime = 1716700603983\n",
      "spark.cores.max = 48\n",
      "spark.defaul.parallelism = 96\n",
      "spark.driver.bindAddress = 0.0.0.0\n",
      "spark.driver.extraJavaOptions = --illegal-access=permit\n",
      "spark.driver.host = 10.42.2.18\n",
      "spark.driver.memory = 30g\n",
      "spark.driver.port = 39337\n",
      "spark.executor.cores = 16\n",
      "spark.executor.extraJavaOptions = --illegal-access=permit\n",
      "spark.executor.id = driver\n",
      "spark.executor.instances = 3\n",
      "spark.executor.memory = 24G\n",
      "spark.jars = jars/jsr305-3.0.0.jar,jars/commons-logging-1.1.3.jar,jars/commons-pool2-2.6.2.jar,jars/hadoop-client-api-3.3.1.jar,jars/hadoop-client-runtime-3.3.1.jar,jars/htrace-core4-4.1.0-incubating.jar,jars/kafka-clients-2.8.1.jar,jars/spark-token-provider-kafka-0-10_2.12-3.2.4.jar,jars/spark-sql-kafka-0-10_2.12-3.2.4.jar,jars/spark-streaming-kafka-0-10_2.12-3.2.4.jar\n",
      "spark.master = spark://spark-master-service:7077\n",
      "spark.memory.offHeap.enabled = true\n",
      "spark.memory.offHeap.size = 20g\n",
      "spark.network.timeout = 600s\n",
      "spark.rdd.compress = True\n",
      "spark.repl.local.jars = file:///home/jovyan/jars/jsr305-3.0.0.jar,file:///home/jovyan/jars/commons-logging-1.1.3.jar,file:///home/jovyan/jars/commons-pool2-2.6.2.jar,file:///home/jovyan/jars/hadoop-client-api-3.3.1.jar,file:///home/jovyan/jars/hadoop-client-runtime-3.3.1.jar,file:///home/jovyan/jars/htrace-core4-4.1.0-incubating.jar,file:///home/jovyan/jars/kafka-clients-2.8.1.jar,file:///home/jovyan/jars/spark-token-provider-kafka-0-10_2.12-3.2.4.jar,file:///home/jovyan/jars/spark-sql-kafka-0-10_2.12-3.2.4.jar,file:///home/jovyan/jars/spark-streaming-kafka-0-10_2.12-3.2.4.jar\n",
      "spark.serializer.objectStreamReset = 100\n",
      "spark.sql.shuffle.partitions = 96\n",
      "spark.sql.warehouse.dir = file:/home/jovyan/spark-warehouse\n",
      "spark.submit.deployMode = client\n",
      "spark.submit.pyFiles = \n",
      "spark.ui.showConsoleProgress = true\n"
     ]
    }
   ],
   "source": [
    "print(\"Current Spark configuration:\")\n",
    "for key, value in sorted(sc._conf.getAll(), key=lambda x: x[0]):\n",
    "    print(f\"{key} = {value}\")"
   ]
  },
  {
   "cell_type": "code",
   "execution_count": 7,
   "id": "a1afdca2",
   "metadata": {},
   "outputs": [
    {
     "name": "stdout",
     "output_type": "stream",
     "text": [
      "root\n",
      " |-- createTime: string (nullable = true)\n",
      " |-- 건물번호: string (nullable = true)\n",
      " |-- 건물유형: string (nullable = true)\n",
      " |-- 연면적(m2): string (nullable = true)\n",
      " |-- 냉방면적(m2): string (nullable = true)\n",
      " |-- 태양광용량(kW): string (nullable = true)\n",
      " |-- ESS저장용량(kWh): string (nullable = true)\n",
      " |-- PCS용량(kW): string (nullable = true)\n",
      "\n"
     ]
    }
   ],
   "source": [
    "# 그냥 가져오기\n",
    "building_sdf = (\n",
    "    spark.read.format(\"kafka\")\n",
    "    .option(\"kafka.bootstrap.servers\", \"my-cluster-kafka-bootstrap.kafka.svc:9092\")\n",
    "    .option(\"subscribe\", \"building-jy\")\n",
    "    .option(\"kafka.group.id\", \"my_consumer_group\")\n",
    "    .load()\n",
    ")  # 밀리초 단위 에포치 시간endingTimestamp\n",
    "building_sdf = building_sdf.selectExpr(\"CAST(value AS STRING)\", \"CAST(timestamp AS STRING)\")\n",
    "building_sdf = building_sdf.withColumnRenamed(\"timestamp\", \"createTime\")\n",
    "building_sdf = building_sdf.withColumn(\"value\", from_json(building_sdf[\"value\"], schema3))\n",
    "\n",
    "\n",
    "for field in schema3.fields:\n",
    "    building_sdf = building_sdf.withColumn(field.name, building_sdf[\"value.\" + field.name])\n",
    "building_sdf = building_sdf.drop(\"value\")\n",
    "# 이거쓰면 df가 repartition_num 수만큼 쪼개져서 병렬처리가능한 상태가 됨.\n",
    "building_sdf = building_sdf.repartition(repartition_num)\n",
    "\n",
    "\n",
    "building_sdf.printSchema()"
   ]
  },
  {
   "cell_type": "code",
   "execution_count": 8,
   "id": "962ca250",
   "metadata": {},
   "outputs": [],
   "source": [
    "building_sdf = building_sdf.select(\n",
    "    building_sdf[\"createTime\"],\n",
    "    building_sdf[\"건물번호\"],\n",
    "    building_sdf[\"건물유형\"],\n",
    "    building_sdf[\"연면적(m2)\"],\n",
    "    building_sdf[\"냉방면적(m2)\"],\n",
    "    building_sdf[\"태양광용량(kW)\"],\n",
    "    building_sdf[\"ESS저장용량(kWh)\"],\n",
    "    building_sdf[\"PCS용량(kW)\"]\n",
    ") \\\n",
    ".withColumn(\"createTime\", building_sdf[\"createTime\"].cast(StringType())) \\\n",
    ".withColumn(\"건물번호\", building_sdf[\"건물번호\"].cast(IntegerType())) \\\n",
    ".withColumn(\"건물유형\", building_sdf[\"건물유형\"].cast(StringType())) \\\n",
    ".withColumn(\"연면적(m2)\", building_sdf[\"연면적(m2)\"].cast(DoubleType())) \\\n",
    ".withColumn(\"냉방면적(m2)\", building_sdf[\"냉방면적(m2)\"].cast(DoubleType())) \\\n",
    ".withColumn(\"태양광용량(kW)\", building_sdf[\"태양광용량(kW)\"].cast(DoubleType())) \\\n",
    ".withColumn(\"ESS저장용량(kWh)\", building_sdf[\"ESS저장용량(kWh)\"].cast(IntegerType())) \\\n",
    ".withColumn(\"PCS용량(kW)\", building_sdf[\"PCS용량(kW)\"].cast(IntegerType()))\n"
   ]
  },
  {
   "cell_type": "code",
   "execution_count": 9,
   "id": "37006873",
   "metadata": {},
   "outputs": [
    {
     "name": "stderr",
     "output_type": "stream",
     "text": [
      "                                                                                \r"
     ]
    },
    {
     "name": "stdout",
     "output_type": "stream",
     "text": [
      "+--------------------+--------+--------------+-----------+------------+--------------+----------------+-----------+\n",
      "|          createTime|건물번호|      건물유형| 연면적(m2)|냉방면적(m2)|태양광용량(kW)|ESS저장용량(kWh)|PCS용량(kW)|\n",
      "+--------------------+--------+--------------+-----------+------------+--------------+----------------+-----------+\n",
      "|2024-05-21 01:23:...|      20|          공공|1.2872877E7| 1.0941945E7|          null|            null|       null|\n",
      "|2024-05-21 01:24:...|      34|    데이터센터|    10665.0|      9402.0|          null|            null|       null|\n",
      "|2024-05-21 01:24:...|       8|      건물기타|   75344.54|     24117.0|          null|            null|       null|\n",
      "|2024-05-21 01:24:...|      33|    데이터센터|    28059.0|     20397.0|          null|            null|       null|\n",
      "|2024-05-21 01:23:...|      31|        대학교|   201781.0|    119836.0|         83.72|            null|       null|\n",
      "|2024-05-21 01:24:...|      44|백화점및아울렛|   78116.83|    76458.32|          null|            null|       null|\n",
      "|2024-05-21 01:24:...|      67|        아파트|    85244.0|     59671.0|          null|            null|       null|\n",
      "|2024-05-21 01:23:...|      97|  호텔및리조트|   55144.67|     25880.0|          null|            null|       null|\n",
      "|2024-05-21 01:24:...|       4|      건물기타|   74312.98|    34419.62|          60.0|            null|       null|\n",
      "|2024-05-21 01:23:...|      83|  지식산업센터|  199116.93|    99603.87|          null|            null|       null|\n",
      "|2024-05-21 01:24:...|       7|      건물기타|  101711.52|     41341.1|          null|             800|        300|\n",
      "|2024-05-21 01:24:...|      24|        대학교|  659696.91|   516097.85|         97.65|            null|       null|\n",
      "|2024-05-21 01:23:...|       4|      건물기타|   74312.98|    34419.62|          60.0|            null|       null|\n",
      "|2024-05-21 01:24:...|      47|          병원|   191624.0|    163255.0|          null|            null|       null|\n",
      "|2024-05-21 01:23:...|      37|백화점및아울렛|   98528.77|    75517.52|          35.0|            null|       null|\n",
      "|2024-05-21 01:23:...|      68|        아파트| 389395.928|         0.0|          null|            null|       null|\n",
      "|2024-05-21 01:24:...|      87|      할인마트|    65118.0|     34007.0|          null|            null|       null|\n",
      "|2024-05-21 01:24:...|      27|        대학교| 578484.113|   501381.53|          30.0|            null|       null|\n",
      "|2024-05-21 01:24:...|      37|백화점및아울렛|   98528.77|    75517.52|          35.0|            null|       null|\n",
      "|2024-05-21 01:23:...|       8|      건물기타|   75344.54|     24117.0|          null|            null|       null|\n",
      "+--------------------+--------+--------------+-----------+------------+--------------+----------------+-----------+\n",
      "only showing top 20 rows\n",
      "\n"
     ]
    }
   ],
   "source": [
    "building_sdf.show()"
   ]
  },
  {
   "cell_type": "code",
   "execution_count": 10,
   "id": "0d37249c",
   "metadata": {},
   "outputs": [
    {
     "name": "stdout",
     "output_type": "stream",
     "text": [
      "root\n",
      " |-- createTime: string (nullable = true)\n",
      " |-- num_date_time: string (nullable = true)\n",
      " |-- 건물번호: string (nullable = true)\n",
      " |-- 일시: string (nullable = true)\n",
      " |-- 기온(C): string (nullable = true)\n",
      " |-- 강수량(mm): string (nullable = true)\n",
      " |-- 풍속(m/s): string (nullable = true)\n",
      " |-- 습도(%): string (nullable = true)\n",
      "\n"
     ]
    }
   ],
   "source": [
    "# 그냥 가져오기\n",
    "test_sdf = (\n",
    "    spark.read.format(\"kafka\")\n",
    "    .option(\"kafka.bootstrap.servers\", \"my-cluster-kafka-bootstrap.kafka.svc:9092\")\n",
    "    .option(\"subscribe\", \"test2-jy\")\n",
    "    .option(\"kafka.group.id\", \"my_consumer_group\")\n",
    "    .load()\n",
    ")  # 밀리초 단위 에포치 시간endingTimestamp\n",
    "test_sdf = test_sdf.selectExpr(\"CAST(value AS STRING)\", \"CAST(timestamp AS STRING)\")\n",
    "test_sdf = test_sdf.withColumnRenamed(\"timestamp\", \"createTime\")\n",
    "test_sdf = test_sdf.withColumn(\"value\", from_json(test_sdf[\"value\"], schema2))\n",
    "\n",
    "\n",
    "for field in schema2.fields:\n",
    "    test_sdf = test_sdf.withColumn(field.name, test_sdf[\"value.\" + field.name])\n",
    "test_sdf = test_sdf.drop(\"value\")\n",
    "# 이거쓰면 df가 repartition_num 수만큼 쪼개져서 병렬처리가능한 상태가 됨.\n",
    "test_sdf = test_sdf.repartition(repartition_num)\n",
    "\n",
    "\n",
    "test_sdf.printSchema()"
   ]
  },
  {
   "cell_type": "code",
   "execution_count": 11,
   "id": "53523147",
   "metadata": {},
   "outputs": [],
   "source": [
    "test_sdf = test_sdf.select(\n",
    "    test_sdf[\"createTime\"],\n",
    "    test_sdf[\"num_date_time\"],\n",
    "    test_sdf[\"건물번호\"],\n",
    "    test_sdf[\"일시\"],\n",
    "    test_sdf[\"기온(C)\"],\n",
    "    test_sdf[\"강수량(mm)\"],\n",
    "    test_sdf[\"풍속(m/s)\"],\n",
    "    test_sdf[\"습도(%)\"]\n",
    ") \\\n",
    ".withColumn(\"createTime\", test_sdf[\"createTime\"].cast(StringType())) \\\n",
    ".withColumn(\"num_date_time\", test_sdf[\"num_date_time\"].cast(StringType())) \\\n",
    ".withColumn(\"건물번호\", test_sdf[\"건물번호\"].cast(IntegerType())) \\\n",
    ".withColumn(\"일시\", test_sdf[\"일시\"].cast(StringType())) \\\n",
    ".withColumn(\"기온(C)\", test_sdf[\"기온(C)\"].cast(DoubleType())) \\\n",
    ".withColumn(\"강수량(mm)\", test_sdf[\"강수량(mm)\"].cast(DoubleType())) \\\n",
    ".withColumn(\"풍속(m/s)\", test_sdf[\"풍속(m/s)\"].cast(DoubleType())) \\\n",
    ".withColumn(\"습도(%)\", test_sdf[\"습도(%)\"].cast(IntegerType()))"
   ]
  },
  {
   "cell_type": "code",
   "execution_count": 12,
   "id": "5d6ce09c",
   "metadata": {},
   "outputs": [
    {
     "name": "stderr",
     "output_type": "stream",
     "text": [
      "[Stage 7:>                                                          (0 + 3) / 3]\r"
     ]
    },
    {
     "name": "stdout",
     "output_type": "stream",
     "text": [
      "+--------------------+--------------+--------+-----------+-------+----------+---------+-------+\n",
      "|          createTime| num_date_time|건물번호|       일시|기온(C)|강수량(mm)|풍속(m/s)|습도(%)|\n",
      "+--------------------+--------------+--------+-----------+-------+----------+---------+-------+\n",
      "|2024-05-21 01:23:...|74_20220827 08|      74|20220827 08|   18.3|       0.0|      2.1|     77|\n",
      "|2024-05-21 01:23:...|57_20220827 03|      57|20220827 03|   20.7|       2.0|      2.7|     91|\n",
      "|2024-05-21 01:23:...|24_20220827 09|      24|20220827 09|   19.5|       0.0|      2.4|     63|\n",
      "|2024-05-21 01:23:...|94_20220829 04|      94|20220829 04|   21.8|       0.0|      1.3|     66|\n",
      "|2024-05-21 01:23:...| 5_20220829 15|       5|20220829 15|   22.2|       0.0|      1.8|     73|\n",
      "|2024-05-21 01:23:...|35_20220831 04|      35|20220831 04|   19.8|       0.0|      1.2|     94|\n",
      "|2024-05-21 01:23:...|67_20220827 04|      67|20220827 04|   22.6|       0.0|      3.2|     79|\n",
      "|2024-05-21 01:23:...|63_20220830 20|      63|20220830 20|   20.0|       2.6|      1.0|     95|\n",
      "|2024-05-21 01:23:...|18_20220825 23|      18|20220825 23|   20.5|       0.0|      0.4|     87|\n",
      "|2024-05-21 01:23:...|92_20220830 04|      92|20220830 04|   18.0|       5.5|      1.0|     99|\n",
      "|2024-05-21 01:23:...|94_20220829 16|      94|20220829 16|   21.8|       0.0|      3.4|     75|\n",
      "|2024-05-21 01:23:...|82_20220831 02|      82|20220831 02|   19.1|       0.0|      1.8|     94|\n",
      "|2024-05-21 01:23:...|21_20220826 02|      21|20220826 02|   20.1|       0.0|      0.7|     79|\n",
      "|2024-05-21 01:23:...|86_20220829 20|      86|20220829 20|   20.6|       0.0|      1.9|     73|\n",
      "|2024-05-21 01:23:...|40_20220826 22|      40|20220826 22|   23.1|       0.0|      1.0|     88|\n",
      "|2024-05-21 01:23:...|33_20220825 03|      33|20220825 03|   22.1|       0.0|      1.3|     78|\n",
      "|2024-05-21 01:23:...|62_20220830 07|      62|20220830 07|   18.0|       1.2|      3.1|     98|\n",
      "|2024-05-21 01:23:...|19_20220825 03|      19|20220825 03|   22.1|       0.0|      1.3|     78|\n",
      "|2024-05-21 01:23:...|19_20220831 22|      19|20220831 22|   21.1|       0.0|      1.0|     83|\n",
      "|2024-05-21 01:23:...|26_20220826 15|      26|20220826 15|   29.1|       0.0|      2.4|     57|\n",
      "+--------------------+--------------+--------+-----------+-------+----------+---------+-------+\n",
      "only showing top 20 rows\n",
      "\n"
     ]
    },
    {
     "name": "stderr",
     "output_type": "stream",
     "text": [
      "                                                                                \r"
     ]
    }
   ],
   "source": [
    "test_sdf.show()"
   ]
  },
  {
   "cell_type": "code",
   "execution_count": 13,
   "id": "e719173b",
   "metadata": {},
   "outputs": [
    {
     "name": "stdout",
     "output_type": "stream",
     "text": [
      "root\n",
      " |-- createTime: string (nullable = true)\n",
      " |-- num_date_time: string (nullable = true)\n",
      " |-- 건물번호: string (nullable = true)\n",
      " |-- 일시: string (nullable = true)\n",
      " |-- 기온(C): string (nullable = true)\n",
      " |-- 강수량(mm): string (nullable = true)\n",
      " |-- 풍속(m/s): string (nullable = true)\n",
      " |-- 습도(%): string (nullable = true)\n",
      " |-- 일조(hr): string (nullable = true)\n",
      " |-- 일사(MJ/m2): string (nullable = true)\n",
      " |-- 전력소비량(kWh): string (nullable = true)\n",
      "\n"
     ]
    }
   ],
   "source": [
    "# 그냥 가져오기\n",
    "train_sdf = (\n",
    "    spark.read.format(\"kafka\")\n",
    "    .option(\"kafka.bootstrap.servers\", \"my-cluster-kafka-bootstrap.kafka.svc:9092\")\n",
    "    .option(\"subscribe\", \"test-jy\")\n",
    "    .option(\"kafka.group.id\", \"my_consumer_group\")\n",
    "    .load()\n",
    ")  # 밀리초 단위 에포치 시간endingTimestamp\n",
    "\n",
    "train_sdf = train_sdf.selectExpr(\"CAST(value AS STRING)\", \"CAST(timestamp AS STRING)\")\n",
    "train_sdf = train_sdf.withColumnRenamed(\"timestamp\", \"createTime\")\n",
    "train_sdf = train_sdf.withColumn(\"value\", from_json(train_sdf[\"value\"], schema))\n",
    "\n",
    "\n",
    "for field in schema.fields:\n",
    "    train_sdf = train_sdf.withColumn(field.name, train_sdf[\"value.\" + field.name])\n",
    "train_sdf = train_sdf.drop(\"value\")\n",
    "# 이거쓰면 df가 repartition_num 수만큼 쪼개져서 병렬처리가능한 상태가 됨.\n",
    "\n",
    "\n",
    "train_sdf = train_sdf.repartition(repartition_num)\n",
    "\n",
    "train_sdf.printSchema()\n"
   ]
  },
  {
   "cell_type": "code",
   "execution_count": 14,
   "id": "761214c2",
   "metadata": {},
   "outputs": [],
   "source": [
    "train_sdf = train_sdf.select(\n",
    "    train_sdf[\"createTime\"],\n",
    "    train_sdf[\"num_date_time\"],\n",
    "    train_sdf[\"건물번호\"],\n",
    "    train_sdf[\"일시\"],\n",
    "    train_sdf[\"기온(C)\"],\n",
    "    train_sdf[\"강수량(mm)\"],\n",
    "    train_sdf[\"풍속(m/s)\"],\n",
    "    train_sdf[\"습도(%)\"],\n",
    "    train_sdf[\"일조(hr)\"],\n",
    "    train_sdf[\"일사(MJ/m2)\"],\n",
    "    train_sdf[\"전력소비량(kWh)\"],\n",
    ") \\\n",
    ".withColumn(\"createTime\", train_sdf[\"createTime\"].cast(StringType())) \\\n",
    ".withColumn(\"num_date_time\", train_sdf[\"num_date_time\"].cast(StringType())) \\\n",
    ".withColumn(\"건물번호\", train_sdf[\"건물번호\"].cast(IntegerType())) \\\n",
    ".withColumn(\"일시\", train_sdf[\"일시\"].cast(StringType())) \\\n",
    ".withColumn(\"기온(C)\", train_sdf[\"기온(C)\"].cast(DoubleType())) \\\n",
    ".withColumn(\"강수량(mm)\", train_sdf[\"강수량(mm)\"].cast(DoubleType())) \\\n",
    ".withColumn(\"풍속(m/s)\", train_sdf[\"풍속(m/s)\"].cast(DoubleType())) \\\n",
    ".withColumn(\"습도(%)\", train_sdf[\"습도(%)\"].cast(IntegerType())) \\\n",
    ".withColumn(\"일조(hr)\", train_sdf[\"일조(hr)\"].cast(DoubleType())) \\\n",
    ".withColumn(\"일사(MJ/m2)\", train_sdf[\"일사(MJ/m2)\"].cast(DoubleType())) \\\n",
    ".withColumn(\"전력소비량(kWh)\", train_sdf[\"전력소비량(kWh)\"].cast(DoubleType()))"
   ]
  },
  {
   "cell_type": "code",
   "execution_count": 15,
   "id": "c196be6e",
   "metadata": {},
   "outputs": [
    {
     "name": "stderr",
     "output_type": "stream",
     "text": [
      "[Stage 10:===================>                                      (1 + 2) / 3]\r"
     ]
    },
    {
     "name": "stdout",
     "output_type": "stream",
     "text": [
      "+--------------------+--------------+--------+-----------+-------+----------+---------+-------+--------+-----------+---------------+\n",
      "|          createTime| num_date_time|건물번호|       일시|기온(C)|강수량(mm)|풍속(m/s)|습도(%)|일조(hr)|일사(MJ/m2)|전력소비량(kWh)|\n",
      "+--------------------+--------------+--------+-----------+-------+----------+---------+-------+--------+-----------+---------------+\n",
      "|2024-05-21 01:17:...|15_20220606 04|      15|20220606 04|   16.9|       0.2|      0.6|    100|    null|       null|        1287.18|\n",
      "|2024-05-21 01:18:...|85_20220605 13|      85|20220605 13|   24.8|      null|      3.7|     50|     0.0|       0.53|        2337.84|\n",
      "|2024-05-21 01:17:...|37_20220617 00|      37|20220617 00|   18.7|      null|      1.3|     80|    null|       null|         1035.6|\n",
      "|2024-05-21 01:18:...|81_20220808 19|      81|20220808 19|   25.6|      12.5|      2.5|     96|     0.0|       0.04|        2521.08|\n",
      "|2024-05-21 01:17:...|22_20220607 14|      22|20220607 14|   22.5|      null|      2.5|     51|     0.1|       1.95|        1701.72|\n",
      "|2024-05-21 01:18:...|87_20220627 08|      87|20220627 08|   24.7|       0.0|      1.1|     94|     0.0|       0.21|        1333.08|\n",
      "|2024-05-21 01:18:...|91_20220627 11|      91|20220627 11|   28.4|      null|      5.4|     88|     0.0|       1.01|        2549.52|\n",
      "|2024-05-21 01:17:...|42_20220604 02|      42|20220604 02|   17.2|      null|      0.3|     80|    null|       null|         351.36|\n",
      "|2024-05-21 01:17:...|44_20220824 01|      44|20220824 01|   19.4|      null|      1.6|     89|    null|       null|         503.52|\n",
      "|2024-05-21 01:18:...|85_20220810 11|      85|20220810 11|   25.9|      null|      0.7|     82|     0.8|       2.69|         2818.8|\n",
      "|2024-05-21 01:18:...|75_20220606 11|      75|20220606 11|   21.2|      null|      3.7|     71|     0.4|       null|        1515.96|\n",
      "|2024-05-21 01:17:...|26_20220705 19|      26|20220705 19|   28.3|      null|      0.8|     84|     0.0|       0.33|        4088.16|\n",
      "|2024-05-21 01:17:...|53_20220815 18|      53|20220815 18|   28.6|       0.0|      4.7|     83|     0.0|       0.07|        1306.56|\n",
      "|2024-05-21 01:18:...|72_20220821 20|      72|20220821 20|   27.3|      null|      0.6|     96|     0.0|       0.05|        1305.54|\n",
      "|2024-05-21 01:18:...|71_20220710 02|      71|20220710 02|   25.6|      null|      1.2|     85|    null|       null|        1821.36|\n",
      "|2024-05-21 01:18:...|55_20220715 01|      55|20220715 01|   24.1|      null|      0.2|     99|    null|       null|          933.6|\n",
      "|2024-05-21 01:18:...|88_20220608 11|      88|20220608 11|   21.9|      null|      3.9|     58|     0.6|       1.93|         1706.4|\n",
      "|2024-05-21 01:18:...|95_20220629 05|      95|20220629 05|   24.5|      null|      1.3|     86|    null|       null|         726.12|\n",
      "|2024-05-21 01:16:...| 4_20220704 17|       4|20220704 17|   32.1|      null|      3.0|     62|     0.8|       1.68|        1202.22|\n",
      "|2024-05-21 01:17:...|31_20220726 08|      31|20220726 08|   24.6|      null|      0.9|     82|     1.0|       1.05|        1300.68|\n",
      "+--------------------+--------------+--------+-----------+-------+----------+---------+-------+--------+-----------+---------------+\n",
      "only showing top 20 rows\n",
      "\n"
     ]
    },
    {
     "name": "stderr",
     "output_type": "stream",
     "text": [
      "                                                                                \r"
     ]
    }
   ],
   "source": [
    "train_sdf.show()"
   ]
  },
  {
   "cell_type": "code",
   "execution_count": 37,
   "id": "1430079a",
   "metadata": {},
   "outputs": [],
   "source": [
    "def train_test_split(df, th):\n",
    "    df = df.na.drop(subset=['일시'])\n",
    "    train = df.filter(col('일시').substr(1, 8).cast(IntegerType()) < th)\n",
    "    test = df.filter(col('일시').substr(1, 8).cast(IntegerType()) >= th)\n",
    "    return train, test\n",
    "\n",
    "def preprocess_x(df):\n",
    "    to_remove_columns = ['num_date_time', '일시', '일조(hr)', '일사(MJ/m2)']\n",
    "    df = df.fillna(0)   \n",
    "    \n",
    "    # 시계열 특성을 학습에 반영하기 위해 일시를 월, 일, 시간으로 나눕니다\n",
    "    df = df.withColumn('month', substring('일시', 5, 2).cast(IntegerType()))\n",
    "    df = df.withColumn('day', substring('일시', 7, 2).cast(IntegerType()))\n",
    "    df = df.withColumn('time', substring('일시', 10, 2).cast(IntegerType()))\n",
    "    \n",
    "    \n",
    "    \n",
    "    df = df.join(building_sdf.select('건물번호', '건물유형', '연면적(m2)'), on='건물번호', how='left')\n",
    "    df = df.dropDuplicates()\n",
    "    \n",
    "    \n",
    "    # '건물유형'을 카테고리형 코드로 변환\n",
    "    building_type_indexer = StringIndexer(inputCol='건물유형', outputCol='건물유형_index')\n",
    "    df = building_type_indexer.fit(df).transform(df)\n",
    "    df = df.drop('건물유형').withColumnRenamed('건물유형_index', '건물유형')\n",
    "    \n",
    "    # 불필요한 컬럼 삭제\n",
    "    for c in to_remove_columns:\n",
    "        if c in df.columns:\n",
    "            df = df.drop(c)\n",
    "            \n",
    "    df.show(20, truncate=False)\n",
    "    return df\n",
    "\n",
    "\n",
    "date_th = 20220820"
   ]
  },
  {
   "cell_type": "code",
   "execution_count": 39,
   "id": "d14b45cc",
   "metadata": {},
   "outputs": [
    {
     "name": "stderr",
     "output_type": "stream",
     "text": [
      "                                                                                \r"
     ]
    },
    {
     "name": "stdout",
     "output_type": "stream",
     "text": [
      "train_df shape(split 후): 192000 11\n"
     ]
    },
    {
     "name": "stderr",
     "output_type": "stream",
     "text": [
      "[Stage 534:>                                                        (0 + 3) / 3]\r"
     ]
    },
    {
     "name": "stdout",
     "output_type": "stream",
     "text": [
      "valid_df shape(split 후): 12000 11\n"
     ]
    },
    {
     "name": "stderr",
     "output_type": "stream",
     "text": [
      "                                                                                \r"
     ]
    }
   ],
   "source": [
    "\n",
    "train_df, valid_df = train_test_split(train_sdf, date_th)\n",
    "\n",
    "\n",
    "#print(\"train_df DataFrame show:\", train_df.show())\n",
    "#print(\"valid_df DataFrame show:\", valid_df.show())\n",
    "\n",
    "# 데이터 분할 후 각 데이터프레임의 크기를 확인합니다.\n",
    "print(\"train_df shape(split 후):\", train_df.count(), len(train_df.columns))\n",
    "print(\"valid_df shape(split 후):\", valid_df.count(), len(valid_df.columns))\n",
    "\n"
   ]
  },
  {
   "cell_type": "code",
   "execution_count": 101,
   "id": "b37898aa",
   "metadata": {},
   "outputs": [
    {
     "name": "stderr",
     "output_type": "stream",
     "text": [
      "                                                                                \r"
     ]
    },
    {
     "name": "stdout",
     "output_type": "stream",
     "text": [
      "+--------+-----------------------+-------+----------+---------+-------+---------------+-----+---+----+----------+--------+\n",
      "|건물번호|createTime             |기온(C)|강수량(mm)|풍속(m/s)|습도(%)|전력소비량(kWh)|month|day|time|연면적(m2)|건물유형|\n",
      "+--------+-----------------------+-------+----------+---------+-------+---------------+-----+---+----+----------+--------+\n",
      "|23      |2024-05-21 01:17:22.13 |22.1   |0.0       |1.5      |88     |1054.8         |8    |19 |4   |32236.11  |1.0     |\n",
      "|42      |2024-05-21 01:17:44.682|26.1   |0.0       |4.3      |74     |2929.32        |6    |25 |16  |97915.1   |3.0     |\n",
      "|79      |2024-05-21 01:18:30.428|22.4   |0.0       |1.4      |96     |3010.56        |8    |18 |7   |212995.84 |8.0     |\n",
      "|39      |2024-05-21 01:17:41.702|27.9   |0.0       |1.0      |80     |711.36         |8    |5  |23  |126835.0  |3.0     |\n",
      "|64      |2024-05-21 01:18:11.493|24.6   |0.0       |1.5      |87     |1091.7         |7    |18 |8   |240551.0  |6.0     |\n",
      "|24      |2024-05-21 01:17:22.423|19.8   |0.0       |5.9      |58     |7806.0         |6    |14 |21  |659696.91 |2.0     |\n",
      "|72      |2024-05-21 01:18:20.844|23.1   |0.0       |0.0      |99     |1109.7         |7    |27 |5   |31503.0   |7.0     |\n",
      "|79      |2024-05-21 01:18:29.932|28.7   |0.0       |2.4      |71     |2004.0         |7    |31 |2   |212995.84 |8.0     |\n",
      "|4       |2024-05-21 01:16:59.064|17.8   |0.0       |2.4      |80     |796.5          |6    |2  |6   |74312.98  |0.0     |\n",
      "|74      |2024-05-21 01:18:23.085|25.9   |0.0       |0.9      |83     |6596.64        |7    |19 |8   |253743.0  |7.0     |\n",
      "|34      |2024-05-21 01:17:34.983|22.8   |0.0       |1.7      |59     |3144.96        |6    |5  |6   |10665.0   |11.0    |\n",
      "|72      |2024-05-21 01:18:20.552|31.5   |0.0       |0.9      |72     |1665.72        |7    |5  |12  |31503.0   |7.0     |\n",
      "|17      |2024-05-21 01:17:14.716|24.8   |0.0       |1.4      |89     |620.64         |7    |16 |19  |66467.0   |1.0     |\n",
      "|83      |2024-05-21 01:18:35.168|29.6   |0.0       |1.1      |55     |3058.2         |8    |18 |14  |199116.93 |8.0     |\n",
      "|66      |2024-05-21 01:18:13.687|29.8   |0.0       |2.9      |66     |577.44         |7    |6  |21  |105073.0  |6.0     |\n",
      "|75      |2024-05-21 01:18:23.927|28.5   |0.0       |3.4      |74     |1537.68        |6    |26 |15  |88898.41  |7.0     |\n",
      "|94      |2024-05-21 01:18:47.262|28.5   |0.0       |1.9      |61     |2819.28        |6    |22 |12  |62156.0   |10.0    |\n",
      "|86      |2024-05-21 01:18:37.692|24.0   |0.0       |2.9      |54     |1458.72        |6    |2  |13  |54866.51  |9.0     |\n",
      "|76      |2024-05-21 01:18:25.395|26.5   |0.0       |1.3      |86     |1576.62        |7    |19 |9   |38668.17  |7.0     |\n",
      "|52      |2024-05-21 01:17:56.189|25.3   |0.0       |0.5      |84     |1574.1         |6    |26 |2   |91634.21  |4.0     |\n",
      "+--------+-----------------------+-------+----------+---------+-------+---------------+-----+---+----+----------+--------+\n",
      "only showing top 20 rows\n",
      "\n"
     ]
    },
    {
     "name": "stderr",
     "output_type": "stream",
     "text": [
      "                                                                                \r"
     ]
    },
    {
     "name": "stdout",
     "output_type": "stream",
     "text": [
      "train_1 shape: 192000 12\n",
      "+--------+-----------------------+-------+----------+---------+-------+---------------+-----+---+----+----------+--------+\n",
      "|건물번호|createTime             |기온(C)|강수량(mm)|풍속(m/s)|습도(%)|전력소비량(kWh)|month|day|time|연면적(m2)|건물유형|\n",
      "+--------+-----------------------+-------+----------+---------+-------+---------------+-----+---+----+----------+--------+\n",
      "|59      |2024-05-21 01:18:06.081|24.8   |0.0       |1.3      |87     |3519.72        |8    |23 |10  |105500.72 |5.0     |\n",
      "|97      |2024-05-21 01:18:51.815|27.9   |0.0       |2.9      |80     |1562.94        |8    |21 |19  |55144.67  |10.0    |\n",
      "|86      |2024-05-21 01:18:38.789|26.0   |0.0       |1.6      |98     |649.08         |8    |20 |6   |54866.51  |9.0     |\n",
      "|38      |2024-05-21 01:17:40.795|25.8   |0.0       |1.4      |83     |3213.0         |8    |23 |11  |58763.89  |3.0     |\n",
      "|49      |2024-05-21 01:17:53.502|24.6   |0.0       |0.0      |99     |2731.68        |8    |21 |2   |112953.61 |4.0     |\n",
      "|49      |2024-05-21 01:17:53.534|27.3   |0.0       |1.4      |97     |3914.28        |8    |23 |9   |112953.61 |4.0     |\n",
      "|38      |2024-05-21 01:17:40.805|22.5   |0.0       |2.6      |71     |491.76         |8    |24 |4   |58763.89  |3.0     |\n",
      "|83      |2024-05-21 01:18:35.218|29.2   |0.0       |2.1      |70     |3459.6         |8    |22 |11  |199116.93 |8.0     |\n",
      "|31      |2024-05-21 01:17:32.566|21.3   |0.0       |0.4      |90     |958.68         |8    |24 |4   |201781.0  |2.0     |\n",
      "|35      |2024-05-21 01:17:37.249|31.3   |0.0       |1.5      |63     |2214.3         |8    |21 |14  |9736.0    |11.0    |\n",
      "|67      |2024-05-21 01:18:15.468|27.2   |0.0       |6.1      |86     |1030.8         |8    |20 |2   |85244.0   |6.0     |\n",
      "|45      |2024-05-21 01:17:48.845|30.9   |0.0       |2.5      |63     |3019.2         |8    |21 |18  |86787.03  |4.0     |\n",
      "|24      |2024-05-21 01:17:23.377|25.7   |0.0       |1.5      |83     |7214.4         |8    |22 |4   |659696.91 |2.0     |\n",
      "|1       |2024-05-21 01:16:56.757|25.5   |0.0       |2.9      |63     |2517.12        |8    |24 |19  |110634.0  |0.0     |\n",
      "|59      |2024-05-21 01:18:06.063|27.4   |0.0       |1.0      |79     |660.6          |8    |21 |23  |105500.72 |5.0     |\n",
      "|56      |2024-05-21 01:18:02.585|29.5   |0.0       |2.1      |62     |4372.2         |8    |22 |18  |42666.54  |5.0     |\n",
      "|68      |2024-05-21 01:18:16.635|30.4   |0.0       |1.3      |66     |2698.2         |8    |21 |13  |389395.928|6.0     |\n",
      "|84      |2024-05-21 01:18:36.403|26.6   |0.0       |1.4      |81     |1766.88        |8    |22 |20  |174408.2  |8.0     |\n",
      "|46      |2024-05-21 01:17:49.986|24.3   |0.0       |2.2      |76     |1659.6         |8    |24 |5   |85869.49  |4.0     |\n",
      "|78      |2024-05-21 01:18:28.224|25.8   |0.0       |1.4      |90     |1024.8         |8    |21 |22  |136921.0  |8.0     |\n",
      "+--------+-----------------------+-------+----------+---------+-------+---------------+-----+---+----+----------+--------+\n",
      "only showing top 20 rows\n",
      "\n"
     ]
    },
    {
     "name": "stderr",
     "output_type": "stream",
     "text": [
      "                                                                                \r"
     ]
    },
    {
     "name": "stdout",
     "output_type": "stream",
     "text": [
      "valid_1 shape: 12000 12\n"
     ]
    }
   ],
   "source": [
    "\n",
    "train_1 = preprocess_x(train_df)\n",
    "#train_y = train_df.select(\"전력소비량(kWh)\")\n",
    "\n",
    "# 전처리 후 데이터프레임의 크기를 확인합니다.\n",
    "print(\"train_1 shape:\", train_1.count(), len(train_1.columns))\n",
    "#print(\"Train Y shape:\", train_y.count(), len(train_y.columns))\n",
    "\n",
    "valid_1 = preprocess_x(valid_df)\n",
    "#valid_y = valid_df.select(\"전력소비량(kWh)\")\n",
    "\n",
    "print(\"valid_1 shape:\", valid_1.count(), len(valid_1.columns))\n",
    "#print(\"Validation Y shape:\", valid_y.count(), len(valid_y.columns))\n"
   ]
  },
  {
   "cell_type": "code",
   "execution_count": null,
   "id": "fde9a701",
   "metadata": {},
   "outputs": [],
   "source": [
    "#spark.stop()"
   ]
  },
  {
   "cell_type": "code",
   "execution_count": 41,
   "id": "4d5c633e",
   "metadata": {},
   "outputs": [
    {
     "name": "stderr",
     "output_type": "stream",
     "text": [
      "[Stage 610:===================>                                     (1 + 2) / 3]\r"
     ]
    },
    {
     "name": "stdout",
     "output_type": "stream",
     "text": [
      "+--------+--------------------+-------+----------+---------+-------+---------------+-----+---+----+----------+--------+\n",
      "|건물번호|          createTime|기온(C)|강수량(mm)|풍속(m/s)|습도(%)|전력소비량(kWh)|month|day|time|연면적(m2)|건물유형|\n",
      "+--------+--------------------+-------+----------+---------+-------+---------------+-----+---+----+----------+--------+\n",
      "|       1|2024-05-21 01:16:...|   19.9|       0.0|      1.5|     89|        2010.72|    6| 15|  19|  110634.0|     0.0|\n",
      "|      53|2024-05-21 01:17:...|   23.5|       0.0|      0.9|     78|         900.96|    6| 23|   3|  149246.0|     5.0|\n",
      "|       5|2024-05-21 01:17:...|   23.2|       0.0|      1.0|     93|         1688.4|    7| 17|   1|  205884.0|     0.0|\n",
      "|      35|2024-05-21 01:17:...|   27.9|       0.0|      0.8|     78|         2190.0|    7|  5|   9|    9736.0|    11.0|\n",
      "|      13|2024-05-21 01:17:...|   23.3|       0.0|      5.3|    100|         2186.4|    6| 23|  10|    5578.4|     0.0|\n",
      "|      99|2024-05-21 01:18:...|   22.5|       0.0|      2.3|     74|         1300.5|    6| 12|  14|   53499.0|    10.0|\n",
      "|      11|2024-05-21 01:17:...|   20.3|       0.0|      0.0|    100|        1710.72|    7|  1|   4|  45956.56|     0.0|\n",
      "|      10|2024-05-21 01:17:...|   23.9|       0.0|      2.0|     86|        4456.32|    6| 21|  21|   31062.0|     0.0|\n",
      "|      14|2024-05-21 01:17:...|   21.6|       0.0|      3.4|     62|        2468.16|    6| 16|  15|  16844.16|     0.0|\n",
      "|      73|2024-05-21 01:18:...|   26.8|       0.0|      2.9|     92|        3603.84|    8| 15|   5| 109894.22|     7.0|\n",
      "|      37|2024-05-21 01:17:...|   26.2|       0.0|      1.9|     78|         1060.2|    7| 18|  23|  98528.77|     3.0|\n",
      "|      65|2024-05-21 01:18:...|   30.7|       0.0|      4.8|     84|        1000.26|    8|  9|  16|  183839.0|     6.0|\n",
      "|       3|2024-05-21 01:16:...|   24.1|       0.0|      1.3|     87|        1192.68|    7| 18|   3|  171243.0|     0.0|\n",
      "|       4|2024-05-21 01:16:...|   24.2|       0.0|      3.1|     49|         1014.3|    6|  6|  16|  74312.98|     0.0|\n",
      "|      64|2024-05-21 01:18:...|   29.5|       0.0|      3.7|     61|        1652.94|    7|  3|  13|  240551.0|     6.0|\n",
      "|      53|2024-05-21 01:17:...|   26.3|       0.0|      3.6|     47|        2938.08|    6|  2|  14|  149246.0|     5.0|\n",
      "|      38|2024-05-21 01:17:...|   32.1|       0.0|      1.7|     59|        3433.32|    7|  2|  13|  58763.89|     3.0|\n",
      "|      96|2024-05-21 01:18:...|   21.7|       0.0|      2.2|     91|        1697.88|    6| 19|   4|   93314.0|    10.0|\n",
      "|      11|2024-05-21 01:17:...|   28.7|       0.0|      2.4|     75|         2092.8|    6| 26|  14|  45956.56|     0.0|\n",
      "|     100|2024-05-21 01:18:...|   25.8|       1.7|      2.0|     94|        1103.28|    7| 31|  20|  57497.84|    10.0|\n",
      "+--------+--------------------+-------+----------+---------+-------+---------------+-----+---+----+----------+--------+\n",
      "only showing top 20 rows\n",
      "\n"
     ]
    },
    {
     "name": "stderr",
     "output_type": "stream",
     "text": [
      "                                                                                \r"
     ]
    }
   ],
   "source": [
    "train_1.show()"
   ]
  },
  {
   "cell_type": "code",
   "execution_count": 102,
   "id": "c50e169d",
   "metadata": {},
   "outputs": [
    {
     "name": "stderr",
     "output_type": "stream",
     "text": [
      "[Stage 5498:>                                                       (0 + 3) / 3]\r"
     ]
    },
    {
     "name": "stdout",
     "output_type": "stream",
     "text": [
      "+--------+--------------------+-------+----------+---------+-------+---------------+-----+---+----+----------+--------+\n",
      "|건물번호|          createTime|기온(C)|강수량(mm)|풍속(m/s)|습도(%)|전력소비량(kWh)|month|day|time|연면적(m2)|건물유형|\n",
      "+--------+--------------------+-------+----------+---------+-------+---------------+-----+---+----+----------+--------+\n",
      "|      49|2024-05-21 01:17:...|   26.3|       0.0|      1.0|     99|        3003.48|    8| 20|  20| 112953.61|     4.0|\n",
      "|      53|2024-05-21 01:17:...|   27.7|       0.0|      2.2|     61|        3296.16|    8| 24|  12|  149246.0|     5.0|\n",
      "|      56|2024-05-21 01:18:...|   22.5|       0.0|      2.7|     84|        4158.36|    8| 24|   6|  42666.54|     5.0|\n",
      "|      34|2024-05-21 01:17:...|   26.3|       0.0|      3.2|     95|        3475.44|    8| 20|   2|   10665.0|    11.0|\n",
      "|      95|2024-05-21 01:18:...|   19.9|       0.0|      0.1|     92|         928.08|    8| 24|  22| 196992.54|    10.0|\n",
      "|      88|2024-05-21 01:18:...|   24.3|       0.0|      1.9|     67|        1545.12|    8| 24|  21|  48452.52|     9.0|\n",
      "|      68|2024-05-21 01:18:...|   27.9|       0.0|      1.5|     79|         3009.3|    8| 20|  21|389395.928|     6.0|\n",
      "|      48|2024-05-21 01:17:...|   28.2|       0.0|      0.9|     89|        1743.84|    8| 21|  19|   66729.0|     4.0|\n",
      "|      26|2024-05-21 01:17:...|   31.1|       0.0|      2.2|     57|        5151.36|    8| 23|  17|  386466.9|     2.0|\n",
      "|      25|2024-05-21 01:17:...|   26.2|       0.0|      1.3|     82|        5599.68|    8| 21|   9| 528014.05|     2.0|\n",
      "|      90|2024-05-21 01:18:...|   24.9|       0.8|      0.2|     98|        2334.96|    8| 23|  17|   77917.0|     9.0|\n",
      "|      39|2024-05-21 01:17:...|   25.1|      40.7|      3.2|     95|          621.6|    8| 20|   5|  126835.0|     3.0|\n",
      "|      97|2024-05-21 01:18:...|   30.0|       0.0|      3.6|     74|         1829.7|    8| 20|  15|  55144.67|    10.0|\n",
      "|      51|2024-05-21 01:17:...|   24.4|       0.0|      2.7|     96|        2162.88|    8| 20|  23|  88242.76|     4.0|\n",
      "|      81|2024-05-21 01:18:...|   27.5|       0.0|      0.7|     81|        1092.96|    8| 20|  22| 115358.28|     8.0|\n",
      "|      27|2024-05-21 01:17:...|   21.9|       0.2|      2.3|     85|        20311.2|    8| 24|   9|578484.113|     2.0|\n",
      "|       3|2024-05-21 01:16:...|   24.6|       1.3|      3.1|     75|          900.0|    8| 22|  22|  171243.0|     0.0|\n",
      "|      10|2024-05-21 01:17:...|   21.7|       0.0|      2.7|     82|        3467.04|    8| 24|  21|   31062.0|     0.0|\n",
      "|      10|2024-05-21 01:17:...|   22.3|       0.0|      4.6|     94|        4011.84|    8| 24|  10|   31062.0|     0.0|\n",
      "|      31|2024-05-21 01:17:...|   22.7|       0.0|      2.1|     90|        1223.64|    8| 23|  21|  201781.0|     2.0|\n",
      "+--------+--------------------+-------+----------+---------+-------+---------------+-----+---+----+----------+--------+\n",
      "only showing top 20 rows\n",
      "\n"
     ]
    },
    {
     "name": "stderr",
     "output_type": "stream",
     "text": [
      "                                                                                \r"
     ]
    }
   ],
   "source": [
    "valid_1.show()"
   ]
  },
  {
   "cell_type": "markdown",
   "id": "3da97b5a",
   "metadata": {},
   "source": [
    "### 0. Functions For validation"
   ]
  },
  {
   "cell_type": "code",
   "execution_count": 42,
   "id": "166f3a2e",
   "metadata": {},
   "outputs": [],
   "source": [
    "def SMAPE(y, pred):\n",
    "    smape = abs((y - pred))/((abs(y) + abs(pred)) / 2) * 100\n",
    "    smape = np.mean(smape)\n",
    "    return smape\n",
    "\n",
    "def mae(y, pred):\n",
    "    return np.mean(abs(y-pred))"
   ]
  },
  {
   "cell_type": "code",
   "execution_count": 43,
   "id": "6d7a7655",
   "metadata": {},
   "outputs": [],
   "source": [
    "def validate(valid_x, valid_y, model):\n",
    "    pred = model.predict(valid_x)\n",
    "    smape_score, mae_score = SMAPE(valid_y, pred), mae(valid_y, pred)\n",
    "    return smape_score, mae_score"
   ]
  },
  {
   "cell_type": "markdown",
   "id": "9e9c573a",
   "metadata": {},
   "source": [
    "## 2. Multi Models by building num\n",
    "- 건물번호(1~100)별 모델을 각각 만들어 성능을 측정하였습니다.\n",
    "- 건물별로 building_info값은 같기 때문에 해당 데이터는 제외했습니다(건물번호, 건물유형, 연면적, 냉방면적)."
   ]
  },
  {
   "cell_type": "code",
   "execution_count": 118,
   "id": "425a0f59",
   "metadata": {},
   "outputs": [],
   "source": [
    "from pyspark.ml.evaluation import RegressionEvaluator\n",
    "\n",
    "def validate_multi(valid_1, models):\n",
    "    \"\"\"\n",
    "    Args:\n",
    "        models: dict, {1: model1, 2: model2, ..., 100: model100}\n",
    "    \"\"\"\n",
    "    \n",
    "    mse_eval = RegressionEvaluator(labelCol='전력소비량(kWh)', predictionCol='prediction', metricName='mse')\n",
    "    rmse_eval = RegressionEvaluator(labelCol='전력소비량(kWh)', predictionCol='prediction', metricName='rmse')\n",
    "    r2_eval = RegressionEvaluator(labelCol='전력소비량(kWh)', predictionCol='prediction', metricName='r2')\n",
    "\n",
    "    predictions=[0 for _ in range(101)]\n",
    "    for i in tqdm(range(1, 101)):\n",
    "        aB = valid_1.filter(col('건물번호') == i)\n",
    "        \n",
    "        aB = aB.drop('건물번호', '건물유형', '연면적(m2)', '냉방면적(m2)', 'createTime')\n",
    "        \n",
    "        feature_cols = [c for c in aB.columns if c != '전력소비량(kWh)']\n",
    "        assembler = VectorAssembler(inputCols=feature_cols, outputCol=\"features\")\n",
    "        aB = assembler.transform(aB).select(\"features\", \"전력소비량(kWh)\")\n",
    "        \n",
    "        \n",
    "        predictions[i] = models[i].transform(aB)\n",
    "        print('mse:', mse_eval.evaluate(predictions[i]), 'rmse:', rmse_eval.evaluate(predictions[i]), 'r2:', r2_eval.evaluate(predictions[i]))\n",
    "        \n",
    "    return predictions"
   ]
  },
  {
   "cell_type": "code",
   "execution_count": 114,
   "id": "98fce78d",
   "metadata": {},
   "outputs": [],
   "source": [
    "def train_multiple_models(train_1, n_estimators=100):\n",
    "    models = {}\n",
    "    \n",
    "    for i in tqdm(range(1, 101)):\n",
    "        aBuilding = train_1.filter(col('건물번호') == i)\n",
    "        \n",
    "        aBuilding = aBuilding.drop('건물번호', '건물유형', '연면적(m2)', '냉방면적(m2)', 'createTime')\n",
    "        \n",
    "        #feature 벡터화\n",
    "        feature_cols = [c for c in aBuilding.columns if c != '전력소비량(kWh)']\n",
    "        assembler = VectorAssembler(inputCols = feature_cols, outputCol = \"features\")\n",
    "        aBuilding = assembler.transform(aBuilding).select(\"features\", \"전력소비량(kWh)\")\n",
    "        \n",
    "        rf = RandomForestRegressor(featuresCol='features', labelCol='전력소비량(kWh)', numTrees=n_estimators)\n",
    "        aBuilding = aBuilding.repartition(200)\n",
    "        model = rf.fit(aBuilding)\n",
    "        \n",
    "        models[i] = model\n",
    "        \n",
    "        \n",
    "    return models"
   ]
  },
  {
   "cell_type": "code",
   "execution_count": 115,
   "id": "6548d905",
   "metadata": {},
   "outputs": [
    {
     "name": "stderr",
     "output_type": "stream",
     "text": [
      "100%|██████████| 100/100 [22:04<00:00, 13.24s/it]                               \n"
     ]
    }
   ],
   "source": [
    "models1 = train_multiple_models(train_1)"
   ]
  },
  {
   "cell_type": "code",
   "execution_count": 121,
   "id": "2338b478",
   "metadata": {},
   "outputs": [],
   "source": [
    "predictions = []"
   ]
  },
  {
   "cell_type": "code",
   "execution_count": 122,
   "id": "647305eb",
   "metadata": {},
   "outputs": [
    {
     "name": "stderr",
     "output_type": "stream",
     "text": [
      "  1%|          | 1/100 [00:21<35:24, 21.46s/it]"
     ]
    },
    {
     "name": "stdout",
     "output_type": "stream",
     "text": [
      "mse: 160510.84580451043 rmse: 400.6380483734794 r2: 0.8391046776519901\n"
     ]
    },
    {
     "name": "stderr",
     "output_type": "stream",
     "text": [
      "  2%|▏         | 2/100 [00:43<35:31, 21.75s/it]                                 "
     ]
    },
    {
     "name": "stdout",
     "output_type": "stream",
     "text": [
      "mse: 140894.27846032116 rmse: 375.35886623379656 r2: 0.5225004317412898\n"
     ]
    },
    {
     "name": "stderr",
     "output_type": "stream",
     "text": [
      "  3%|▎         | 3/100 [01:04<34:49, 21.54s/it]"
     ]
    },
    {
     "name": "stdout",
     "output_type": "stream",
     "text": [
      "mse: 118319.84386836115 rmse: 343.9765164489593 r2: 0.6173743839264818\n"
     ]
    },
    {
     "name": "stderr",
     "output_type": "stream",
     "text": [
      "  4%|▍         | 4/100 [01:26<34:40, 21.67s/it]                                 "
     ]
    },
    {
     "name": "stdout",
     "output_type": "stream",
     "text": [
      "mse: 8488.585475882674 rmse: 92.13351982792511 r2: 0.9154520271911657\n"
     ]
    },
    {
     "name": "stderr",
     "output_type": "stream",
     "text": [
      "  5%|▌         | 5/100 [01:48<34:17, 21.66s/it]                                 "
     ]
    },
    {
     "name": "stdout",
     "output_type": "stream",
     "text": [
      "mse: 3011156.4339914173 rmse: 1735.2684040203746 r2: 0.2394179504930355\n"
     ]
    },
    {
     "name": "stderr",
     "output_type": "stream",
     "text": [
      "  6%|▌         | 6/100 [02:10<34:05, 21.76s/it]                                 "
     ]
    },
    {
     "name": "stdout",
     "output_type": "stream",
     "text": [
      "mse: 27780.528199924967 rmse: 166.6749177288682 r2: 0.9550488649290526\n"
     ]
    },
    {
     "name": "stderr",
     "output_type": "stream",
     "text": [
      "  7%|▋         | 7/100 [02:31<33:39, 21.71s/it]                                 "
     ]
    },
    {
     "name": "stdout",
     "output_type": "stream",
     "text": [
      "mse: 35044.939899625606 rmse: 187.20293774304292 r2: 0.5786171364979816\n"
     ]
    },
    {
     "name": "stderr",
     "output_type": "stream",
     "text": [
      "  8%|▊         | 8/100 [02:53<33:23, 21.78s/it]                                 "
     ]
    },
    {
     "name": "stdout",
     "output_type": "stream",
     "text": [
      "mse: 28269.106117491283 rmse: 168.1341908045216 r2: 0.14866687385875244\n"
     ]
    },
    {
     "name": "stderr",
     "output_type": "stream",
     "text": [
      "  9%|▉         | 9/100 [03:15<32:59, 21.75s/it]                                 "
     ]
    },
    {
     "name": "stdout",
     "output_type": "stream",
     "text": [
      "mse: 50595.092139868175 rmse: 224.93352826972716 r2: 0.9294630127908793\n"
     ]
    },
    {
     "name": "stderr",
     "output_type": "stream",
     "text": [
      " 10%|█         | 10/100 [03:36<32:31, 21.68s/it]                                "
     ]
    },
    {
     "name": "stdout",
     "output_type": "stream",
     "text": [
      "mse: 422045.4464452607 rmse: 649.6502493228652 r2: -1.4307086357028251\n"
     ]
    },
    {
     "name": "stderr",
     "output_type": "stream",
     "text": [
      " 11%|█         | 11/100 [03:58<32:07, 21.66s/it]                                "
     ]
    },
    {
     "name": "stdout",
     "output_type": "stream",
     "text": [
      "mse: 14071.54055627488 rmse: 118.62352446405762 r2: 0.8219430420104334\n"
     ]
    },
    {
     "name": "stderr",
     "output_type": "stream",
     "text": [
      " 12%|█▏        | 12/100 [04:20<31:51, 21.72s/it]                                "
     ]
    },
    {
     "name": "stdout",
     "output_type": "stream",
     "text": [
      "mse: 33286.48753192507 rmse: 182.44584821783442 r2: 0.5533033989807443\n"
     ]
    },
    {
     "name": "stderr",
     "output_type": "stream",
     "text": [
      " 13%|█▎        | 13/100 [04:42<31:33, 21.76s/it]                                "
     ]
    },
    {
     "name": "stdout",
     "output_type": "stream",
     "text": [
      "mse: 40807.43129211989 rmse: 202.00849311877926 r2: 0.3644278794855872\n"
     ]
    },
    {
     "name": "stderr",
     "output_type": "stream",
     "text": [
      " 14%|█▍        | 14/100 [05:03<31:08, 21.72s/it]"
     ]
    },
    {
     "name": "stdout",
     "output_type": "stream",
     "text": [
      "mse: 219511.60896995472 rmse: 468.52066013139125 r2: -0.17205815704536542\n"
     ]
    },
    {
     "name": "stderr",
     "output_type": "stream",
     "text": [
      " 15%|█▌        | 15/100 [05:25<30:41, 21.67s/it]                                "
     ]
    },
    {
     "name": "stdout",
     "output_type": "stream",
     "text": [
      "mse: 35134.33033622541 rmse: 187.44153844925998 r2: 0.2969083430499081\n"
     ]
    },
    {
     "name": "stderr",
     "output_type": "stream",
     "text": [
      " 16%|█▌        | 16/100 [05:47<30:26, 21.74s/it]"
     ]
    },
    {
     "name": "stdout",
     "output_type": "stream",
     "text": [
      "mse: 94561.92774221247 rmse: 307.5092319625745 r2: 0.9472917123603279\n"
     ]
    },
    {
     "name": "stderr",
     "output_type": "stream",
     "text": [
      " 17%|█▋        | 17/100 [06:09<30:06, 21.77s/it]"
     ]
    },
    {
     "name": "stdout",
     "output_type": "stream",
     "text": [
      "mse: 142247.1679118585 rmse: 377.15668880699764 r2: 0.19201915673111425\n"
     ]
    },
    {
     "name": "stderr",
     "output_type": "stream",
     "text": [
      " 18%|█▊        | 18/100 [06:30<29:40, 21.71s/it]"
     ]
    },
    {
     "name": "stdout",
     "output_type": "stream",
     "text": [
      "mse: 149137.58949199234 rmse: 386.1833625261354 r2: 0.4690039229638674\n"
     ]
    },
    {
     "name": "stderr",
     "output_type": "stream",
     "text": [
      " 19%|█▉        | 19/100 [06:52<29:23, 21.77s/it]                                "
     ]
    },
    {
     "name": "stdout",
     "output_type": "stream",
     "text": [
      "mse: 237747.9782987014 rmse: 487.5940712300564 r2: 0.4874796983737041\n"
     ]
    },
    {
     "name": "stderr",
     "output_type": "stream",
     "text": [
      " 20%|██        | 20/100 [07:14<29:05, 21.82s/it]"
     ]
    },
    {
     "name": "stdout",
     "output_type": "stream",
     "text": [
      "mse: 777251.5303888913 rmse: 881.6186989786976 r2: 0.2709308528295944\n"
     ]
    },
    {
     "name": "stderr",
     "output_type": "stream",
     "text": [
      " 21%|██        | 21/100 [07:36<28:47, 21.86s/it]                                "
     ]
    },
    {
     "name": "stdout",
     "output_type": "stream",
     "text": [
      "mse: 504447.6895243907 rmse: 710.2448095722985 r2: 0.20591835386863566\n"
     ]
    },
    {
     "name": "stderr",
     "output_type": "stream",
     "text": [
      " 22%|██▏       | 22/100 [07:58<28:23, 21.84s/it]                                "
     ]
    },
    {
     "name": "stdout",
     "output_type": "stream",
     "text": [
      "mse: 45075.942725048386 rmse: 212.31095761888594 r2: 0.48887378491260136\n"
     ]
    },
    {
     "name": "stderr",
     "output_type": "stream",
     "text": [
      " 23%|██▎       | 23/100 [08:19<27:47, 21.66s/it]                                "
     ]
    },
    {
     "name": "stdout",
     "output_type": "stream",
     "text": [
      "mse: 48168.919050700715 rmse: 219.47418766383606 r2: 0.3600986832244414\n"
     ]
    },
    {
     "name": "stderr",
     "output_type": "stream",
     "text": [
      " 24%|██▍       | 24/100 [08:41<27:25, 21.65s/it]                                "
     ]
    },
    {
     "name": "stdout",
     "output_type": "stream",
     "text": [
      "mse: 2873215.215476663 rmse: 1695.056109831372 r2: 0.6239248843680619\n"
     ]
    },
    {
     "name": "stderr",
     "output_type": "stream",
     "text": [
      " 25%|██▌       | 25/100 [09:02<27:02, 21.63s/it]                                "
     ]
    },
    {
     "name": "stdout",
     "output_type": "stream",
     "text": [
      "mse: 2335363.3489739853 rmse: 1528.189565784947 r2: 0.5657419482780519\n"
     ]
    },
    {
     "name": "stderr",
     "output_type": "stream",
     "text": [
      " 26%|██▌       | 26/100 [09:24<26:32, 21.52s/it]                                "
     ]
    },
    {
     "name": "stdout",
     "output_type": "stream",
     "text": [
      "mse: 485207.73582470237 rmse: 696.5685435222456 r2: 0.42998278875059937\n"
     ]
    },
    {
     "name": "stderr",
     "output_type": "stream",
     "text": [
      " 27%|██▋       | 27/100 [09:46<26:21, 21.66s/it]                                "
     ]
    },
    {
     "name": "stdout",
     "output_type": "stream",
     "text": [
      "mse: 5055269.892423617 rmse: 2248.3927353608883 r2: 0.31330680354450446\n"
     ]
    },
    {
     "name": "stderr",
     "output_type": "stream",
     "text": [
      " 28%|██▊       | 28/100 [10:07<26:05, 21.75s/it]                                "
     ]
    },
    {
     "name": "stdout",
     "output_type": "stream",
     "text": [
      "mse: 176392.01821655539 rmse: 419.99049776936073 r2: 0.28189025983135796\n"
     ]
    },
    {
     "name": "stderr",
     "output_type": "stream",
     "text": [
      " 29%|██▉       | 29/100 [10:29<25:34, 21.61s/it]"
     ]
    },
    {
     "name": "stdout",
     "output_type": "stream",
     "text": [
      "mse: 104243.24894337347 rmse: 322.867231139014 r2: 0.33213602868456293\n"
     ]
    },
    {
     "name": "stderr",
     "output_type": "stream",
     "text": [
      " 30%|███       | 30/100 [10:50<25:13, 21.62s/it]                                "
     ]
    },
    {
     "name": "stdout",
     "output_type": "stream",
     "text": [
      "mse: 67088.6493186363 rmse: 259.0147666034435 r2: 0.0813544563990225\n"
     ]
    },
    {
     "name": "stderr",
     "output_type": "stream",
     "text": [
      " 31%|███       | 31/100 [11:12<24:56, 21.68s/it]                                "
     ]
    },
    {
     "name": "stdout",
     "output_type": "stream",
     "text": [
      "mse: 96314.64326471536 rmse: 310.3460057173531 r2: 0.10164013105610081\n"
     ]
    },
    {
     "name": "stderr",
     "output_type": "stream",
     "text": [
      " 32%|███▏      | 32/100 [11:34<24:33, 21.67s/it]                                "
     ]
    },
    {
     "name": "stdout",
     "output_type": "stream",
     "text": [
      "mse: 10322.440834816161 rmse: 101.59941355547367 r2: 0.4296359611543398\n"
     ]
    },
    {
     "name": "stderr",
     "output_type": "stream",
     "text": [
      " 33%|███▎      | 33/100 [11:56<24:18, 21.77s/it]                                "
     ]
    },
    {
     "name": "stdout",
     "output_type": "stream",
     "text": [
      "mse: 2283.8330634252106 rmse: 47.78946602992348 r2: 0.6910669596557748\n"
     ]
    },
    {
     "name": "stderr",
     "output_type": "stream",
     "text": [
      " 34%|███▍      | 34/100 [12:17<23:53, 21.72s/it]"
     ]
    },
    {
     "name": "stdout",
     "output_type": "stream",
     "text": [
      "mse: 1996.44100723726 rmse: 44.68155108361012 r2: 0.6966014341588658\n"
     ]
    },
    {
     "name": "stderr",
     "output_type": "stream",
     "text": [
      " 35%|███▌      | 35/100 [12:39<23:31, 21.72s/it]                                "
     ]
    },
    {
     "name": "stdout",
     "output_type": "stream",
     "text": [
      "mse: 316.2943792244485 rmse: 17.78466696973684 r2: 0.7299799722556966\n"
     ]
    },
    {
     "name": "stderr",
     "output_type": "stream",
     "text": [
      " 36%|███▌      | 36/100 [13:01<23:07, 21.69s/it]                                "
     ]
    },
    {
     "name": "stdout",
     "output_type": "stream",
     "text": [
      "mse: 378.60463515790394 rmse: 19.457765420466547 r2: 0.7508870967965848\n"
     ]
    },
    {
     "name": "stderr",
     "output_type": "stream",
     "text": [
      " 37%|███▋      | 37/100 [13:23<22:51, 21.78s/it]                                "
     ]
    },
    {
     "name": "stdout",
     "output_type": "stream",
     "text": [
      "mse: 202903.4981386618 rmse: 450.44810815305004 r2: 0.9489663867603173\n"
     ]
    },
    {
     "name": "stderr",
     "output_type": "stream",
     "text": [
      " 38%|███▊      | 38/100 [13:45<22:33, 21.83s/it]                                "
     ]
    },
    {
     "name": "stdout",
     "output_type": "stream",
     "text": [
      "mse: 62001.73177351362 rmse: 249.0014694203904 r2: 0.9590087211588062\n"
     ]
    },
    {
     "name": "stderr",
     "output_type": "stream",
     "text": [
      " 39%|███▉      | 39/100 [14:07<22:12, 21.84s/it]                                "
     ]
    },
    {
     "name": "stdout",
     "output_type": "stream",
     "text": [
      "mse: 200535.7869147618 rmse: 447.8122228286783 r2: 0.8949589263546764\n"
     ]
    },
    {
     "name": "stderr",
     "output_type": "stream",
     "text": [
      " 40%|████      | 40/100 [14:28<21:47, 21.80s/it]                                "
     ]
    },
    {
     "name": "stdout",
     "output_type": "stream",
     "text": [
      "mse: 170816.63825407505 rmse: 413.299695443966 r2: 0.9173000342172871\n"
     ]
    },
    {
     "name": "stderr",
     "output_type": "stream",
     "text": [
      " 41%|████      | 41/100 [14:50<21:29, 21.86s/it]                                "
     ]
    },
    {
     "name": "stdout",
     "output_type": "stream",
     "text": [
      "mse: 185435.79779812842 rmse: 430.62257000548453 r2: 0.9470579918314197\n"
     ]
    },
    {
     "name": "stderr",
     "output_type": "stream",
     "text": [
      " 42%|████▏     | 42/100 [15:12<21:02, 21.76s/it]                                "
     ]
    },
    {
     "name": "stdout",
     "output_type": "stream",
     "text": [
      "mse: 522632.74964762834 rmse: 722.9334337597261 r2: 0.6451882805337663\n"
     ]
    },
    {
     "name": "stderr",
     "output_type": "stream",
     "text": [
      " 43%|████▎     | 43/100 [15:34<20:38, 21.74s/it]                                "
     ]
    },
    {
     "name": "stdout",
     "output_type": "stream",
     "text": [
      "mse: 61380.43743739874 rmse: 247.75075668380657 r2: 0.9759677173893755\n"
     ]
    },
    {
     "name": "stderr",
     "output_type": "stream",
     "text": [
      " 44%|████▍     | 44/100 [15:55<20:20, 21.79s/it]                                "
     ]
    },
    {
     "name": "stdout",
     "output_type": "stream",
     "text": [
      "mse: 76424.58894396859 rmse: 276.44997548194607 r2: 0.9715273566987287\n"
     ]
    },
    {
     "name": "stderr",
     "output_type": "stream",
     "text": [
      " 45%|████▌     | 45/100 [16:17<20:01, 21.84s/it]"
     ]
    },
    {
     "name": "stdout",
     "output_type": "stream",
     "text": [
      "mse: 57926.2975753236 rmse: 240.67882660367863 r2: 0.7342824468508715\n"
     ]
    },
    {
     "name": "stderr",
     "output_type": "stream",
     "text": [
      " 46%|████▌     | 46/100 [16:39<19:40, 21.87s/it]                                "
     ]
    },
    {
     "name": "stdout",
     "output_type": "stream",
     "text": [
      "mse: 105079.69465989138 rmse: 324.159983125449 r2: 0.6057577744907272\n"
     ]
    },
    {
     "name": "stderr",
     "output_type": "stream",
     "text": [
      " 47%|████▋     | 47/100 [17:01<19:19, 21.88s/it]                                "
     ]
    },
    {
     "name": "stdout",
     "output_type": "stream",
     "text": [
      "mse: 498394.73989304755 rmse: 705.9707783563337 r2: 0.5952197768395993\n"
     ]
    },
    {
     "name": "stderr",
     "output_type": "stream",
     "text": [
      " 48%|████▊     | 48/100 [17:23<18:59, 21.92s/it]                                "
     ]
    },
    {
     "name": "stdout",
     "output_type": "stream",
     "text": [
      "mse: 46651.68793826806 rmse: 215.99001814497828 r2: 0.7273518514022972\n"
     ]
    },
    {
     "name": "stderr",
     "output_type": "stream",
     "text": [
      " 49%|████▉     | 49/100 [17:45<18:38, 21.94s/it]                                "
     ]
    },
    {
     "name": "stdout",
     "output_type": "stream",
     "text": [
      "mse: 64163.8095029964 rmse: 253.30576286969153 r2: 0.6077631817510349\n"
     ]
    },
    {
     "name": "stderr",
     "output_type": "stream",
     "text": [
      " 50%|█████     | 50/100 [18:07<18:18, 21.97s/it]                                "
     ]
    },
    {
     "name": "stdout",
     "output_type": "stream",
     "text": [
      "mse: 52836.19442119649 rmse: 229.8612503689921 r2: 0.6591481220966184\n"
     ]
    },
    {
     "name": "stderr",
     "output_type": "stream",
     "text": [
      " 51%|█████     | 51/100 [18:29<17:55, 21.95s/it]                                "
     ]
    },
    {
     "name": "stdout",
     "output_type": "stream",
     "text": [
      "mse: 110187.58171498698 rmse: 331.9451486540916 r2: 0.5683167284015564\n"
     ]
    },
    {
     "name": "stderr",
     "output_type": "stream",
     "text": [
      " 52%|█████▏    | 52/100 [18:51<17:28, 21.83s/it]                                "
     ]
    },
    {
     "name": "stdout",
     "output_type": "stream",
     "text": [
      "mse: 143806.05808420686 rmse: 379.217692208851 r2: 0.5536148293764898\n"
     ]
    },
    {
     "name": "stderr",
     "output_type": "stream",
     "text": [
      " 53%|█████▎    | 53/100 [19:13<17:05, 21.81s/it]                                "
     ]
    },
    {
     "name": "stdout",
     "output_type": "stream",
     "text": [
      "mse: 958357.6110702654 rmse: 978.9574102432985 r2: 0.20224372009155955\n"
     ]
    },
    {
     "name": "stderr",
     "output_type": "stream",
     "text": [
      " 54%|█████▍    | 54/100 [19:34<16:43, 21.81s/it]"
     ]
    },
    {
     "name": "stdout",
     "output_type": "stream",
     "text": [
      "mse: 416395.1704288289 rmse: 645.2868900177882 r2: 0.6358677689007243\n"
     ]
    },
    {
     "name": "stderr",
     "output_type": "stream",
     "text": [
      " 55%|█████▌    | 55/100 [19:56<16:22, 21.84s/it]                                "
     ]
    },
    {
     "name": "stdout",
     "output_type": "stream",
     "text": [
      "mse: 3513.778338889751 rmse: 59.277131668880116 r2: 0.4465640165947562\n"
     ]
    },
    {
     "name": "stderr",
     "output_type": "stream",
     "text": [
      " 56%|█████▌    | 56/100 [20:17<15:48, 21.56s/it]"
     ]
    },
    {
     "name": "stdout",
     "output_type": "stream",
     "text": [
      "mse: 17857.711181645715 rmse: 133.63274741486725 r2: 0.4474914700839384\n"
     ]
    },
    {
     "name": "stderr",
     "output_type": "stream",
     "text": [
      " 57%|█████▋    | 57/100 [20:39<15:28, 21.59s/it]"
     ]
    },
    {
     "name": "stdout",
     "output_type": "stream",
     "text": [
      "mse: 106744.44646836766 rmse: 326.71768618850075 r2: 0.8600065738681899\n"
     ]
    },
    {
     "name": "stderr",
     "output_type": "stream",
     "text": [
      " 58%|█████▊    | 58/100 [21:01<15:09, 21.66s/it]                                "
     ]
    },
    {
     "name": "stdout",
     "output_type": "stream",
     "text": [
      "mse: 2270.219394639196 rmse: 47.646819354907585 r2: 0.35012642161960283\n"
     ]
    },
    {
     "name": "stderr",
     "output_type": "stream",
     "text": [
      " 59%|█████▉    | 59/100 [21:23<14:51, 21.75s/it]                                "
     ]
    },
    {
     "name": "stdout",
     "output_type": "stream",
     "text": [
      "mse: 653684.4376867166 rmse: 808.5075371860902 r2: 0.43121526550530576\n"
     ]
    },
    {
     "name": "stderr",
     "output_type": "stream",
     "text": [
      " 60%|██████    | 60/100 [21:44<14:31, 21.78s/it]                                "
     ]
    },
    {
     "name": "stdout",
     "output_type": "stream",
     "text": [
      "mse: 282717.2548130991 rmse: 531.7116274947343 r2: 0.7110204426615321\n"
     ]
    },
    {
     "name": "stderr",
     "output_type": "stream",
     "text": [
      " 61%|██████    | 61/100 [22:06<14:11, 21.83s/it]                                "
     ]
    },
    {
     "name": "stdout",
     "output_type": "stream",
     "text": [
      "mse: 143877.91351893338 rmse: 379.31242204669934 r2: 0.8197450874525618\n"
     ]
    },
    {
     "name": "stderr",
     "output_type": "stream",
     "text": [
      " 62%|██████▏   | 62/100 [22:28<13:49, 21.82s/it]                                "
     ]
    },
    {
     "name": "stdout",
     "output_type": "stream",
     "text": [
      "mse: 21510.721013982187 rmse: 146.6653367840615 r2: 0.8179895580461621\n"
     ]
    },
    {
     "name": "stderr",
     "output_type": "stream",
     "text": [
      " 63%|██████▎   | 63/100 [22:50<13:27, 21.83s/it]                                "
     ]
    },
    {
     "name": "stdout",
     "output_type": "stream",
     "text": [
      "mse: 9175.763117267335 rmse: 95.79020366022473 r2: 0.8102069881065376\n"
     ]
    },
    {
     "name": "stderr",
     "output_type": "stream",
     "text": [
      " 64%|██████▍   | 64/100 [23:11<12:59, 21.67s/it]                                "
     ]
    },
    {
     "name": "stdout",
     "output_type": "stream",
     "text": [
      "mse: 19756.86257153169 rmse: 140.55910703875324 r2: 0.7875051138684321\n"
     ]
    },
    {
     "name": "stderr",
     "output_type": "stream",
     "text": [
      " 65%|██████▌   | 65/100 [23:32<12:31, 21.47s/it]"
     ]
    },
    {
     "name": "stdout",
     "output_type": "stream",
     "text": [
      "mse: 16615.41535511618 rmse: 128.90079656509567 r2: 0.6537891752616297\n"
     ]
    },
    {
     "name": "stderr",
     "output_type": "stream",
     "text": [
      " 66%|██████▌   | 66/100 [23:54<12:11, 21.50s/it]                                "
     ]
    },
    {
     "name": "stdout",
     "output_type": "stream",
     "text": [
      "mse: 1311.2437051301633 rmse: 36.211099198038205 r2: 0.6525590398690531\n"
     ]
    },
    {
     "name": "stderr",
     "output_type": "stream",
     "text": [
      " 67%|██████▋   | 67/100 [24:15<11:49, 21.51s/it]                                "
     ]
    },
    {
     "name": "stdout",
     "output_type": "stream",
     "text": [
      "mse: 29007.35277927552 rmse: 170.31545079432902 r2: 0.6403848381336916\n"
     ]
    },
    {
     "name": "stderr",
     "output_type": "stream",
     "text": [
      " 68%|██████▊   | 68/100 [24:37<11:28, 21.50s/it]                                "
     ]
    },
    {
     "name": "stdout",
     "output_type": "stream",
     "text": [
      "mse: 52074.903448500896 rmse: 228.19926259412162 r2: 0.8182710010238846\n"
     ]
    },
    {
     "name": "stderr",
     "output_type": "stream",
     "text": [
      " 69%|██████▉   | 69/100 [24:59<11:07, 21.53s/it]                                "
     ]
    },
    {
     "name": "stdout",
     "output_type": "stream",
     "text": [
      "mse: 718286.8341527539 rmse: 847.5180435558611 r2: 0.3940062300978904\n"
     ]
    },
    {
     "name": "stderr",
     "output_type": "stream",
     "text": [
      " 70%|███████   | 70/100 [25:20<10:49, 21.66s/it]                                "
     ]
    },
    {
     "name": "stdout",
     "output_type": "stream",
     "text": [
      "mse: 1472908.0272317606 rmse: 1213.6342229979182 r2: 0.31920662505621344\n"
     ]
    },
    {
     "name": "stderr",
     "output_type": "stream",
     "text": [
      " 71%|███████   | 71/100 [25:42<10:28, 21.69s/it]                                "
     ]
    },
    {
     "name": "stdout",
     "output_type": "stream",
     "text": [
      "mse: 185002.8152317194 rmse: 430.11953598008006 r2: -0.03622972809429248\n"
     ]
    },
    {
     "name": "stderr",
     "output_type": "stream",
     "text": [
      " 72%|███████▏  | 72/100 [26:04<10:08, 21.74s/it]                                "
     ]
    },
    {
     "name": "stdout",
     "output_type": "stream",
     "text": [
      "mse: 21951.644881496773 rmse: 148.16087500246738 r2: 0.21155910286633517\n"
     ]
    },
    {
     "name": "stderr",
     "output_type": "stream",
     "text": [
      " 73%|███████▎  | 73/100 [26:26<09:48, 21.78s/it]"
     ]
    },
    {
     "name": "stdout",
     "output_type": "stream",
     "text": [
      "mse: 69365.50569344786 rmse: 263.3733200106796 r2: 0.3871095204460805\n"
     ]
    },
    {
     "name": "stderr",
     "output_type": "stream",
     "text": [
      " 74%|███████▍  | 74/100 [26:48<09:24, 21.72s/it]                                "
     ]
    },
    {
     "name": "stdout",
     "output_type": "stream",
     "text": [
      "mse: 2085604.531401868 rmse: 1444.162224752423 r2: 0.17679278082840644\n"
     ]
    },
    {
     "name": "stderr",
     "output_type": "stream",
     "text": [
      " 75%|███████▌  | 75/100 [27:09<09:01, 21.67s/it]                                "
     ]
    },
    {
     "name": "stdout",
     "output_type": "stream",
     "text": [
      "mse: 29752.153232792036 rmse: 172.4881249036931 r2: 0.6304830743852599\n"
     ]
    },
    {
     "name": "stderr",
     "output_type": "stream",
     "text": [
      " 76%|███████▌  | 76/100 [27:31<08:41, 21.72s/it]                                "
     ]
    },
    {
     "name": "stdout",
     "output_type": "stream",
     "text": [
      "mse: 23106.657143954544 rmse: 152.0087403538183 r2: 0.24554720956857556\n"
     ]
    },
    {
     "name": "stderr",
     "output_type": "stream",
     "text": [
      " 77%|███████▋  | 77/100 [27:53<08:21, 21.82s/it]                                "
     ]
    },
    {
     "name": "stdout",
     "output_type": "stream",
     "text": [
      "mse: 131287.80293541457 rmse: 362.3365879060719 r2: 0.4544675284025558\n"
     ]
    },
    {
     "name": "stderr",
     "output_type": "stream",
     "text": [
      " 78%|███████▊  | 78/100 [28:15<07:59, 21.82s/it]"
     ]
    },
    {
     "name": "stdout",
     "output_type": "stream",
     "text": [
      "mse: 360774.554267978 rmse: 600.645115078761 r2: 0.4628566790592781\n"
     ]
    },
    {
     "name": "stderr",
     "output_type": "stream",
     "text": [
      " 79%|███████▉  | 79/100 [28:37<07:39, 21.86s/it]                                "
     ]
    },
    {
     "name": "stdout",
     "output_type": "stream",
     "text": [
      "mse: 350431.5666476938 rmse: 591.972606332163 r2: 0.5017795294355754\n"
     ]
    },
    {
     "name": "stderr",
     "output_type": "stream",
     "text": [
      " 80%|████████  | 80/100 [28:58<07:15, 21.80s/it]                                "
     ]
    },
    {
     "name": "stdout",
     "output_type": "stream",
     "text": [
      "mse: 1694216.7091362486 rmse: 1301.6208008234382 r2: 0.4515111098456358\n"
     ]
    },
    {
     "name": "stderr",
     "output_type": "stream",
     "text": [
      " 81%|████████  | 81/100 [29:20<06:55, 21.85s/it]                                "
     ]
    },
    {
     "name": "stdout",
     "output_type": "stream",
     "text": [
      "mse: 25166.72837276573 rmse: 158.64024827503806 r2: 0.9661332125824917\n"
     ]
    },
    {
     "name": "stderr",
     "output_type": "stream",
     "text": [
      " 82%|████████▏ | 82/100 [29:42<06:31, 21.77s/it]                                "
     ]
    },
    {
     "name": "stdout",
     "output_type": "stream",
     "text": [
      "mse: 677861.7102556991 rmse: 823.3235756710111 r2: 0.5490666444049306\n"
     ]
    },
    {
     "name": "stderr",
     "output_type": "stream",
     "text": [
      " 83%|████████▎ | 83/100 [30:04<06:09, 21.73s/it]                                "
     ]
    },
    {
     "name": "stdout",
     "output_type": "stream",
     "text": [
      "mse: 495034.4734884735 rmse: 703.586862788436 r2: 0.40562910015271747\n"
     ]
    },
    {
     "name": "stderr",
     "output_type": "stream",
     "text": [
      " 84%|████████▍ | 84/100 [30:26<05:48, 21.79s/it]                                "
     ]
    },
    {
     "name": "stdout",
     "output_type": "stream",
     "text": [
      "mse: 255334.61169153257 rmse: 505.30645324548607 r2: 0.5860546878988433\n"
     ]
    },
    {
     "name": "stderr",
     "output_type": "stream",
     "text": [
      " 85%|████████▌ | 85/100 [30:47<05:26, 21.74s/it]                                "
     ]
    },
    {
     "name": "stdout",
     "output_type": "stream",
     "text": [
      "mse: 21638.992708730362 rmse: 147.10198064176552 r2: 0.9015854976568065\n"
     ]
    },
    {
     "name": "stderr",
     "output_type": "stream",
     "text": [
      " 86%|████████▌ | 86/100 [31:09<05:03, 21.69s/it]                                "
     ]
    },
    {
     "name": "stdout",
     "output_type": "stream",
     "text": [
      "mse: 14223.73047357684 rmse: 119.26328216838928 r2: 0.9369856902035248\n"
     ]
    },
    {
     "name": "stderr",
     "output_type": "stream",
     "text": [
      " 87%|████████▋ | 87/100 [31:31<04:43, 21.78s/it]                                "
     ]
    },
    {
     "name": "stdout",
     "output_type": "stream",
     "text": [
      "mse: 33320.094681669485 rmse: 182.5379266937956 r2: 0.8400519396914201\n"
     ]
    },
    {
     "name": "stderr",
     "output_type": "stream",
     "text": [
      " 88%|████████▊ | 88/100 [31:53<04:21, 21.80s/it]                                "
     ]
    },
    {
     "name": "stdout",
     "output_type": "stream",
     "text": [
      "mse: 22984.193466243745 rmse: 151.605387325925 r2: 0.9392348612166721\n"
     ]
    },
    {
     "name": "stderr",
     "output_type": "stream",
     "text": [
      " 89%|████████▉ | 89/100 [32:14<04:00, 21.82s/it]                                "
     ]
    },
    {
     "name": "stdout",
     "output_type": "stream",
     "text": [
      "mse: 35309.06232974133 rmse: 187.9070576900754 r2: 0.9444895820410403\n"
     ]
    },
    {
     "name": "stderr",
     "output_type": "stream",
     "text": [
      " 90%|█████████ | 90/100 [32:36<03:36, 21.68s/it]                                "
     ]
    },
    {
     "name": "stdout",
     "output_type": "stream",
     "text": [
      "mse: 60259.03714991295 rmse: 245.47716217585895 r2: 0.9120825388724039\n"
     ]
    },
    {
     "name": "stderr",
     "output_type": "stream",
     "text": [
      " 91%|█████████ | 91/100 [32:58<03:15, 21.75s/it]                                "
     ]
    },
    {
     "name": "stdout",
     "output_type": "stream",
     "text": [
      "mse: 95735.73510067862 rmse: 309.41191816198454 r2: 0.8519694445660585\n"
     ]
    },
    {
     "name": "stderr",
     "output_type": "stream",
     "text": [
      " 92%|█████████▏| 92/100 [33:19<02:54, 21.76s/it]                                "
     ]
    },
    {
     "name": "stdout",
     "output_type": "stream",
     "text": [
      "mse: 14432.313314034174 rmse: 120.13456336139974 r2: 0.9525564036104808\n"
     ]
    },
    {
     "name": "stderr",
     "output_type": "stream",
     "text": [
      " 93%|█████████▎| 93/100 [33:41<02:32, 21.77s/it]                                "
     ]
    },
    {
     "name": "stdout",
     "output_type": "stream",
     "text": [
      "mse: 10856.668673960694 rmse: 104.19533902224562 r2: 0.8533658556143057\n"
     ]
    },
    {
     "name": "stderr",
     "output_type": "stream",
     "text": [
      " 94%|█████████▍| 94/100 [34:03<02:10, 21.82s/it]                                "
     ]
    },
    {
     "name": "stdout",
     "output_type": "stream",
     "text": [
      "mse: 79821.43542704383 rmse: 282.5268755836228 r2: 0.8328529257878188\n"
     ]
    },
    {
     "name": "stderr",
     "output_type": "stream",
     "text": [
      " 95%|█████████▌| 95/100 [34:25<01:49, 21.84s/it]                                "
     ]
    },
    {
     "name": "stdout",
     "output_type": "stream",
     "text": [
      "mse: 50131.45639019073 rmse: 223.90055022306387 r2: 0.5022450489538886\n"
     ]
    },
    {
     "name": "stderr",
     "output_type": "stream",
     "text": [
      " 96%|█████████▌| 96/100 [34:47<01:27, 21.77s/it]                                "
     ]
    },
    {
     "name": "stdout",
     "output_type": "stream",
     "text": [
      "mse: 26061.036261150042 rmse: 161.4343094300281 r2: 0.9340801065407426\n"
     ]
    },
    {
     "name": "stderr",
     "output_type": "stream",
     "text": [
      " 97%|█████████▋| 97/100 [35:09<01:05, 21.81s/it]                                "
     ]
    },
    {
     "name": "stdout",
     "output_type": "stream",
     "text": [
      "mse: 19245.327481710094 rmse: 138.72752964610197 r2: 0.8405854280808422\n"
     ]
    },
    {
     "name": "stderr",
     "output_type": "stream",
     "text": [
      " 98%|█████████▊| 98/100 [35:30<00:43, 21.73s/it]"
     ]
    },
    {
     "name": "stdout",
     "output_type": "stream",
     "text": [
      "mse: 46644.221687803474 rmse: 215.97273366747814 r2: 0.7962341942036613\n"
     ]
    },
    {
     "name": "stderr",
     "output_type": "stream",
     "text": [
      " 99%|█████████▉| 99/100 [35:52<00:21, 21.79s/it]                                "
     ]
    },
    {
     "name": "stdout",
     "output_type": "stream",
     "text": [
      "mse: 9834.12657922813 rmse: 99.16716482398864 r2: 0.920938449024316\n"
     ]
    },
    {
     "name": "stderr",
     "output_type": "stream",
     "text": [
      "100%|██████████| 100/100 [36:14<00:00, 21.74s/it]                               "
     ]
    },
    {
     "name": "stdout",
     "output_type": "stream",
     "text": [
      "mse: 7907.555589790562 rmse: 88.92443752867129 r2: 0.9188345194150214\n"
     ]
    },
    {
     "name": "stderr",
     "output_type": "stream",
     "text": [
      "\n"
     ]
    }
   ],
   "source": [
    "predictions = validate_multi(valid_1, models1)\n"
   ]
  },
  {
   "cell_type": "code",
   "execution_count": 123,
   "id": "f545969d",
   "metadata": {},
   "outputs": [
    {
     "name": "stderr",
     "output_type": "stream",
     "text": [
      "                                                                                \r"
     ]
    },
    {
     "name": "stdout",
     "output_type": "stream",
     "text": [
      "+--------------------+---------------+------------------+\n",
      "|            features|전력소비량(kWh)|        prediction|\n",
      "+--------------------+---------------+------------------+\n",
      "|[25.8,0.0,2.4,95....|        2226.24| 2005.400781982691|\n",
      "|[25.8,0.0,1.4,83....|         2160.0| 3835.253259885946|\n",
      "|[30.2,0.0,1.9,70....|        7640.64|4002.3547639735684|\n",
      "|[28.1,0.0,2.0,75....|        1748.16| 2380.461915524128|\n",
      "|[26.0,0.0,2.4,95....|        2056.32| 1945.990033806383|\n",
      "|[31.8,0.0,2.6,64....|        7546.32| 3514.254626445397|\n",
      "|[26.3,0.0,3.2,95....|        2049.12|1935.0658646535005|\n",
      "|[23.1,0.0,0.7,88....|        1972.08|1898.9746873116183|\n",
      "|[26.2,0.0,1.3,82....|        7240.32|3652.6628472536972|\n",
      "|[22.4,0.0,2.6,68....|        2117.52|1923.0490414280846|\n",
      "|[25.2,0.0,3.1,65....|        1723.68|2243.4645110031706|\n",
      "|[25.7,0.0,2.5,84....|        1908.72| 2113.284056656309|\n",
      "|[26.2,0.0,2.5,63....|        1997.28|3419.6317322844047|\n",
      "|[28.6,0.0,2.8,69....|         1821.6|2912.2839871343517|\n",
      "|[28.1,0.0,3.2,63....|        1892.88|3364.8174377764512|\n",
      "|[27.6,0.0,2.9,61....|         3301.2| 3715.419915158316|\n",
      "|[25.5,0.0,1.8,82....|        1881.36|2000.9614283420265|\n",
      "|[27.7,0.0,2.2,61....|        3003.84| 3771.395231874344|\n",
      "|[27.3,0.0,0.6,78....|         7484.4|3804.5652039123406|\n",
      "|[27.5,0.0,2.1,79....|        3345.12| 3722.005050405615|\n",
      "+--------------------+---------------+------------------+\n",
      "only showing top 20 rows\n",
      "\n"
     ]
    }
   ],
   "source": [
    "predictions[5].show()"
   ]
  },
  {
   "cell_type": "code",
   "execution_count": 125,
   "id": "9b668367",
   "metadata": {},
   "outputs": [
    {
     "name": "stderr",
     "output_type": "stream",
     "text": [
      "                                                                                \r"
     ]
    },
    {
     "name": "stdout",
     "output_type": "stream",
     "text": [
      "+---------------------------------+---------------+------------------+\n",
      "|features                         |전력소비량(kWh)|prediction        |\n",
      "+---------------------------------+---------------+------------------+\n",
      "|[28.7,0.0,2.7,73.0,8.0,22.0,11.0]|2059.2         |3696.6753338984154|\n",
      "|[22.5,0.0,2.6,71.0,8.0,24.0,4.0] |1928.16        |1892.761259764303 |\n",
      "|[26.6,0.0,2.0,65.0,8.0,24.0,15.0]|3198.96        |3806.5578718001966|\n",
      "|[27.9,0.0,0.4,78.0,8.0,21.0,22.0]|1713.6         |2354.5895568884575|\n",
      "|[22.4,0.0,3.1,69.0,8.0,24.0,6.0] |2131.2         |1956.2058950266003|\n",
      "|[30.4,0.0,1.3,66.0,8.0,21.0,13.0]|7683.84        |4072.1906675475516|\n",
      "|[29.5,0.0,2.6,65.0,8.0,21.0,19.0]|2017.44        |3194.288020891184 |\n",
      "|[23.0,0.0,0.7,87.0,8.0,23.0,0.0] |1964.16        |1898.9746873116183|\n",
      "|[25.1,0.0,1.4,83.0,8.0,21.0,5.0] |1908.72        |1955.4482879348259|\n",
      "|[22.6,0.0,1.8,74.0,8.0,24.0,2.0] |1915.2         |1889.0685786718666|\n",
      "|[24.6,0.0,1.3,67.0,8.0,24.0,21.0]|1604.88        |2190.8178375262414|\n",
      "|[28.6,0.0,2.1,76.0,8.0,20.0,20.0]|6869.52        |2888.7548303978397|\n",
      "|[26.8,0.2,2.8,95.0,8.0,20.0,0.0] |2081.52        |1939.5937395958515|\n",
      "|[23.0,1.9,1.6,88.0,8.0,22.0,23.0]|1721.52        |2265.1764724682876|\n",
      "|[26.3,0.0,2.4,64.0,8.0,24.0,16.0]|2880.72        |3683.1875732896747|\n",
      "|[27.2,0.0,0.4,81.0,8.0,20.0,23.0]|1859.04        |2284.57059769141  |\n",
      "|[23.1,0.0,2.1,91.0,8.0,23.0,3.0] |1941.12        |1930.922534514489 |\n",
      "|[24.2,0.0,1.3,68.0,8.0,23.0,22.0]|1671.84        |2143.813808973959 |\n",
      "|[27.5,0.0,0.7,81.0,8.0,20.0,22.0]|1969.92        |2303.6110515959076|\n",
      "|[31.0,0.0,2.4,69.0,8.0,20.0,13.0]|7513.92        |3700.6696557835567|\n",
      "|[28.3,0.0,1.2,80.0,8.0,20.0,11.0]|5895.36        |3924.657448460814 |\n",
      "|[25.9,0.0,2.6,88.0,8.0,20.0,8.0] |2607.84        |3448.0348129387   |\n",
      "|[23.7,0.0,1.3,91.0,8.0,23.0,9.0] |2169.36        |3632.154993385017 |\n",
      "|[25.5,0.0,2.9,63.0,8.0,24.0,19.0]|1776.24        |2898.5994660137444|\n",
      "|[28.8,0.0,2.9,57.0,8.0,23.0,18.0]|1914.48        |3434.5695443552777|\n",
      "|[29.5,0.0,3.4,60.0,8.0,23.0,17.0]|2071.44        |3468.60468909693  |\n",
      "|[25.0,0.0,2.6,66.0,8.0,24.0,20.0]|1675.44        |2735.9172168469854|\n",
      "|[26.3,0.0,0.9,84.0,8.0,22.0,2.0] |1937.52        |1936.6990998875035|\n",
      "|[23.2,0.0,0.5,88.0,8.0,23.0,2.0] |1956.24        |1898.9746873116183|\n",
      "|[31.2,0.0,2.3,61.0,8.0,21.0,15.0]|7608.96        |3539.6067248526642|\n",
      "|[31.5,0.0,3.0,63.0,8.0,21.0,16.0]|7486.56        |3447.316435028898 |\n",
      "|[31.8,0.0,2.4,60.0,8.0,21.0,17.0]|7017.84        |3464.684715472132 |\n",
      "|[24.8,0.0,2.6,84.0,8.0,21.0,7.0] |2662.56        |2108.6920657613014|\n",
      "|[27.3,0.0,2.2,72.0,8.0,22.0,20.0]|1743.84        |2915.8239031169824|\n",
      "|[28.9,0.0,3.1,60.0,8.0,23.0,14.0]|1600.56        |3581.4781345658334|\n",
      "|[26.7,0.0,1.9,83.0,8.0,20.0,9.0] |2838.96        |3663.919901193491 |\n",
      "|[27.6,0.0,3.0,76.0,8.0,22.0,10.0]|2044.8         |3627.897877204568 |\n",
      "|[27.6,0.0,3.3,70.0,8.0,22.0,19.0]|1789.2         |3103.0163557127357|\n",
      "|[29.1,0.0,2.2,76.0,8.0,21.0,11.0]|7610.4         |3733.869231772592 |\n",
      "|[30.2,0.0,2.7,65.0,8.0,22.0,14.0]|1435.68        |3611.8554733085934|\n",
      "|[28.6,0.0,3.6,61.0,8.0,22.0,17.0]|1940.4         |3459.5060655632587|\n",
      "|[30.8,0.0,2.5,69.0,8.0,20.0,18.0]|7332.48        |3558.867810757798 |\n",
      "|[25.6,0.0,2.4,82.0,8.0,21.0,8.0] |5937.12        |3405.866176421386 |\n",
      "|[25.6,0.0,1.3,82.0,8.0,22.0,5.0] |2038.32        |1958.4917781274612|\n",
      "|[26.9,0.0,1.6,61.0,8.0,24.0,17.0]|2461.68        |3829.432465857995 |\n",
      "|[26.0,0.0,2.0,94.0,8.0,20.0,5.0] |2227.68        |1961.575870046683 |\n",
      "|[25.8,0.0,2.4,95.0,8.0,20.0,6.0] |2226.24        |2005.400781982691 |\n",
      "|[25.8,0.0,1.4,83.0,8.0,23.0,11.0]|2160.0         |3835.253259885946 |\n",
      "|[30.2,0.0,1.9,70.0,8.0,21.0,12.0]|7640.64        |4002.3547639735684|\n",
      "|[28.1,0.0,2.0,75.0,8.0,21.0,21.0]|1748.16        |2380.461915524128 |\n",
      "|[26.0,0.0,2.4,95.0,8.0,20.0,4.0] |2056.32        |1945.990033806383 |\n",
      "|[31.8,0.0,2.6,64.0,8.0,20.0,15.0]|7546.32        |3514.254626445397 |\n",
      "|[26.3,0.0,3.2,95.0,8.0,20.0,2.0] |2049.12        |1935.0658646535005|\n",
      "|[23.1,0.0,0.7,88.0,8.0,23.0,1.0] |1972.08        |1898.9746873116183|\n",
      "|[26.2,0.0,1.3,82.0,8.0,21.0,9.0] |7240.32        |3652.6628472536972|\n",
      "|[22.4,0.0,2.6,68.0,8.0,24.0,5.0] |2117.52        |1923.0490414280846|\n",
      "|[25.2,0.0,3.1,65.0,8.0,23.0,21.0]|1723.68        |2243.4645110031706|\n",
      "|[25.7,0.0,2.5,84.0,8.0,22.0,7.0] |1908.72        |2113.284056656309 |\n",
      "|[26.2,0.0,2.5,63.0,8.0,24.0,18.0]|1997.28        |3419.6317322844047|\n",
      "|[28.6,0.0,2.8,69.0,8.0,21.0,20.0]|1821.6         |2912.2839871343517|\n",
      "|[28.1,0.0,3.2,63.0,8.0,22.0,18.0]|1892.88        |3364.8174377764512|\n",
      "|[27.6,0.0,2.9,61.0,8.0,24.0,13.0]|3301.2         |3715.419915158316 |\n",
      "|[27.1,0.0,1.5,81.0,8.0,22.0,0.0] |1959.12        |1979.9959913693106|\n",
      "|[26.6,0.0,2.8,95.0,8.0,20.0,1.0] |2089.44        |1935.6649382676906|\n",
      "|[24.6,1.3,3.1,75.0,8.0,22.0,22.0]|1720.08        |2295.600224930562 |\n",
      "|[23.8,0.0,1.4,70.0,8.0,24.0,23.0]|1543.68        |2158.8666822577034|\n",
      "|[23.0,0.1,2.1,93.0,8.0,23.0,4.0] |1953.36        |1923.2404806670474|\n",
      "|[29.5,0.0,4.0,65.0,8.0,22.0,16.0]|1506.96        |3467.0487555597624|\n",
      "|[25.5,0.0,1.8,82.0,8.0,22.0,6.0] |1881.36        |2000.9614283420265|\n",
      "|[27.7,0.0,2.2,61.0,8.0,24.0,12.0]|3003.84        |3771.395231874344 |\n",
      "|[27.3,0.0,0.6,78.0,8.0,21.0,10.0]|7484.4         |3804.5652039123406|\n",
      "|[27.5,0.0,2.1,79.0,8.0,20.0,10.0]|3345.12        |3722.005050405615 |\n",
      "|[27.3,0.0,3.5,57.0,8.0,23.0,19.0]|1829.52        |2981.2931346673076|\n",
      "|[29.6,0.0,2.1,71.0,8.0,20.0,12.0]|7330.32        |3716.4255697387043|\n",
      "|[29.3,0.0,2.4,68.0,8.0,22.0,13.0]|2039.76        |3659.483956893605 |\n",
      "|[26.9,0.0,0.9,84.0,8.0,21.0,0.0] |1788.48        |1940.6457014646876|\n",
      "|[29.5,0.0,2.8,65.0,8.0,22.0,15.0]|1402.56        |3609.8417436978243|\n",
      "|[24.7,0.0,3.7,66.0,8.0,24.0,9.0] |3335.04        |3406.352730629538 |\n",
      "|[30.0,0.0,2.8,60.0,8.0,23.0,16.0]|1649.52        |3489.7224357828036|\n",
      "|[26.6,0.0,2.8,81.0,8.0,22.0,9.0] |2005.2         |3633.42482123946  |\n",
      "|[23.5,0.0,0.1,70.0,8.0,23.0,23.0]|1674.72        |2141.779704325015 |\n",
      "|[26.0,0.0,4.2,65.0,8.0,24.0,10.0]|3516.48        |3341.484950929152 |\n",
      "|[31.7,0.0,2.3,64.0,8.0,20.0,14.0]|7550.64        |3536.9679993354225|\n",
      "|[25.7,0.0,1.5,83.0,8.0,22.0,4.0] |1981.44        |1938.921366750701 |\n",
      "|[25.5,0.0,2.2,82.0,8.0,21.0,4.0] |1782.0         |1953.721231071594 |\n",
      "|[31.3,0.0,1.5,63.0,8.0,21.0,14.0]|7642.08        |3988.6327481287085|\n",
      "|[26.7,0.0,1.1,85.0,8.0,21.0,2.0] |1752.48        |1942.9065150586598|\n",
      "|[22.6,0.0,2.7,69.0,8.0,24.0,7.0] |2355.12        |2077.876796052798 |\n",
      "|[26.2,0.0,2.4,95.0,8.0,20.0,3.0] |2024.64        |1935.5288491209933|\n",
      "|[22.7,0.0,2.6,72.0,8.0,24.0,3.0] |1876.32        |1889.0685786718666|\n",
      "|[22.5,0.8,1.8,95.0,8.0,23.0,5.0] |1965.6         |1873.4769439666677|\n",
      "|[24.1,0.0,2.1,70.0,8.0,24.0,22.0]|1568.16        |2193.72850614483  |\n",
      "|[25.9,0.0,1.2,81.0,8.0,22.0,3.0] |1955.52        |1947.7069604240846|\n",
      "|[22.4,0.9,1.8,96.0,8.0,23.0,6.0] |1866.96        |1917.700234567713 |\n",
      "|[29.6,0.0,3.0,72.0,8.0,20.0,19.0]|6814.08        |3215.5922902295342|\n",
      "|[26.7,0.0,3.2,63.0,8.0,24.0,11.0]|2995.2         |3671.47067243493  |\n",
      "|[27.1,0.0,1.4,62.0,8.0,24.0,14.0]|2743.92        |3845.728138920028 |\n",
      "|[22.6,0.4,1.8,95.0,8.0,23.0,7.0] |1926.72        |2078.548712604289 |\n",
      "|[23.0,0.0,1.6,70.0,8.0,24.0,0.0] |1928.88        |1924.2990233950095|\n",
      "|[26.2,0.0,2.3,83.0,8.0,22.0,8.0] |1975.68        |3495.0420692417088|\n",
      "|[30.9,0.0,2.5,63.0,8.0,21.0,18.0]|3407.76        |3425.3018082569206|\n",
      "|[26.8,0.0,0.7,83.0,8.0,22.0,1.0] |1964.16        |1940.1561890879932|\n",
      "|[27.0,0.0,2.4,76.0,8.0,22.0,21.0]|1736.64        |2412.4395228820817|\n",
      "|[29.8,0.0,2.7,54.0,8.0,23.0,15.0]|1542.96        |3556.9022796480776|\n",
      "|[26.8,0.0,0.4,83.0,8.0,21.0,1.0] |1761.84        |1940.1561890879932|\n",
      "|[26.1,0.0,3.9,65.0,8.0,23.0,20.0]|1762.56        |2717.8663565622073|\n",
      "|[22.7,0.0,1.9,74.0,8.0,24.0,1.0] |1941.84        |1889.0685786718666|\n",
      "|[28.1,0.0,3.3,65.0,8.0,23.0,13.0]|2200.32        |3588.2340251613587|\n",
      "|[22.9,0.0,1.4,94.0,8.0,23.0,8.0] |2091.6         |3410.396968496572 |\n",
      "|[25.7,0.0,2.9,92.0,8.0,20.0,7.0] |2384.64        |2120.435266033498 |\n",
      "|[26.3,0.0,1.1,85.0,8.0,21.0,3.0] |1768.32        |1942.307441444469 |\n",
      "|[27.9,0.0,1.5,79.0,8.0,20.0,21.0]|3669.84        |2418.715248818596 |\n",
      "|[24.9,0.0,1.5,85.0,8.0,21.0,6.0] |2160.0         |1991.5359509830855|\n",
      "|[31.5,0.0,2.9,64.0,8.0,20.0,17.0]|7523.28        |3451.7684633505255|\n",
      "|[27.4,0.0,1.0,79.0,8.0,21.0,23.0]|1678.32        |2299.291167421275 |\n",
      "|[24.8,0.0,1.3,87.0,8.0,23.0,10.0]|2159.28        |3688.3624100015445|\n",
      "|[31.6,0.0,3.4,65.0,8.0,20.0,16.0]|7572.24        |3545.184732049087 |\n",
      "|[28.9,0.0,3.0,70.0,8.0,22.0,12.0]|2041.2         |3593.833344169078 |\n",
      "|[23.8,0.0,3.9,66.0,8.0,24.0,8.0] |2802.24        |3218.2716654155915|\n",
      "|[27.2,0.0,2.1,76.0,8.0,23.0,12.0]|2211.84        |3837.304751133729 |\n",
      "+---------------------------------+---------------+------------------+\n",
      "\n"
     ]
    }
   ],
   "source": [
    "predictions[5].show(predictions[5].count(), truncate=False)"
   ]
  },
  {
   "cell_type": "code",
   "execution_count": 132,
   "id": "05fa22f0",
   "metadata": {},
   "outputs": [
    {
     "name": "stderr",
     "output_type": "stream",
     "text": [
      "                                                                                \r"
     ]
    },
    {
     "name": "stdout",
     "output_type": "stream",
     "text": [
      "2059.2 3696.6753338984154\n",
      "1928.16 1892.761259764303\n",
      "3198.96 3806.5578718001966\n",
      "1713.6 2354.5895568884575\n",
      "2131.2 1956.2058950266003\n",
      "7683.84 4072.1906675475516\n",
      "2017.44 3194.288020891184\n",
      "1964.16 1898.9746873116183\n",
      "1908.72 1955.4482879348259\n",
      "1915.2 1889.0685786718666\n",
      "1604.88 2190.8178375262414\n",
      "6869.52 2888.7548303978397\n",
      "2081.52 1939.5937395958515\n",
      "1721.52 2265.1764724682876\n",
      "2880.72 3683.1875732896747\n",
      "1859.04 2284.57059769141\n",
      "1941.12 1930.922534514489\n",
      "1671.84 2143.813808973959\n",
      "1969.92 2303.6110515959076\n",
      "7513.92 3700.6696557835567\n",
      "5895.36 3924.657448460814\n",
      "2607.84 3448.0348129387\n",
      "2169.36 3632.154993385017\n",
      "1776.24 2898.5994660137444\n",
      "1914.48 3434.5695443552777\n",
      "2071.44 3468.60468909693\n",
      "1675.44 2735.9172168469854\n",
      "1937.52 1936.6990998875035\n",
      "1956.24 1898.9746873116183\n",
      "7608.96 3539.6067248526642\n",
      "7486.56 3447.316435028898\n",
      "7017.84 3464.684715472132\n",
      "2662.56 2108.6920657613014\n",
      "3407.76 3425.3018082569206\n",
      "1964.16 1940.1561890879932\n",
      "1736.64 2412.4395228820817\n",
      "1542.96 3556.9022796480776\n",
      "1761.84 1940.1561890879932\n",
      "1762.56 2717.8663565622073\n",
      "1941.84 1889.0685786718666\n",
      "2200.32 3588.2340251613587\n",
      "2091.6 3410.396968496572\n",
      "2384.64 2120.435266033498\n",
      "1768.32 1942.307441444469\n",
      "3669.84 2418.715248818596\n",
      "2160.0 1991.5359509830855\n",
      "7523.28 3451.7684633505255\n",
      "1678.32 2299.291167421275\n",
      "2159.28 3688.3624100015445\n",
      "7572.24 3545.184732049087\n",
      "2041.2 3593.833344169078\n",
      "2802.24 3218.2716654155915\n",
      "2211.84 3837.304751133729\n",
      "1743.84 2915.8239031169824\n",
      "1600.56 3581.4781345658334\n",
      "2838.96 3663.919901193491\n",
      "2044.8 3627.897877204568\n",
      "1789.2 3103.0163557127357\n",
      "7610.4 3733.869231772592\n",
      "1435.68 3611.8554733085934\n",
      "1940.4 3459.5060655632587\n",
      "7332.48 3558.867810757798\n",
      "5937.12 3405.866176421386\n",
      "2038.32 1958.4917781274612\n",
      "2461.68 3829.432465857995\n",
      "2227.68 1961.575870046683\n",
      "2226.24 2005.400781982691\n",
      "2160.0 3835.253259885946\n",
      "7640.64 4002.3547639735684\n",
      "1748.16 2380.461915524128\n",
      "2056.32 1945.990033806383\n",
      "7546.32 3514.254626445397\n",
      "2049.12 1935.0658646535005\n",
      "1972.08 1898.9746873116183\n",
      "7240.32 3652.6628472536972\n",
      "2117.52 1923.0490414280846\n",
      "1723.68 2243.4645110031706\n",
      "1908.72 2113.284056656309\n",
      "1997.28 3419.6317322844047\n",
      "1821.6 2912.2839871343517\n",
      "1892.88 3364.8174377764512\n",
      "3301.2 3715.419915158316\n",
      "1959.12 1979.9959913693106\n",
      "2089.44 1935.6649382676906\n",
      "1720.08 2295.600224930562\n",
      "1543.68 2158.8666822577034\n",
      "1953.36 1923.2404806670474\n",
      "1506.96 3467.0487555597624\n",
      "1881.36 2000.9614283420265\n",
      "3003.84 3771.395231874344\n",
      "7484.4 3804.5652039123406\n",
      "3345.12 3722.005050405615\n",
      "1829.52 2981.2931346673076\n",
      "7330.32 3716.4255697387043\n",
      "2039.76 3659.483956893605\n",
      "1788.48 1940.6457014646876\n",
      "1402.56 3609.8417436978243\n",
      "3335.04 3406.352730629538\n",
      "1649.52 3489.7224357828036\n",
      "2005.2 3633.42482123946\n",
      "1674.72 2141.779704325015\n",
      "3516.48 3341.484950929152\n",
      "7550.64 3536.9679993354225\n",
      "1981.44 1938.921366750701\n",
      "1782.0 1953.721231071594\n",
      "7642.08 3988.6327481287085\n",
      "1752.48 1942.9065150586598\n",
      "2355.12 2077.876796052798\n",
      "2024.64 1935.5288491209933\n",
      "1876.32 1889.0685786718666\n",
      "1965.6 1873.4769439666677\n",
      "1568.16 2193.72850614483\n",
      "1955.52 1947.7069604240846\n",
      "1866.96 1917.700234567713\n",
      "6814.08 3215.5922902295342\n",
      "2995.2 3671.47067243493\n",
      "2743.92 3845.728138920028\n",
      "1926.72 2078.548712604289\n",
      "1928.88 1924.2990233950095\n",
      "1975.68 3495.0420692417088\n"
     ]
    },
    {
     "data": {
      "image/png": "[encoded data removed]",
      "text/plain": [
       "<Figure size 1000x600 with 1 Axes>"
      ]
     },
     "metadata": {},
     "output_type": "display_data"
    }
   ],
   "source": [
    "import pandas as pd\n",
    "import matplotlib.pyplot as plt\n",
    "\n",
    "select_sdf = predictions[5].select(\"전력소비량(kWh)\", \"prediction\")\n",
    "\n",
    "# Pandas DataFrame으로 변환\n",
    "select_pdf = select_sdf.toPandas()\n",
    "\n",
    "plt.figure(figsize=(10, 6))\n",
    "\n",
    "plt.plot(select_pdf.index.values, select_pdf[\"전력소비량(kWh)\"].values, label='Actual', color='#71B2D3')\n",
    "\n",
    "plt.plot(select_pdf.index.values, select_pdf[\"prediction\"].values, label='prediction', color='#EE8484')\n",
    "\n",
    "# 각 행의 두 요소를 순서대로 출력\n",
    "for index, row in select_pdf.iterrows():\n",
    "    print(row[\"전력소비량(kWh)\"], row[\"prediction\"])\n",
    "\n",
    "# 그래프 꾸미기\n",
    "plt.xlabel('x')\n",
    "plt.ylabel('y')\n",
    "plt.title('prediction')\n",
    "plt.legend()\n",
    "plt.grid(True)"
   ]
  },
  {
   "cell_type": "code",
   "execution_count": 133,
   "id": "0c014d17",
   "metadata": {},
   "outputs": [
    {
     "name": "stderr",
     "output_type": "stream",
     "text": [
      "                                                                                \r"
     ]
    },
    {
     "name": "stdout",
     "output_type": "stream",
     "text": [
      "8848.8 8811.203543285012\n",
      "8702.64 8785.583297640796\n",
      "8799.84 8803.256435371184\n",
      "8661.6 8654.423569503184\n",
      "8747.28 8783.411359107693\n",
      "8791.92 8801.161540311785\n",
      "8649.36 8648.043016044312\n",
      "8869.68 8834.615881538373\n",
      "8742.96 8795.00948665535\n",
      "8807.76 8833.69332668822\n",
      "8797.68 8814.02997541988\n",
      "8880.48 8832.87566417007\n",
      "8946.0 8824.009732556115\n",
      "8896.32 8809.856701868324\n",
      "8799.12 8783.578577584412\n",
      "8670.24 8773.49344684346\n",
      "8769.6 8807.639141633854\n",
      "8651.52 8648.043016044312\n",
      "8824.32 8869.59508680851\n",
      "8807.04 8820.466141197121\n",
      "8819.28 8821.759235240355\n",
      "8718.48 8712.657706933709\n",
      "8848.08 8825.140824678709\n",
      "8904.96 8801.591576695897\n",
      "8799.84 8830.182564330476\n",
      "8656.56 8654.328560806798\n",
      "8727.84 8713.441467400718\n",
      "8725.68 8661.486676068833\n",
      "8841.6 8789.666020410801\n",
      "8893.44 8848.989885968498\n",
      "8766.72 8786.121532050724\n",
      "8819.28 8818.153573442642\n",
      "8642.16 8626.630121760845\n",
      "8824.32 8791.441700797355\n",
      "8807.04 8856.9943989491\n",
      "8799.84 8832.716063615027\n",
      "8899.2 8797.084070110866\n",
      "8881.2 8815.490878808701\n",
      "8694.0 8705.797962130498\n",
      "8816.4 8805.349740794674\n",
      "8786.88 8812.196991603825\n",
      "8865.36 8836.536391198217\n",
      "8762.4 8797.021347461741\n",
      "8735.04 8783.914880583174\n",
      "8818.56 8819.536032682141\n",
      "8807.04 8828.122490347008\n",
      "8831.52 8812.481376924514\n",
      "8911.44 8873.433064892872\n",
      "8781.12 8801.35972325202\n",
      "8892.72 8833.334365351893\n",
      "8702.64 8778.349390159337\n",
      "8616.24 8623.42199981583\n",
      "8737.92 8785.21453431709\n",
      "8734.32 8801.210129189381\n",
      "8722.08 8761.791204539606\n",
      "8912.16 8872.243418731383\n",
      "8745.84 8793.18300769406\n",
      "8694.0 8780.21018874476\n",
      "8883.36 8828.488780005917\n",
      "8688.24 8645.225684262683\n",
      "8668.8 8629.865068425874\n",
      "8691.12 8697.71974684812\n",
      "8675.28 8684.07665768889\n",
      "8868.24 8832.614044752652\n",
      "8852.4 8729.331441144606\n",
      "8789.04 8806.068634128129\n",
      "8578.8 8625.549340167963\n",
      "8712.0 8729.609814358431\n",
      "8888.4 8871.312733978175\n",
      "8791.92 8785.08814195633\n",
      "8794.8 8809.362311823948\n",
      "8811.36 8838.670936859931\n",
      "8685.36 8773.49344684346\n",
      "8685.36 8654.631809170438\n",
      "8896.32 8831.737623937594\n",
      "8925.12 8837.441525491882\n",
      "8865.36 8791.023083955366\n",
      "8863.2 8870.609798588051\n",
      "8773.2 8802.397493239985\n",
      "8897.04 8829.0752136565\n",
      "8731.44 8796.005646232185\n",
      "8676.72 8761.76902531748\n",
      "8821.44 8786.125228018875\n",
      "8708.4 8659.358605626574\n",
      "8592.48 8627.210146516925\n",
      "8741.52 8776.819600629507\n",
      "8677.44 8691.764722915004\n",
      "8611.2 8625.268554515791\n",
      "8586.0 8624.893091472311\n",
      "8839.44 8815.131333648036\n",
      "8800.56 8799.817306259685\n",
      "8713.44 8699.35637429152\n",
      "8799.12 8782.433717636257\n",
      "8723.52 8802.098668708124\n",
      "8724.96 8711.087148956649\n",
      "8951.04 8836.734057349919\n",
      "8865.36 8848.250940512393\n",
      "8686.8 8773.785542697517\n",
      "8899.92 8873.039284769879\n",
      "8766.72 8709.631232589882\n",
      "8826.48 8812.08356220749\n",
      "8731.44 8729.573821288483\n",
      "8789.76 8806.032607210655\n",
      "8721.36 8721.12362044501\n",
      "8869.68 8873.72318683186\n",
      "8724.24 8791.441700797355\n",
      "8822.16 8820.63160642812\n",
      "8840.88 8806.50941745803\n",
      "8724.24 8659.31569029941\n",
      "8786.16 8792.120993105049\n",
      "8854.56 8806.831345166054\n",
      "8692.56 8648.41847908779\n",
      "8696.88 8730.555890758691\n",
      "8861.04 8793.698808673113\n",
      "8718.48 8779.954570694683\n",
      "8863.92 8826.369292513224\n",
      "8896.32 8833.598047295422\n",
      "8657.28 8654.935719522235\n",
      "8848.8 8845.779215786397\n",
      "8882.64 8834.556936437511\n"
     ]
    },
    {
     "data": {
      "image/png": "[encoded data removed]",
      "text/plain": [
       "<Figure size 1000x600 with 1 Axes>"
      ]
     },
     "metadata": {},
     "output_type": "display_data"
    }
   ],
   "source": [
    "select_sdf_33 = predictions[33].select(\"전력소비량(kWh)\", \"prediction\")\n",
    "\n",
    "# Pandas DataFrame으로 변환\n",
    "select_pdf_33 = select_sdf_33.toPandas()\n",
    "\n",
    "plt.figure(figsize=(10, 6))\n",
    "\n",
    "plt.plot(select_pdf_33.index.values, select_pdf_33[\"전력소비량(kWh)\"].values, label='Actual', color='#71B2D3')\n",
    "\n",
    "plt.plot(select_pdf_33.index.values, select_pdf_33[\"prediction\"].values, label='prediction', color='#EE8484')\n",
    "\n",
    "# 각 행의 두 요소를 순서대로 출력\n",
    "for index, row in select_pdf_33.iterrows():\n",
    "    print(row[\"전력소비량(kWh)\"], row[\"prediction\"])\n",
    "\n",
    "# 그래프 꾸미기\n",
    "plt.xlabel('x')\n",
    "plt.ylabel('y')\n",
    "plt.title('prediction')\n",
    "plt.legend()\n",
    "plt.grid(True)"
   ]
  }
 ],
 "metadata": {
  "accelerator": "GPU",
  "colab": {
   "provenance": []
  },
  "gpuClass": "standard",
  "kernelspec": {
   "display_name": "Python 3 (ipykernel)",
   "language": "python",
   "name": "python3"
  },
  "language_info": {
   "codemirror_mode": {
    "name": "ipython",
    "version": 3
   },
   "file_extension": ".py",
   "mimetype": "text/x-python",
   "name": "python",
   "nbconvert_exporter": "python",
   "pygments_lexer": "ipython3",
   "version": "3.9.18"
  },
  "toc": {
   "base_numbering": 1,
   "nav_menu": {},
   "number_sections": true,
   "sideBar": true,
   "skip_h1_title": false,
   "title_cell": "Table of Contents",
   "title_sidebar": "Contents",
   "toc_cell": false,
   "toc_position": {},
   "toc_section_display": true,
   "toc_window_display": false
  },
  "widgets": {
   "application/vnd.jupyter.widget-state+json": {
    "09436c3ae2a44a8ca51ee1103b963ada": {
     "model_module": "@jupyter-widgets/base",
     "model_module_version": "1.2.0",
     "model_name": "LayoutModel",
     "state": {
      "_model_module": "@jupyter-widgets/base",
      "_model_module_version": "1.2.0",
      "_model_name": "LayoutModel",
      "_view_count": null,
      "_view_module": "@jupyter-widgets/base",
      "_view_module_version": "1.2.0",
      "_view_name": "LayoutView",
      "align_content": null,
      "align_items": null,
      "align_self": null,
      "border": null,
      "bottom": null,
      "display": null,
      "flex": null,
      "flex_flow": null,
      "grid_area": null,
      "grid_auto_columns": null,
      "grid_auto_flow": null,
      "grid_auto_rows": null,
      "grid_column": null,
      "grid_gap": null,
      "grid_row": null,
      "grid_template_areas": null,
      "grid_template_columns": null,
      "grid_template_rows": null,
      "height": null,
      "justify_content": null,
      "justify_items": null,
      "left": null,
      "margin": null,
      "max_height": null,
      "max_width": null,
      "min_height": null,
      "min_width": null,
      "object_fit": null,
      "object_position": null,
      "order": null,
      "overflow": null,
      "overflow_x": null,
      "overflow_y": null,
      "padding": null,
      "right": null,
      "top": null,
      "visibility": null,
      "width": null
     }
    },
    "29d20f64d430441ea9364b13dfef101b": {
     "model_module": "@jupyter-widgets/base",
     "model_module_version": "1.2.0",
     "model_name": "LayoutModel",
     "state": {
      "_model_module": "@jupyter-widgets/base",
      "_model_module_version": "1.2.0",
      "_model_name": "LayoutModel",
      "_view_count": null,
      "_view_module": "@jupyter-widgets/base",
      "_view_module_version": "1.2.0",
      "_view_name": "LayoutView",
      "align_content": null,
      "align_items": null,
      "align_self": null,
      "border": null,
      "bottom": null,
      "display": null,
      "flex": null,
      "flex_flow": null,
      "grid_area": null,
      "grid_auto_columns": null,
      "grid_auto_flow": null,
      "grid_auto_rows": null,
      "grid_column": null,
      "grid_gap": null,
      "grid_row": null,
      "grid_template_areas": null,
      "grid_template_columns": null,
      "grid_template_rows": null,
      "height": null,
      "justify_content": null,
      "justify_items": null,
      "left": null,
      "margin": null,
      "max_height": null,
      "max_width": null,
      "min_height": null,
      "min_width": null,
      "object_fit": null,
      "object_position": null,
      "order": null,
      "overflow": null,
      "overflow_x": null,
      "overflow_y": null,
      "padding": null,
      "right": null,
      "top": null,
      "visibility": null,
      "width": null
     }
    },
    "4a9ef407319c43bcb20106c47f0db180": {
     "model_module": "@jupyter-widgets/controls",
     "model_module_version": "1.5.0",
     "model_name": "HTMLModel",
     "state": {
      "_dom_classes": [],
      "_model_module": "@jupyter-widgets/controls",
      "_model_module_version": "1.5.0",
      "_model_name": "HTMLModel",
      "_view_count": null,
      "_view_module": "@jupyter-widgets/controls",
      "_view_module_version": "1.5.0",
      "_view_name": "HTMLView",
      "description": "",
      "description_tooltip": null,
      "layout": "IPY_MODEL_09436c3ae2a44a8ca51ee1103b963ada",
      "placeholder": "​",
      "style": "IPY_MODEL_f6d802990a2344db99bf282c663efa5a",
      "value": "100%"
     }
    },
    "4c356887768a4330ab0b0eec28984484": {
     "model_module": "@jupyter-widgets/controls",
     "model_module_version": "1.5.0",
     "model_name": "DescriptionStyleModel",
     "state": {
      "_model_module": "@jupyter-widgets/controls",
      "_model_module_version": "1.5.0",
      "_model_name": "DescriptionStyleModel",
      "_view_count": null,
      "_view_module": "@jupyter-widgets/base",
      "_view_module_version": "1.2.0",
      "_view_name": "StyleView",
      "description_width": ""
     }
    },
    "520b45d5f972463da632a32f96c71ee4": {
     "model_module": "@jupyter-widgets/controls",
     "model_module_version": "1.5.0",
     "model_name": "HTMLModel",
     "state": {
      "_dom_classes": [],
      "_model_module": "@jupyter-widgets/controls",
      "_model_module_version": "1.5.0",
      "_model_name": "HTMLModel",
      "_view_count": null,
      "_view_module": "@jupyter-widgets/controls",
      "_view_module_version": "1.5.0",
      "_view_name": "HTMLView",
      "description": "",
      "description_tooltip": null,
      "layout": "IPY_MODEL_29d20f64d430441ea9364b13dfef101b",
      "placeholder": "​",
      "style": "IPY_MODEL_e7d3b9b9d1224868988e665b4c677357",
      "value": " 1881/1881 [00:24&lt;00:00, 97.61it/s]"
     }
    },
    "53ccb4062ee94e0c84618143ff39ce05": {
     "model_module": "@jupyter-widgets/base",
     "model_module_version": "1.2.0",
     "model_name": "LayoutModel",
     "state": {
      "_model_module": "@jupyter-widgets/base",
      "_model_module_version": "1.2.0",
      "_model_name": "LayoutModel",
      "_view_count": null,
      "_view_module": "@jupyter-widgets/base",
      "_view_module_version": "1.2.0",
      "_view_name": "LayoutView",
      "align_content": null,
      "align_items": null,
      "align_self": null,
      "border": null,
      "bottom": null,
      "display": null,
      "flex": null,
      "flex_flow": null,
      "grid_area": null,
      "grid_auto_columns": null,
      "grid_auto_flow": null,
      "grid_auto_rows": null,
      "grid_column": null,
      "grid_gap": null,
      "grid_row": null,
      "grid_template_areas": null,
      "grid_template_columns": null,
      "grid_template_rows": null,
      "height": null,
      "justify_content": null,
      "justify_items": null,
      "left": null,
      "margin": null,
      "max_height": null,
      "max_width": null,
      "min_height": null,
      "min_width": null,
      "object_fit": null,
      "object_position": null,
      "order": null,
      "overflow": null,
      "overflow_x": null,
      "overflow_y": null,
      "padding": null,
      "right": null,
      "top": null,
      "visibility": null,
      "width": null
     }
    },
    "55e857853048445b87cea2de151ba035": {
     "model_module": "@jupyter-widgets/base",
     "model_module_version": "1.2.0",
     "model_name": "LayoutModel",
     "state": {
      "_model_module": "@jupyter-widgets/base",
      "_model_module_version": "1.2.0",
      "_model_name": "LayoutModel",
      "_view_count": null,
      "_view_module": "@jupyter-widgets/base",
      "_view_module_version": "1.2.0",
      "_view_name": "LayoutView",
      "align_content": null,
      "align_items": null,
      "align_self": null,
      "border": null,
      "bottom": null,
      "display": null,
      "flex": null,
      "flex_flow": null,
      "grid_area": null,
      "grid_auto_columns": null,
      "grid_auto_flow": null,
      "grid_auto_rows": null,
      "grid_column": null,
      "grid_gap": null,
      "grid_row": null,
      "grid_template_areas": null,
      "grid_template_columns": null,
      "grid_template_rows": null,
      "height": null,
      "justify_content": null,
      "justify_items": null,
      "left": null,
      "margin": null,
      "max_height": null,
      "max_width": null,
      "min_height": null,
      "min_width": null,
      "object_fit": null,
      "object_position": null,
      "order": null,
      "overflow": null,
      "overflow_x": null,
      "overflow_y": null,
      "padding": null,
      "right": null,
      "top": null,
      "visibility": null,
      "width": null
     }
    },
    "790f3379b0364c88ae6bdec739b97248": {
     "model_module": "@jupyter-widgets/base",
     "model_module_version": "1.2.0",
     "model_name": "LayoutModel",
     "state": {
      "_model_module": "@jupyter-widgets/base",
      "_model_module_version": "1.2.0",
      "_model_name": "LayoutModel",
      "_view_count": null,
      "_view_module": "@jupyter-widgets/base",
      "_view_module_version": "1.2.0",
      "_view_name": "LayoutView",
      "align_content": null,
      "align_items": null,
      "align_self": null,
      "border": null,
      "bottom": null,
      "display": null,
      "flex": null,
      "flex_flow": null,
      "grid_area": null,
      "grid_auto_columns": null,
      "grid_auto_flow": null,
      "grid_auto_rows": null,
      "grid_column": null,
      "grid_gap": null,
      "grid_row": null,
      "grid_template_areas": null,
      "grid_template_columns": null,
      "grid_template_rows": null,
      "height": null,
      "justify_content": null,
      "justify_items": null,
      "left": null,
      "margin": null,
      "max_height": null,
      "max_width": null,
      "min_height": null,
      "min_width": null,
      "object_fit": null,
      "object_position": null,
      "order": null,
      "overflow": null,
      "overflow_x": null,
      "overflow_y": null,
      "padding": null,
      "right": null,
      "top": null,
      "visibility": null,
      "width": null
     }
    },
    "7a0c9eaf1d1e4a56a195dff77a7ed5f9": {
     "model_module": "@jupyter-widgets/controls",
     "model_module_version": "1.5.0",
     "model_name": "FloatProgressModel",
     "state": {
      "_dom_classes": [],
      "_model_module": "@jupyter-widgets/controls",
      "_model_module_version": "1.5.0",
      "_model_name": "FloatProgressModel",
      "_view_count": null,
      "_view_module": "@jupyter-widgets/controls",
      "_view_module_version": "1.5.0",
      "_view_name": "ProgressView",
      "bar_style": "success",
      "description": "",
      "description_tooltip": null,
      "layout": "IPY_MODEL_bb35a24296ed455a872731cef7333ffb",
      "max": 5001,
      "min": 0,
      "orientation": "horizontal",
      "style": "IPY_MODEL_dc7da92e2f454f79b07c3ca86c3cc9d4",
      "value": 5001
     }
    },
    "911d4b1f888540eb96b8b6a48134f078": {
     "model_module": "@jupyter-widgets/base",
     "model_module_version": "1.2.0",
     "model_name": "LayoutModel",
     "state": {
      "_model_module": "@jupyter-widgets/base",
      "_model_module_version": "1.2.0",
      "_model_name": "LayoutModel",
      "_view_count": null,
      "_view_module": "@jupyter-widgets/base",
      "_view_module_version": "1.2.0",
      "_view_name": "LayoutView",
      "align_content": null,
      "align_items": null,
      "align_self": null,
      "border": null,
      "bottom": null,
      "display": null,
      "flex": null,
      "flex_flow": null,
      "grid_area": null,
      "grid_auto_columns": null,
      "grid_auto_flow": null,
      "grid_auto_rows": null,
      "grid_column": null,
      "grid_gap": null,
      "grid_row": null,
      "grid_template_areas": null,
      "grid_template_columns": null,
      "grid_template_rows": null,
      "height": null,
      "justify_content": null,
      "justify_items": null,
      "left": null,
      "margin": null,
      "max_height": null,
      "max_width": null,
      "min_height": null,
      "min_width": null,
      "object_fit": null,
      "object_position": null,
      "order": null,
      "overflow": null,
      "overflow_x": null,
      "overflow_y": null,
      "padding": null,
      "right": null,
      "top": null,
      "visibility": null,
      "width": null
     }
    },
    "918b0c55f55f4b799fb41adb002c5f1f": {
     "model_module": "@jupyter-widgets/controls",
     "model_module_version": "1.5.0",
     "model_name": "HBoxModel",
     "state": {
      "_dom_classes": [],
      "_model_module": "@jupyter-widgets/controls",
      "_model_module_version": "1.5.0",
      "_model_name": "HBoxModel",
      "_view_count": null,
      "_view_module": "@jupyter-widgets/controls",
      "_view_module_version": "1.5.0",
      "_view_name": "HBoxView",
      "box_style": "",
      "children": [
       "IPY_MODEL_9a823940919d4e068c01e31276740b0f",
       "IPY_MODEL_9fe2d03a06474596b0547d0410da8064",
       "IPY_MODEL_520b45d5f972463da632a32f96c71ee4"
      ],
      "layout": "IPY_MODEL_911d4b1f888540eb96b8b6a48134f078"
     }
    },
    "9a823940919d4e068c01e31276740b0f": {
     "model_module": "@jupyter-widgets/controls",
     "model_module_version": "1.5.0",
     "model_name": "HTMLModel",
     "state": {
      "_dom_classes": [],
      "_model_module": "@jupyter-widgets/controls",
      "_model_module_version": "1.5.0",
      "_model_name": "HTMLModel",
      "_view_count": null,
      "_view_module": "@jupyter-widgets/controls",
      "_view_module_version": "1.5.0",
      "_view_name": "HTMLView",
      "description": "",
      "description_tooltip": null,
      "layout": "IPY_MODEL_53ccb4062ee94e0c84618143ff39ce05",
      "placeholder": "​",
      "style": "IPY_MODEL_df5b9e6414d449f0961eecec22b16991",
      "value": "100%"
     }
    },
    "9fe2d03a06474596b0547d0410da8064": {
     "model_module": "@jupyter-widgets/controls",
     "model_module_version": "1.5.0",
     "model_name": "FloatProgressModel",
     "state": {
      "_dom_classes": [],
      "_model_module": "@jupyter-widgets/controls",
      "_model_module_version": "1.5.0",
      "_model_name": "FloatProgressModel",
      "_view_count": null,
      "_view_module": "@jupyter-widgets/controls",
      "_view_module_version": "1.5.0",
      "_view_name": "ProgressView",
      "bar_style": "success",
      "description": "",
      "description_tooltip": null,
      "layout": "IPY_MODEL_790f3379b0364c88ae6bdec739b97248",
      "max": 1881,
      "min": 0,
      "orientation": "horizontal",
      "style": "IPY_MODEL_e5a69cc464fe42f6be81a34ed57b1686",
      "value": 1881
     }
    },
    "a194d82dd952480387bf1f599a8e52e5": {
     "model_module": "@jupyter-widgets/base",
     "model_module_version": "1.2.0",
     "model_name": "LayoutModel",
     "state": {
      "_model_module": "@jupyter-widgets/base",
      "_model_module_version": "1.2.0",
      "_model_name": "LayoutModel",
      "_view_count": null,
      "_view_module": "@jupyter-widgets/base",
      "_view_module_version": "1.2.0",
      "_view_name": "LayoutView",
      "align_content": null,
      "align_items": null,
      "align_self": null,
      "border": null,
      "bottom": null,
      "display": null,
      "flex": null,
      "flex_flow": null,
      "grid_area": null,
      "grid_auto_columns": null,
      "grid_auto_flow": null,
      "grid_auto_rows": null,
      "grid_column": null,
      "grid_gap": null,
      "grid_row": null,
      "grid_template_areas": null,
      "grid_template_columns": null,
      "grid_template_rows": null,
      "height": null,
      "justify_content": null,
      "justify_items": null,
      "left": null,
      "margin": null,
      "max_height": null,
      "max_width": null,
      "min_height": null,
      "min_width": null,
      "object_fit": null,
      "object_position": null,
      "order": null,
      "overflow": null,
      "overflow_x": null,
      "overflow_y": null,
      "padding": null,
      "right": null,
      "top": null,
      "visibility": null,
      "width": null
     }
    },
    "bb35a24296ed455a872731cef7333ffb": {
     "model_module": "@jupyter-widgets/base",
     "model_module_version": "1.2.0",
     "model_name": "LayoutModel",
     "state": {
      "_model_module": "@jupyter-widgets/base",
      "_model_module_version": "1.2.0",
      "_model_name": "LayoutModel",
      "_view_count": null,
      "_view_module": "@jupyter-widgets/base",
      "_view_module_version": "1.2.0",
      "_view_name": "LayoutView",
      "align_content": null,
      "align_items": null,
      "align_self": null,
      "border": null,
      "bottom": null,
      "display": null,
      "flex": null,
      "flex_flow": null,
      "grid_area": null,
      "grid_auto_columns": null,
      "grid_auto_flow": null,
      "grid_auto_rows": null,
      "grid_column": null,
      "grid_gap": null,
      "grid_row": null,
      "grid_template_areas": null,
      "grid_template_columns": null,
      "grid_template_rows": null,
      "height": null,
      "justify_content": null,
      "justify_items": null,
      "left": null,
      "margin": null,
      "max_height": null,
      "max_width": null,
      "min_height": null,
      "min_width": null,
      "object_fit": null,
      "object_position": null,
      "order": null,
      "overflow": null,
      "overflow_x": null,
      "overflow_y": null,
      "padding": null,
      "right": null,
      "top": null,
      "visibility": null,
      "width": null
     }
    },
    "d5a7c1d85e63402ebd0c36cb6883ab33": {
     "model_module": "@jupyter-widgets/controls",
     "model_module_version": "1.5.0",
     "model_name": "HTMLModel",
     "state": {
      "_dom_classes": [],
      "_model_module": "@jupyter-widgets/controls",
      "_model_module_version": "1.5.0",
      "_model_name": "HTMLModel",
      "_view_count": null,
      "_view_module": "@jupyter-widgets/controls",
      "_view_module_version": "1.5.0",
      "_view_name": "HTMLView",
      "description": "",
      "description_tooltip": null,
      "layout": "IPY_MODEL_a194d82dd952480387bf1f599a8e52e5",
      "placeholder": "​",
      "style": "IPY_MODEL_4c356887768a4330ab0b0eec28984484",
      "value": " 5001/5001 [01:11&lt;00:00, 106.18it/s]"
     }
    },
    "dc7da92e2f454f79b07c3ca86c3cc9d4": {
     "model_module": "@jupyter-widgets/controls",
     "model_module_version": "1.5.0",
     "model_name": "ProgressStyleModel",
     "state": {
      "_model_module": "@jupyter-widgets/controls",
      "_model_module_version": "1.5.0",
      "_model_name": "ProgressStyleModel",
      "_view_count": null,
      "_view_module": "@jupyter-widgets/base",
      "_view_module_version": "1.2.0",
      "_view_name": "StyleView",
      "bar_color": null,
      "description_width": ""
     }
    },
    "df5b9e6414d449f0961eecec22b16991": {
     "model_module": "@jupyter-widgets/controls",
     "model_module_version": "1.5.0",
     "model_name": "DescriptionStyleModel",
     "state": {
      "_model_module": "@jupyter-widgets/controls",
      "_model_module_version": "1.5.0",
      "_model_name": "DescriptionStyleModel",
      "_view_count": null,
      "_view_module": "@jupyter-widgets/base",
      "_view_module_version": "1.2.0",
      "_view_name": "StyleView",
      "description_width": ""
     }
    },
    "e5a69cc464fe42f6be81a34ed57b1686": {
     "model_module": "@jupyter-widgets/controls",
     "model_module_version": "1.5.0",
     "model_name": "ProgressStyleModel",
     "state": {
      "_model_module": "@jupyter-widgets/controls",
      "_model_module_version": "1.5.0",
      "_model_name": "ProgressStyleModel",
      "_view_count": null,
      "_view_module": "@jupyter-widgets/base",
      "_view_module_version": "1.2.0",
      "_view_name": "StyleView",
      "bar_color": null,
      "description_width": ""
     }
    },
    "e7d3b9b9d1224868988e665b4c677357": {
     "model_module": "@jupyter-widgets/controls",
     "model_module_version": "1.5.0",
     "model_name": "DescriptionStyleModel",
     "state": {
      "_model_module": "@jupyter-widgets/controls",
      "_model_module_version": "1.5.0",
      "_model_name": "DescriptionStyleModel",
      "_view_count": null,
      "_view_module": "@jupyter-widgets/base",
      "_view_module_version": "1.2.0",
      "_view_name": "StyleView",
      "description_width": ""
     }
    },
    "f6d802990a2344db99bf282c663efa5a": {
     "model_module": "@jupyter-widgets/controls",
     "model_module_version": "1.5.0",
     "model_name": "DescriptionStyleModel",
     "state": {
      "_model_module": "@jupyter-widgets/controls",
      "_model_module_version": "1.5.0",
      "_model_name": "DescriptionStyleModel",
      "_view_count": null,
      "_view_module": "@jupyter-widgets/base",
      "_view_module_version": "1.2.0",
      "_view_name": "StyleView",
      "description_width": ""
     }
    },
    "fca0079f6a714ac7885e1474711d7913": {
     "model_module": "@jupyter-widgets/controls",
     "model_module_version": "1.5.0",
     "model_name": "HBoxModel",
     "state": {
      "_dom_classes": [],
      "_model_module": "@jupyter-widgets/controls",
      "_model_module_version": "1.5.0",
      "_model_name": "HBoxModel",
      "_view_count": null,
      "_view_module": "@jupyter-widgets/controls",
      "_view_module_version": "1.5.0",
      "_view_name": "HBoxView",
      "box_style": "",
      "children": [
       "IPY_MODEL_4a9ef407319c43bcb20106c47f0db180",
       "IPY_MODEL_7a0c9eaf1d1e4a56a195dff77a7ed5f9",
       "IPY_MODEL_d5a7c1d85e63402ebd0c36cb6883ab33"
      ],
      "layout": "IPY_MODEL_55e857853048445b87cea2de151ba035"
     }
    }
   }
  }
 },
 "nbformat": 4,
 "nbformat_minor": 5
}
